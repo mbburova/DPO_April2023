{
 "cells": [
  {
   "cell_type": "markdown",
   "metadata": {},
   "source": [
    "Центр непрерывного образования\n",
    "\n",
    "# Программа «Python для автоматизации и анализа данных»"
   ]
  },
  {
   "cell_type": "markdown",
   "metadata": {
    "id": "nkBj5Zg7BkoG"
   },
   "source": [
    "## Словари\n",
    "\n"
   ]
  },
  {
   "cell_type": "markdown",
   "metadata": {
    "id": "mKowAM_OBpPk"
   },
   "source": [
    "Словари(dict) в Python - неупорядоченные коллекции произвольных объектов с доступом по ключу. Их иногда ещё называют ассоциативными массивами или хеш-таблицами."
   ]
  },
  {
   "cell_type": "markdown",
   "metadata": {
    "id": "VUzAmsF7Bvm6"
   },
   "source": [
    "### Первый способ создать словарь:"
   ]
  },
  {
   "cell_type": "code",
   "execution_count": 1,
   "metadata": {
    "id": "YfmKvrh7B8ms"
   },
   "outputs": [],
   "source": [
    "# Пустой словарь\n",
    "empty_dict = {}\n",
    "# Словарь с двумя парами ключ-значение\n",
    "value_dict = {'cat': 'кошка', 'dog': \"собака\"}"
   ]
  },
  {
   "cell_type": "code",
   "execution_count": 4,
   "metadata": {},
   "outputs": [
    {
     "data": {
      "text/plain": [
       "dict"
      ]
     },
     "execution_count": 4,
     "metadata": {},
     "output_type": "execute_result"
    }
   ],
   "source": [
    "type(value_dict)"
   ]
  },
  {
   "cell_type": "markdown",
   "metadata": {
    "id": "FUrf4uzDCDnm"
   },
   "source": [
    "### Второй способ создать словарь:"
   ]
  },
  {
   "cell_type": "code",
   "execution_count": 7,
   "metadata": {
    "id": "lO8FFoZgBu4n"
   },
   "outputs": [],
   "source": [
    "dct = dict(cat='кошка', dog=\"собака\")"
   ]
  },
  {
   "cell_type": "code",
   "execution_count": 8,
   "metadata": {
    "colab": {
     "base_uri": "https://localhost:8080/"
    },
    "id": "pEeLYtUJBp3C",
    "outputId": "1ebf7033-38dd-49fb-8597-77d3a2823e93"
   },
   "outputs": [
    {
     "data": {
      "text/plain": [
       "{'cat': 'кошка', 'dog': 'собака'}"
      ]
     },
     "execution_count": 8,
     "metadata": {},
     "output_type": "execute_result"
    }
   ],
   "source": [
    "dct"
   ]
  },
  {
   "cell_type": "markdown",
   "metadata": {
    "id": "ATccfIIQCiFh"
   },
   "source": [
    "## Вернуть значение ключа"
   ]
  },
  {
   "cell_type": "code",
   "execution_count": 10,
   "metadata": {
    "colab": {
     "base_uri": "https://localhost:8080/",
     "height": 35
    },
    "id": "MAC8aHOyClgf",
    "outputId": "e311a550-a0f3-44ed-fa07-679628029616"
   },
   "outputs": [
    {
     "data": {
      "text/plain": [
       "'кошка'"
      ]
     },
     "execution_count": 10,
     "metadata": {},
     "output_type": "execute_result"
    }
   ],
   "source": [
    "dct.get(\"cat\")"
   ]
  },
  {
   "cell_type": "markdown",
   "metadata": {
    "id": "aWYMVDjYCyZ2"
   },
   "source": [
    "### Вернуть пары"
   ]
  },
  {
   "cell_type": "code",
   "execution_count": 11,
   "metadata": {
    "colab": {
     "base_uri": "https://localhost:8080/"
    },
    "id": "-ycna0t4C1T-",
    "outputId": "a6435541-81f0-4182-98a9-445a639c4ad6"
   },
   "outputs": [
    {
     "data": {
      "text/plain": [
       "dict_items([('cat', 'кошка'), ('dog', 'собака')])"
      ]
     },
     "execution_count": 11,
     "metadata": {},
     "output_type": "execute_result"
    }
   ],
   "source": [
    "dct.items()"
   ]
  },
  {
   "cell_type": "markdown",
   "metadata": {
    "id": "mRxbeI_7C6jc"
   },
   "source": [
    "### Вернуть ключи"
   ]
  },
  {
   "cell_type": "code",
   "execution_count": 14,
   "metadata": {
    "colab": {
     "base_uri": "https://localhost:8080/"
    },
    "id": "Tmrk0VxRDAOZ",
    "outputId": "e7cab3fa-cc51-4be6-ac21-0adff69a4193"
   },
   "outputs": [
    {
     "data": {
      "text/plain": [
       "dict_keys(['cat', 'dog'])"
      ]
     },
     "execution_count": 14,
     "metadata": {},
     "output_type": "execute_result"
    }
   ],
   "source": [
    "dct.keys()"
   ]
  },
  {
   "cell_type": "markdown",
   "metadata": {
    "id": "-VoZCjzKGkPa"
   },
   "source": [
    "### Вернуть значения"
   ]
  },
  {
   "cell_type": "code",
   "execution_count": 13,
   "metadata": {
    "colab": {
     "base_uri": "https://localhost:8080/"
    },
    "id": "LSSViuD0Gma0",
    "outputId": "17af3e47-cb54-40f2-8b8b-27f8e9abfa95"
   },
   "outputs": [
    {
     "data": {
      "text/plain": [
       "dict_values(['кошка', 'собака'])"
      ]
     },
     "execution_count": 13,
     "metadata": {},
     "output_type": "execute_result"
    }
   ],
   "source": [
    "dct.values()"
   ]
  },
  {
   "cell_type": "code",
   "execution_count": 15,
   "metadata": {
    "colab": {
     "base_uri": "https://localhost:8080/"
    },
    "id": "38aXc_hDGtkP",
    "outputId": "37320fdb-c1de-4cab-bd4d-08d1018d1975"
   },
   "outputs": [
    {
     "name": "stdout",
     "output_type": "stream",
     "text": [
      "яблоко\n",
      "яблоко\n",
      "dict_items([('apple', 'яблоко'), ('pineapple', 'ананас')])\n",
      "dict_keys(['apple', 'pineapple'])\n",
      "{'pineapple': 'ананас'}\n",
      "{'pineapple': 'ананас', 'cherry': 'вишня'}\n"
     ]
    }
   ],
   "source": [
    "# Создать словарь\n",
    "df = dict(apple='яблоко', pineapple=\"ананас\")\n",
    "\n",
    "# Получить значение по ключу\n",
    "print(df['apple'])\n",
    "\n",
    "# Получить значение по ключу\n",
    "print(df.get('apple'))\n",
    "\n",
    "# Получить пары ключ-значение\n",
    "print(df.items())\n",
    "\n",
    "# Получить все ключи в словаре\n",
    "print(df.keys())\n",
    "\n",
    "# Получить значение по ключу, после чего удалить\n",
    "df.pop('apple')\n",
    "print(df)\n",
    "\n",
    "# Добавить новое значение в словарь\n",
    "df['cherry'] = 'вишня'\n",
    "print(df)"
   ]
  }
 ],
 "metadata": {
  "colab": {
   "name": "Лекция6_ИЯиМК.ipynb\"",
   "provenance": []
  },
  "kernelspec": {
   "display_name": "Python 3 (ipykernel)",
   "language": "python",
   "name": "python3"
  },
  "language_info": {
   "codemirror_mode": {
    "name": "ipython",
    "version": 3
   },
   "file_extension": ".py",
   "mimetype": "text/x-python",
   "name": "python",
   "nbconvert_exporter": "python",
   "pygments_lexer": "ipython3",
   "version": "3.9.13"
  }
 },
 "nbformat": 4,
 "nbformat_minor": 1
}
