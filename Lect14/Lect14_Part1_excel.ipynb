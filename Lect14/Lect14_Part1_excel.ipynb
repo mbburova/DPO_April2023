{
 "cells": [
  {
   "cell_type": "markdown",
   "id": "5a10d523",
   "metadata": {},
   "source": [
    "# Автоматизация Excel-отчетов"
   ]
  },
  {
   "cell_type": "code",
   "execution_count": 1,
   "id": "b76064aa",
   "metadata": {},
   "outputs": [],
   "source": [
    "import pandas as pd\n",
    "import openpyxl\n",
    "from openpyxl import load_workbook\n",
    "from openpyxl.styles import Font\n",
    "from openpyxl.chart import BarChart, Reference\n",
    "import string"
   ]
  },
  {
   "cell_type": "code",
   "execution_count": 2,
   "id": "5cacebb4",
   "metadata": {},
   "outputs": [
    {
     "data": {
      "text/html": [
       "<div>\n",
       "<style scoped>\n",
       "    .dataframe tbody tr th:only-of-type {\n",
       "        vertical-align: middle;\n",
       "    }\n",
       "\n",
       "    .dataframe tbody tr th {\n",
       "        vertical-align: top;\n",
       "    }\n",
       "\n",
       "    .dataframe thead th {\n",
       "        text-align: right;\n",
       "    }\n",
       "</style>\n",
       "<table border=\"1\" class=\"dataframe\">\n",
       "  <thead>\n",
       "    <tr style=\"text-align: right;\">\n",
       "      <th></th>\n",
       "      <th>Gender</th>\n",
       "      <th>Product line</th>\n",
       "      <th>Total</th>\n",
       "    </tr>\n",
       "  </thead>\n",
       "  <tbody>\n",
       "    <tr>\n",
       "      <th>0</th>\n",
       "      <td>Female</td>\n",
       "      <td>Health and beauty</td>\n",
       "      <td>548.9715</td>\n",
       "    </tr>\n",
       "    <tr>\n",
       "      <th>1</th>\n",
       "      <td>Female</td>\n",
       "      <td>Electronic accessories</td>\n",
       "      <td>80.2200</td>\n",
       "    </tr>\n",
       "    <tr>\n",
       "      <th>2</th>\n",
       "      <td>Male</td>\n",
       "      <td>Home and lifestyle</td>\n",
       "      <td>340.5255</td>\n",
       "    </tr>\n",
       "    <tr>\n",
       "      <th>3</th>\n",
       "      <td>Male</td>\n",
       "      <td>Health and beauty</td>\n",
       "      <td>489.0480</td>\n",
       "    </tr>\n",
       "    <tr>\n",
       "      <th>4</th>\n",
       "      <td>Male</td>\n",
       "      <td>Sports and travel</td>\n",
       "      <td>634.3785</td>\n",
       "    </tr>\n",
       "    <tr>\n",
       "      <th>...</th>\n",
       "      <td>...</td>\n",
       "      <td>...</td>\n",
       "      <td>...</td>\n",
       "    </tr>\n",
       "    <tr>\n",
       "      <th>995</th>\n",
       "      <td>Male</td>\n",
       "      <td>Health and beauty</td>\n",
       "      <td>42.3675</td>\n",
       "    </tr>\n",
       "    <tr>\n",
       "      <th>996</th>\n",
       "      <td>Female</td>\n",
       "      <td>Home and lifestyle</td>\n",
       "      <td>1022.4900</td>\n",
       "    </tr>\n",
       "    <tr>\n",
       "      <th>997</th>\n",
       "      <td>Male</td>\n",
       "      <td>Food and beverages</td>\n",
       "      <td>33.4320</td>\n",
       "    </tr>\n",
       "    <tr>\n",
       "      <th>998</th>\n",
       "      <td>Male</td>\n",
       "      <td>Home and lifestyle</td>\n",
       "      <td>69.1110</td>\n",
       "    </tr>\n",
       "    <tr>\n",
       "      <th>999</th>\n",
       "      <td>Female</td>\n",
       "      <td>Fashion accessories</td>\n",
       "      <td>649.2990</td>\n",
       "    </tr>\n",
       "  </tbody>\n",
       "</table>\n",
       "<p>1000 rows × 3 columns</p>\n",
       "</div>"
      ],
      "text/plain": [
       "     Gender            Product line      Total\n",
       "0    Female       Health and beauty   548.9715\n",
       "1    Female  Electronic accessories    80.2200\n",
       "2      Male      Home and lifestyle   340.5255\n",
       "3      Male       Health and beauty   489.0480\n",
       "4      Male       Sports and travel   634.3785\n",
       "..      ...                     ...        ...\n",
       "995    Male       Health and beauty    42.3675\n",
       "996  Female      Home and lifestyle  1022.4900\n",
       "997    Male      Food and beverages    33.4320\n",
       "998    Male      Home and lifestyle    69.1110\n",
       "999  Female     Fashion accessories   649.2990\n",
       "\n",
       "[1000 rows x 3 columns]"
      ]
     },
     "execution_count": 2,
     "metadata": {},
     "output_type": "execute_result"
    }
   ],
   "source": [
    "excel_file = pd.read_excel('supermarket_sales.xlsx')\n",
    "excel_file[['Gender', 'Product line', 'Total']]"
   ]
  },
  {
   "cell_type": "code",
   "execution_count": 3,
   "id": "5e88734f",
   "metadata": {},
   "outputs": [],
   "source": [
    "report_table = excel_file.pivot_table(index='Gender',\n",
    "                                      columns='Product line',\n",
    "                                      values='Total',\n",
    "                                      aggfunc='sum').round(0)"
   ]
  },
  {
   "cell_type": "code",
   "execution_count": 4,
   "id": "812ed3c5",
   "metadata": {},
   "outputs": [],
   "source": [
    "report_table.to_excel('report_2021.xlsx',\n",
    "                      sheet_name='Report',\n",
    "                      startrow=4)"
   ]
  },
  {
   "cell_type": "code",
   "execution_count": 5,
   "id": "f40c23f9",
   "metadata": {},
   "outputs": [],
   "source": [
    "wb = load_workbook('report_2021.xlsx')\n",
    "sheet = wb['Report']\n",
    "# cell references (original spreadsheet) \n",
    "min_column = wb.active.min_column\n",
    "max_column = wb.active.max_column\n",
    "min_row = wb.active.min_row\n",
    "max_row = wb.active.max_row"
   ]
  },
  {
   "cell_type": "code",
   "execution_count": 6,
   "id": "18b1a0ba",
   "metadata": {},
   "outputs": [],
   "source": [
    "wb = load_workbook('report_2021.xlsx')\n",
    "sheet = wb['Report']\n",
    "# barchart\n",
    "barchart = BarChart()\n",
    "#locate data and categories\n",
    "data = Reference(sheet,\n",
    "                 min_col=min_column+1,\n",
    "                 max_col=max_column,\n",
    "                 min_row=min_row,\n",
    "                 max_row=max_row) #including headers\n",
    "categories = Reference(sheet,\n",
    "                       min_col=min_column,\n",
    "                       max_col=min_column,\n",
    "                       min_row=min_row+1,\n",
    "                       max_row=max_row) #not including headers\n",
    "# adding data and categories\n",
    "barchart.add_data(data, titles_from_data=True)\n",
    "barchart.set_categories(categories)\n",
    "#location chart\n",
    "sheet.add_chart(barchart, \"B12\")\n",
    "barchart.title = 'Sales by Product line'\n",
    "barchart.style = 5 #choose the chart style\n",
    "wb.save('report_2021.xlsx')"
   ]
  },
  {
   "cell_type": "code",
   "execution_count": 7,
   "id": "353832ba",
   "metadata": {},
   "outputs": [],
   "source": [
    "sheet['B7'] = '=SUM(B5:B6)'\n",
    "sheet['B7'].style = 'Currency'"
   ]
  },
  {
   "cell_type": "code",
   "execution_count": 8,
   "id": "175f0e15",
   "metadata": {},
   "outputs": [
    {
     "name": "stdout",
     "output_type": "stream",
     "text": [
      "['A', 'B', 'C', 'D', 'E', 'F', 'G']\n"
     ]
    }
   ],
   "source": [
    "import string\n",
    "alphabet = list(string.ascii_uppercase)\n",
    "excel_alphabet = alphabet[0:max_column] \n",
    "print(excel_alphabet)"
   ]
  },
  {
   "cell_type": "code",
   "execution_count": 9,
   "id": "6fe2a016",
   "metadata": {},
   "outputs": [],
   "source": [
    "sheet['B7'] = '=SUM(B5:B6)'\n",
    "sheet['B7'].style = 'Currency'"
   ]
  },
  {
   "cell_type": "code",
   "execution_count": 10,
   "id": "47c6abbb",
   "metadata": {},
   "outputs": [],
   "source": [
    "wb = load_workbook('report_2021.xlsx')\n",
    "sheet = wb['Report']\n",
    "# sum in columns B-G\n",
    "for i in excel_alphabet:\n",
    "    if i!='A':\n",
    "        sheet[f'{i}{max_row+1}'] = f'=SUM({i}{min_row+1}:{i}{max_row})'\n",
    "        sheet[f'{i}{max_row+1}'].style = 'Currency'\n",
    "# adding total label\n",
    "sheet[f'{excel_alphabet[0]}{max_row+1}'] = 'Total'\n",
    "wb.save('report_2021.xlsx')"
   ]
  },
  {
   "cell_type": "code",
   "execution_count": 11,
   "id": "5b5e8356",
   "metadata": {},
   "outputs": [],
   "source": [
    "wb = load_workbook('report_2021.xlsx')\n",
    "sheet = wb['Report']\n",
    "sheet['A1'] = 'Sales Report'\n",
    "sheet['A2'] = '2021'\n",
    "sheet['A1'].font = Font('Arial', bold=True, size=20)\n",
    "sheet['A2'].font = Font('Arial', bold=True, size=10)\n",
    "wb.save('report_2021.xlsx')"
   ]
  },
  {
   "cell_type": "code",
   "execution_count": 12,
   "id": "06c1f603",
   "metadata": {},
   "outputs": [],
   "source": [
    "import pandas as pd\n",
    "import openpyxl\n",
    "from openpyxl import load_workbook\n",
    "from openpyxl.styles import Font\n",
    "from openpyxl.chart import BarChart, Reference\n",
    "import string\n",
    "def automate_excel(file_name):\n",
    "    \"\"\"The file name should have the following structure: sales_month.xlsx\"\"\"\n",
    "    # read excel file\n",
    "    excel_file = pd.read_excel(file_name)\n",
    "    # make pivot table\n",
    "    report_table = excel_file.pivot_table(index='Gender', columns='Product line', values='Total', aggfunc='sum').round(0)\n",
    "    # splitting the month and extension from the file name\n",
    "    month_and_extension = file_name.split('_')[1]\n",
    "    # send the report table to excel file\n",
    "    report_table.to_excel(f'report_{month_and_extension}', sheet_name='Report', startrow=4)\n",
    "    # loading workbook and selecting sheet\n",
    "    wb = load_workbook(f'report_{month_and_extension}')\n",
    "    sheet = wb['Report']\n",
    "    # cell references (original spreadsheet)\n",
    "    min_column = wb.active.min_column\n",
    "    max_column = wb.active.max_column\n",
    "    min_row = wb.active.min_row\n",
    "    max_row = wb.active.max_row\n",
    "    # adding a chart\n",
    "    barchart = BarChart()\n",
    "    data = Reference(sheet, min_col=min_column+1, max_col=max_column, min_row=min_row, max_row=max_row) #including headers\n",
    "    categories = Reference(sheet, min_col=min_column, max_col=min_column, min_row=min_row+1, max_row=max_row) #not including headers\n",
    "    barchart.add_data(data, titles_from_data=True)\n",
    "    barchart.set_categories(categories)\n",
    "    sheet.add_chart(barchart, \"B12\") #location chart\n",
    "    barchart.title = 'Sales by Product line'\n",
    "    barchart.style = 2 #choose the chart style\n",
    "    # applying formulas\n",
    "    # first create alphabet list as references for cells\n",
    "    alphabet = list(string.ascii_uppercase)\n",
    "    excel_alphabet = alphabet[0:max_column] #note: Python lists start on 0 -> A=0, B=1, C=2. #note2 the [a:b] takes b-a elements\n",
    "    # sum in columns B-G\n",
    "    for i in excel_alphabet:\n",
    "        if i!='A':\n",
    "            sheet[f'{i}{max_row+1}'] = f'=SUM({i}{min_row+1}:{i}{max_row})'\n",
    "            sheet[f'{i}{max_row+1}'].style = 'Currency'\n",
    "    sheet[f'{excel_alphabet[0]}{max_row+1}'] = 'Total'\n",
    "    # getting month name\n",
    "    month_name = month_and_extension.split('.')[0]\n",
    "    # formatting the report\n",
    "    sheet['A1'] = 'Sales Report'\n",
    "    sheet['A2'] = month_name.title()\n",
    "    sheet['A1'].font = Font('Arial', bold=True, size=20)\n",
    "    sheet['A2'].font = Font('Arial', bold=True, size=10)\n",
    "    wb.save(f'report_{month_and_extension}')\n",
    "    return "
   ]
  },
  {
   "cell_type": "code",
   "execution_count": 14,
   "id": "72036903",
   "metadata": {},
   "outputs": [],
   "source": [
    "excel_file_1 = pd.read_excel('sales_january.xlsx')\n",
    "excel_file_2 = pd.read_excel('sales_february.xlsx')\n",
    "excel_file_3 = pd.read_excel('sales_march.xlsx')\n",
    "# concatenate files\n",
    "new_file = pd.concat([excel_file_1,\n",
    "                      excel_file_2,\n",
    "                      excel_file_3], ignore_index=True)\n",
    "# export file\n",
    "new_file.to_excel('sales_2021.xlsx')\n",
    "# apply function\n",
    "automate_excel('sales_2021.xlsx')"
   ]
  },
  {
   "cell_type": "code",
   "execution_count": 17,
   "id": "2a64195a",
   "metadata": {},
   "outputs": [],
   "source": [
    "files = ['sales_january.xlsx','sales_february.xlsx','sales_march.xlsx']"
   ]
  },
  {
   "cell_type": "code",
   "execution_count": 19,
   "id": "8088208e",
   "metadata": {},
   "outputs": [],
   "source": [
    "for f in files:\n",
    "    automate_excel(f)"
   ]
  },
  {
   "cell_type": "code",
   "execution_count": null,
   "id": "23a2f799",
   "metadata": {},
   "outputs": [],
   "source": []
  }
 ],
 "metadata": {
  "kernelspec": {
   "display_name": "Python 3 (ipykernel)",
   "language": "python",
   "name": "python3"
  },
  "language_info": {
   "codemirror_mode": {
    "name": "ipython",
    "version": 3
   },
   "file_extension": ".py",
   "mimetype": "text/x-python",
   "name": "python",
   "nbconvert_exporter": "python",
   "pygments_lexer": "ipython3",
   "version": "3.9.13"
  }
 },
 "nbformat": 4,
 "nbformat_minor": 5
}
