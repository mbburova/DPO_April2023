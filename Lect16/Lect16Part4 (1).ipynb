{
 "cells": [
  {
   "cell_type": "code",
   "execution_count": 1,
   "metadata": {
    "ExecuteTime": {
     "end_time": "2019-02-11T21:59:15.249992Z",
     "start_time": "2019-02-11T21:59:12.848653Z"
    }
   },
   "outputs": [
    {
     "name": "stderr",
     "output_type": "stream",
     "text": [
      "Enabling notebook extension jupyter-js-widgets/extension...\n",
      "      - Validating: ok\n"
     ]
    }
   ],
   "source": [
    "!pip install -U -q ipywidgets\n",
    "!jupyter nbextension enable --py widgetsnbextension"
   ]
  },
  {
   "cell_type": "code",
   "execution_count": 2,
   "metadata": {},
   "outputs": [
    {
     "name": "stdout",
     "output_type": "stream",
     "text": [
      "Requirement already satisfied: chart-studio in c:\\users\\mbbur\\anaconda3\\lib\\site-packages (1.1.0)\n",
      "Requirement already satisfied: six in c:\\users\\mbbur\\anaconda3\\lib\\site-packages (from chart-studio) (1.16.0)\n",
      "Requirement already satisfied: plotly in c:\\users\\mbbur\\anaconda3\\lib\\site-packages (from chart-studio) (4.2.1)\n",
      "Requirement already satisfied: retrying>=1.3.3 in c:\\users\\mbbur\\anaconda3\\lib\\site-packages (from chart-studio) (1.3.4)\n",
      "Requirement already satisfied: requests in c:\\users\\mbbur\\anaconda3\\lib\\site-packages (from chart-studio) (2.28.1)\n",
      "Requirement already satisfied: urllib3<1.27,>=1.21.1 in c:\\users\\mbbur\\anaconda3\\lib\\site-packages (from requests->chart-studio) (1.26.11)\n",
      "Requirement already satisfied: idna<4,>=2.5 in c:\\users\\mbbur\\anaconda3\\lib\\site-packages (from requests->chart-studio) (2.10)\n",
      "Requirement already satisfied: charset-normalizer<3,>=2 in c:\\users\\mbbur\\anaconda3\\lib\\site-packages (from requests->chart-studio) (2.0.4)\n",
      "Requirement already satisfied: certifi>=2017.4.17 in c:\\users\\mbbur\\anaconda3\\lib\\site-packages (from requests->chart-studio) (2022.9.14)\n"
     ]
    }
   ],
   "source": [
    "!pip install chart-studio\n",
    "from chart_studio import plotly"
   ]
  },
  {
   "cell_type": "code",
   "execution_count": 3,
   "metadata": {},
   "outputs": [
    {
     "name": "stdout",
     "output_type": "stream",
     "text": [
      "Requirement already satisfied: cufflinks in c:\\users\\mbbur\\anaconda3\\lib\\site-packages (0.17.3)\n",
      "Requirement already satisfied: plotly>=4.1.1 in c:\\users\\mbbur\\anaconda3\\lib\\site-packages (from cufflinks) (4.2.1)\n",
      "Requirement already satisfied: setuptools>=34.4.1 in c:\\users\\mbbur\\anaconda3\\lib\\site-packages (from cufflinks) (63.4.1)\n",
      "Requirement already satisfied: colorlover>=0.2.1 in c:\\users\\mbbur\\anaconda3\\lib\\site-packages (from cufflinks) (0.3.0)\n",
      "Requirement already satisfied: six>=1.9.0 in c:\\users\\mbbur\\anaconda3\\lib\\site-packages (from cufflinks) (1.16.0)\n",
      "Requirement already satisfied: ipywidgets>=7.0.0 in c:\\users\\mbbur\\anaconda3\\lib\\site-packages (from cufflinks) (8.0.6)\n",
      "Requirement already satisfied: numpy>=1.9.2 in c:\\users\\mbbur\\anaconda3\\lib\\site-packages (from cufflinks) (1.21.5)\n",
      "Requirement already satisfied: ipython>=5.3.0 in c:\\users\\mbbur\\anaconda3\\lib\\site-packages (from cufflinks) (7.31.1)\n",
      "Requirement already satisfied: pandas>=0.19.2 in c:\\users\\mbbur\\anaconda3\\lib\\site-packages (from cufflinks) (2.0.2)\n",
      "Requirement already satisfied: pickleshare in c:\\users\\mbbur\\anaconda3\\lib\\site-packages (from ipython>=5.3.0->cufflinks) (0.7.5)\n",
      "Requirement already satisfied: traitlets>=4.2 in c:\\users\\mbbur\\anaconda3\\lib\\site-packages (from ipython>=5.3.0->cufflinks) (5.1.1)\n",
      "Requirement already satisfied: backcall in c:\\users\\mbbur\\anaconda3\\lib\\site-packages (from ipython>=5.3.0->cufflinks) (0.2.0)\n",
      "Requirement already satisfied: matplotlib-inline in c:\\users\\mbbur\\anaconda3\\lib\\site-packages (from ipython>=5.3.0->cufflinks) (0.1.6)\n",
      "Requirement already satisfied: prompt-toolkit!=3.0.0,!=3.0.1,<3.1.0,>=2.0.0 in c:\\users\\mbbur\\anaconda3\\lib\\site-packages (from ipython>=5.3.0->cufflinks) (3.0.20)\n",
      "Requirement already satisfied: pygments in c:\\users\\mbbur\\anaconda3\\lib\\site-packages (from ipython>=5.3.0->cufflinks) (2.11.2)\n",
      "Requirement already satisfied: colorama in c:\\users\\mbbur\\anaconda3\\lib\\site-packages (from ipython>=5.3.0->cufflinks) (0.4.5)\n",
      "Requirement already satisfied: jedi>=0.16 in c:\\users\\mbbur\\anaconda3\\lib\\site-packages (from ipython>=5.3.0->cufflinks) (0.18.1)\n",
      "Requirement already satisfied: decorator in c:\\users\\mbbur\\anaconda3\\lib\\site-packages (from ipython>=5.3.0->cufflinks) (5.1.1)\n",
      "Requirement already satisfied: widgetsnbextension~=4.0.7 in c:\\users\\mbbur\\anaconda3\\lib\\site-packages (from ipywidgets>=7.0.0->cufflinks) (4.0.7)\n",
      "Requirement already satisfied: jupyterlab-widgets~=3.0.7 in c:\\users\\mbbur\\anaconda3\\lib\\site-packages (from ipywidgets>=7.0.0->cufflinks) (3.0.7)\n",
      "Requirement already satisfied: ipykernel>=4.5.1 in c:\\users\\mbbur\\anaconda3\\lib\\site-packages (from ipywidgets>=7.0.0->cufflinks) (6.15.2)\n",
      "Requirement already satisfied: pytz>=2020.1 in c:\\users\\mbbur\\anaconda3\\lib\\site-packages (from pandas>=0.19.2->cufflinks) (2022.1)\n",
      "Requirement already satisfied: tzdata>=2022.1 in c:\\users\\mbbur\\anaconda3\\lib\\site-packages (from pandas>=0.19.2->cufflinks) (2023.3)\n",
      "Requirement already satisfied: python-dateutil>=2.8.2 in c:\\users\\mbbur\\anaconda3\\lib\\site-packages (from pandas>=0.19.2->cufflinks) (2.8.2)\n",
      "Requirement already satisfied: retrying>=1.3.3 in c:\\users\\mbbur\\anaconda3\\lib\\site-packages (from plotly>=4.1.1->cufflinks) (1.3.4)\n",
      "Requirement already satisfied: tornado>=6.1 in c:\\users\\mbbur\\anaconda3\\lib\\site-packages (from ipykernel>=4.5.1->ipywidgets>=7.0.0->cufflinks) (6.1)\n",
      "Requirement already satisfied: packaging in c:\\users\\mbbur\\anaconda3\\lib\\site-packages (from ipykernel>=4.5.1->ipywidgets>=7.0.0->cufflinks) (21.3)\n",
      "Requirement already satisfied: psutil in c:\\users\\mbbur\\anaconda3\\lib\\site-packages (from ipykernel>=4.5.1->ipywidgets>=7.0.0->cufflinks) (5.9.0)\n",
      "Requirement already satisfied: pyzmq>=17 in c:\\users\\mbbur\\anaconda3\\lib\\site-packages (from ipykernel>=4.5.1->ipywidgets>=7.0.0->cufflinks) (23.2.0)\n",
      "Requirement already satisfied: debugpy>=1.0 in c:\\users\\mbbur\\anaconda3\\lib\\site-packages (from ipykernel>=4.5.1->ipywidgets>=7.0.0->cufflinks) (1.5.1)\n",
      "Requirement already satisfied: jupyter-client>=6.1.12 in c:\\users\\mbbur\\anaconda3\\lib\\site-packages (from ipykernel>=4.5.1->ipywidgets>=7.0.0->cufflinks) (7.3.4)\n",
      "Requirement already satisfied: nest-asyncio in c:\\users\\mbbur\\anaconda3\\lib\\site-packages (from ipykernel>=4.5.1->ipywidgets>=7.0.0->cufflinks) (1.5.5)\n",
      "Requirement already satisfied: parso<0.9.0,>=0.8.0 in c:\\users\\mbbur\\anaconda3\\lib\\site-packages (from jedi>=0.16->ipython>=5.3.0->cufflinks) (0.8.3)\n",
      "Requirement already satisfied: wcwidth in c:\\users\\mbbur\\anaconda3\\lib\\site-packages (from prompt-toolkit!=3.0.0,!=3.0.1,<3.1.0,>=2.0.0->ipython>=5.3.0->cufflinks) (0.2.5)\n",
      "Requirement already satisfied: jupyter-core>=4.9.2 in c:\\users\\mbbur\\anaconda3\\lib\\site-packages (from jupyter-client>=6.1.12->ipykernel>=4.5.1->ipywidgets>=7.0.0->cufflinks) (4.11.1)\n",
      "Requirement already satisfied: entrypoints in c:\\users\\mbbur\\anaconda3\\lib\\site-packages (from jupyter-client>=6.1.12->ipykernel>=4.5.1->ipywidgets>=7.0.0->cufflinks) (0.4)\n",
      "Requirement already satisfied: pyparsing!=3.0.5,>=2.0.2 in c:\\users\\mbbur\\anaconda3\\lib\\site-packages (from packaging->ipykernel>=4.5.1->ipywidgets>=7.0.0->cufflinks) (3.0.9)\n",
      "Requirement already satisfied: pywin32>=1.0 in c:\\users\\mbbur\\anaconda3\\lib\\site-packages (from jupyter-core>=4.9.2->jupyter-client>=6.1.12->ipykernel>=4.5.1->ipywidgets>=7.0.0->cufflinks) (302)\n"
     ]
    }
   ],
   "source": [
    "!pip install cufflinks"
   ]
  },
  {
   "cell_type": "code",
   "execution_count": 4,
   "metadata": {
    "ExecuteTime": {
     "end_time": "2019-02-11T21:59:16.649010Z",
     "start_time": "2019-02-11T21:59:15.252863Z"
    }
   },
   "outputs": [
    {
     "data": {
      "text/html": [
       "        <script type=\"text/javascript\">\n",
       "        window.PlotlyConfig = {MathJaxConfig: 'local'};\n",
       "        if (window.MathJax) {MathJax.Hub.Config({SVG: {font: \"STIX-Web\"}});}\n",
       "        if (typeof require !== 'undefined') {\n",
       "        require.undef(\"plotly\");\n",
       "        requirejs.config({\n",
       "            paths: {\n",
       "                'plotly': ['https://cdn.plot.ly/plotly-latest.min']\n",
       "            }\n",
       "        });\n",
       "        require(['plotly'], function(Plotly) {\n",
       "            window._Plotly = Plotly;\n",
       "        });\n",
       "        }\n",
       "        </script>\n",
       "        "
      ]
     },
     "metadata": {},
     "output_type": "display_data"
    },
    {
     "data": {
      "text/html": [
       "        <script type=\"text/javascript\">\n",
       "        window.PlotlyConfig = {MathJaxConfig: 'local'};\n",
       "        if (window.MathJax) {MathJax.Hub.Config({SVG: {font: \"STIX-Web\"}});}\n",
       "        if (typeof require !== 'undefined') {\n",
       "        require.undef(\"plotly\");\n",
       "        requirejs.config({\n",
       "            paths: {\n",
       "                'plotly': ['https://cdn.plot.ly/plotly-latest.min']\n",
       "            }\n",
       "        });\n",
       "        require(['plotly'], function(Plotly) {\n",
       "            window._Plotly = Plotly;\n",
       "        });\n",
       "        }\n",
       "        </script>\n",
       "        "
      ]
     },
     "metadata": {},
     "output_type": "display_data"
    }
   ],
   "source": [
    "# Standard Data Science Helpers\n",
    "import numpy as np\n",
    "import pandas as pd\n",
    "import scipy\n",
    "from chart_studio import plotly as py\n",
    "from plotly import graph_objs as go\n",
    "from plotly.offline import iplot, init_notebook_mode\n",
    "init_notebook_mode(connected=True)\n",
    "\n",
    "import cufflinks as cf\n",
    "cf.go_offline(connected=True)\n",
    "cf.set_config_file(colorscale='plotly', world_readable=True)\n",
    "\n",
    "# Extra options\n",
    "pd.options.display.max_rows = 30\n",
    "pd.options.display.max_columns = 25\n",
    "\n",
    "# Show all code cells outputs\n",
    "from IPython.core.interactiveshell import InteractiveShell\n",
    "InteractiveShell.ast_node_interactivity = 'all'"
   ]
  },
  {
   "cell_type": "code",
   "execution_count": 5,
   "metadata": {
    "ExecuteTime": {
     "end_time": "2019-02-11T21:59:16.677478Z",
     "start_time": "2019-02-11T21:59:16.650547Z"
    }
   },
   "outputs": [],
   "source": [
    "import os\n",
    "from IPython.display import Image, display, HTML"
   ]
  },
  {
   "cell_type": "markdown",
   "metadata": {},
   "source": [
    "## Data\n"
   ]
  },
  {
   "cell_type": "code",
   "execution_count": 6,
   "metadata": {},
   "outputs": [
    {
     "name": "stdout",
     "output_type": "stream",
     "text": [
      "Requirement already satisfied: fastparquet in c:\\users\\mbbur\\anaconda3\\lib\\site-packages (2023.4.0)\n",
      "Requirement already satisfied: numpy>=1.20.3 in c:\\users\\mbbur\\anaconda3\\lib\\site-packages (from fastparquet) (1.21.5)\n",
      "Requirement already satisfied: fsspec in c:\\users\\mbbur\\anaconda3\\lib\\site-packages (from fastparquet) (2022.7.1)\n",
      "Requirement already satisfied: cramjam>=2.3 in c:\\users\\mbbur\\anaconda3\\lib\\site-packages (from fastparquet) (2.6.2)\n",
      "Requirement already satisfied: packaging in c:\\users\\mbbur\\anaconda3\\lib\\site-packages (from fastparquet) (21.3)\n",
      "Requirement already satisfied: pandas>=1.5.0 in c:\\users\\mbbur\\anaconda3\\lib\\site-packages (from fastparquet) (2.0.2)\n",
      "Requirement already satisfied: python-dateutil>=2.8.2 in c:\\users\\mbbur\\anaconda3\\lib\\site-packages (from pandas>=1.5.0->fastparquet) (2.8.2)\n",
      "Requirement already satisfied: pytz>=2020.1 in c:\\users\\mbbur\\anaconda3\\lib\\site-packages (from pandas>=1.5.0->fastparquet) (2022.1)\n",
      "Requirement already satisfied: tzdata>=2022.1 in c:\\users\\mbbur\\anaconda3\\lib\\site-packages (from pandas>=1.5.0->fastparquet) (2023.3)\n",
      "Requirement already satisfied: pyparsing!=3.0.5,>=2.0.2 in c:\\users\\mbbur\\anaconda3\\lib\\site-packages (from packaging->fastparquet) (3.0.9)\n",
      "Requirement already satisfied: six>=1.5 in c:\\users\\mbbur\\anaconda3\\lib\\site-packages (from python-dateutil>=2.8.2->pandas>=1.5.0->fastparquet) (1.16.0)\n"
     ]
    }
   ],
   "source": [
    "!pip install fastparquet"
   ]
  },
  {
   "cell_type": "code",
   "execution_count": 7,
   "metadata": {
    "ExecuteTime": {
     "end_time": "2019-02-11T21:59:17.739135Z",
     "start_time": "2019-02-11T21:59:16.679089Z"
    }
   },
   "outputs": [
    {
     "data": {
      "text/html": [
       "<div>\n",
       "<style scoped>\n",
       "    .dataframe tbody tr th:only-of-type {\n",
       "        vertical-align: middle;\n",
       "    }\n",
       "\n",
       "    .dataframe tbody tr th {\n",
       "        vertical-align: top;\n",
       "    }\n",
       "\n",
       "    .dataframe thead th {\n",
       "        text-align: right;\n",
       "    }\n",
       "</style>\n",
       "<table border=\"1\" class=\"dataframe\">\n",
       "  <thead>\n",
       "    <tr style=\"text-align: right;\">\n",
       "      <th></th>\n",
       "      <th>claps</th>\n",
       "      <th>days_since_publication</th>\n",
       "      <th>fans</th>\n",
       "      <th>link</th>\n",
       "      <th>num_responses</th>\n",
       "      <th>publication</th>\n",
       "      <th>published_date</th>\n",
       "      <th>read_ratio</th>\n",
       "      <th>read_time</th>\n",
       "      <th>reads</th>\n",
       "      <th>started_date</th>\n",
       "      <th>tags</th>\n",
       "      <th>text</th>\n",
       "      <th>title</th>\n",
       "      <th>title_word_count</th>\n",
       "      <th>type</th>\n",
       "      <th>views</th>\n",
       "      <th>word_count</th>\n",
       "      <th>claps_per_word</th>\n",
       "      <th>editing_days</th>\n",
       "      <th>&lt;tag&gt;Education</th>\n",
       "      <th>&lt;tag&gt;Data Science</th>\n",
       "      <th>&lt;tag&gt;Towards Data Science</th>\n",
       "      <th>&lt;tag&gt;Machine Learning</th>\n",
       "      <th>&lt;tag&gt;Python</th>\n",
       "    </tr>\n",
       "  </thead>\n",
       "  <tbody>\n",
       "    <tr>\n",
       "      <th>129</th>\n",
       "      <td>2</td>\n",
       "      <td>597.301123</td>\n",
       "      <td>2</td>\n",
       "      <td>https://medium.com/p/screw-the-environment-but...</td>\n",
       "      <td>0</td>\n",
       "      <td>None</td>\n",
       "      <td>2017-06-10 14:25:00</td>\n",
       "      <td>42.17</td>\n",
       "      <td>7</td>\n",
       "      <td>70</td>\n",
       "      <td>2017-06-10 14:24:00</td>\n",
       "      <td>[Climate Change, Economics]</td>\n",
       "      <td>Screw the Environment, but Consider Your Walle...</td>\n",
       "      <td>Screw the Environment, but Consider Your Wallet</td>\n",
       "      <td>8</td>\n",
       "      <td>published</td>\n",
       "      <td>166</td>\n",
       "      <td>1859</td>\n",
       "      <td>0.001076</td>\n",
       "      <td>0</td>\n",
       "      <td>0</td>\n",
       "      <td>0</td>\n",
       "      <td>0</td>\n",
       "      <td>0</td>\n",
       "      <td>0</td>\n",
       "    </tr>\n",
       "    <tr>\n",
       "      <th>125</th>\n",
       "      <td>18</td>\n",
       "      <td>589.983168</td>\n",
       "      <td>3</td>\n",
       "      <td>https://medium.com/p/the-vanquishing-of-war-pl...</td>\n",
       "      <td>0</td>\n",
       "      <td>None</td>\n",
       "      <td>2017-06-17 22:02:00</td>\n",
       "      <td>30.34</td>\n",
       "      <td>14</td>\n",
       "      <td>54</td>\n",
       "      <td>2017-06-17 22:02:00</td>\n",
       "      <td>[Climate Change, Humanity, Optimism, History]</td>\n",
       "      <td>The Vanquishing of War, Plague and Famine Part...</td>\n",
       "      <td>The Vanquishing of War, Plague and Famine</td>\n",
       "      <td>8</td>\n",
       "      <td>published</td>\n",
       "      <td>178</td>\n",
       "      <td>3891</td>\n",
       "      <td>0.004626</td>\n",
       "      <td>0</td>\n",
       "      <td>0</td>\n",
       "      <td>0</td>\n",
       "      <td>0</td>\n",
       "      <td>0</td>\n",
       "      <td>0</td>\n",
       "    </tr>\n",
       "    <tr>\n",
       "      <th>132</th>\n",
       "      <td>51</td>\n",
       "      <td>577.363292</td>\n",
       "      <td>20</td>\n",
       "      <td>https://medium.com/p/capstone-project-mercedes...</td>\n",
       "      <td>0</td>\n",
       "      <td>None</td>\n",
       "      <td>2017-06-30 12:55:00</td>\n",
       "      <td>20.02</td>\n",
       "      <td>42</td>\n",
       "      <td>222</td>\n",
       "      <td>2017-06-30 12:00:00</td>\n",
       "      <td>[Machine Learning, Python, Udacity, Kaggle]</td>\n",
       "      <td>Capstone Project: Mercedes-Benz Greener Manufa...</td>\n",
       "      <td>Capstone Project: Mercedes-Benz Greener Manufa...</td>\n",
       "      <td>7</td>\n",
       "      <td>published</td>\n",
       "      <td>1109</td>\n",
       "      <td>12025</td>\n",
       "      <td>0.004241</td>\n",
       "      <td>0</td>\n",
       "      <td>0</td>\n",
       "      <td>0</td>\n",
       "      <td>0</td>\n",
       "      <td>1</td>\n",
       "      <td>1</td>\n",
       "    </tr>\n",
       "    <tr>\n",
       "      <th>126</th>\n",
       "      <td>0</td>\n",
       "      <td>576.520688</td>\n",
       "      <td>0</td>\n",
       "      <td>https://medium.com/p/home-of-the-scared-5af0fe...</td>\n",
       "      <td>0</td>\n",
       "      <td>None</td>\n",
       "      <td>2017-07-01 09:08:00</td>\n",
       "      <td>35.85</td>\n",
       "      <td>9</td>\n",
       "      <td>19</td>\n",
       "      <td>2017-06-30 18:21:00</td>\n",
       "      <td>[Politics, Books, News, Media Criticism]</td>\n",
       "      <td>Home of the Scared A review of A Culture of Fe...</td>\n",
       "      <td>Home of the Scared</td>\n",
       "      <td>4</td>\n",
       "      <td>published</td>\n",
       "      <td>53</td>\n",
       "      <td>2533</td>\n",
       "      <td>0.000000</td>\n",
       "      <td>0</td>\n",
       "      <td>0</td>\n",
       "      <td>0</td>\n",
       "      <td>0</td>\n",
       "      <td>0</td>\n",
       "      <td>0</td>\n",
       "    </tr>\n",
       "    <tr>\n",
       "      <th>121</th>\n",
       "      <td>0</td>\n",
       "      <td>572.533035</td>\n",
       "      <td>0</td>\n",
       "      <td>https://medium.com/p/the-triumph-of-peace-f485...</td>\n",
       "      <td>0</td>\n",
       "      <td>None</td>\n",
       "      <td>2017-07-05 08:51:00</td>\n",
       "      <td>8.47</td>\n",
       "      <td>14</td>\n",
       "      <td>5</td>\n",
       "      <td>2017-07-03 20:18:00</td>\n",
       "      <td>[Books, Psychology, History, Humanism]</td>\n",
       "      <td>The Triumph of Peace A review of The Better An...</td>\n",
       "      <td>The Triumph of Peace</td>\n",
       "      <td>4</td>\n",
       "      <td>published</td>\n",
       "      <td>59</td>\n",
       "      <td>3892</td>\n",
       "      <td>0.000000</td>\n",
       "      <td>1</td>\n",
       "      <td>0</td>\n",
       "      <td>0</td>\n",
       "      <td>0</td>\n",
       "      <td>0</td>\n",
       "      <td>0</td>\n",
       "    </tr>\n",
       "  </tbody>\n",
       "</table>\n",
       "</div>"
      ],
      "text/plain": [
       "     claps  days_since_publication  fans  \\\n",
       "129      2              597.301123     2   \n",
       "125     18              589.983168     3   \n",
       "132     51              577.363292    20   \n",
       "126      0              576.520688     0   \n",
       "121      0              572.533035     0   \n",
       "\n",
       "                                                  link  num_responses  \\\n",
       "129  https://medium.com/p/screw-the-environment-but...              0   \n",
       "125  https://medium.com/p/the-vanquishing-of-war-pl...              0   \n",
       "132  https://medium.com/p/capstone-project-mercedes...              0   \n",
       "126  https://medium.com/p/home-of-the-scared-5af0fe...              0   \n",
       "121  https://medium.com/p/the-triumph-of-peace-f485...              0   \n",
       "\n",
       "    publication      published_date  read_ratio  read_time  reads  \\\n",
       "129        None 2017-06-10 14:25:00       42.17          7     70   \n",
       "125        None 2017-06-17 22:02:00       30.34         14     54   \n",
       "132        None 2017-06-30 12:55:00       20.02         42    222   \n",
       "126        None 2017-07-01 09:08:00       35.85          9     19   \n",
       "121        None 2017-07-05 08:51:00        8.47         14      5   \n",
       "\n",
       "           started_date                                           tags  \\\n",
       "129 2017-06-10 14:24:00                    [Climate Change, Economics]   \n",
       "125 2017-06-17 22:02:00  [Climate Change, Humanity, Optimism, History]   \n",
       "132 2017-06-30 12:00:00    [Machine Learning, Python, Udacity, Kaggle]   \n",
       "126 2017-06-30 18:21:00       [Politics, Books, News, Media Criticism]   \n",
       "121 2017-07-03 20:18:00         [Books, Psychology, History, Humanism]   \n",
       "\n",
       "                                                  text  \\\n",
       "129  Screw the Environment, but Consider Your Walle...   \n",
       "125  The Vanquishing of War, Plague and Famine Part...   \n",
       "132  Capstone Project: Mercedes-Benz Greener Manufa...   \n",
       "126  Home of the Scared A review of A Culture of Fe...   \n",
       "121  The Triumph of Peace A review of The Better An...   \n",
       "\n",
       "                                                 title  title_word_count  \\\n",
       "129    Screw the Environment, but Consider Your Wallet                 8   \n",
       "125          The Vanquishing of War, Plague and Famine                 8   \n",
       "132  Capstone Project: Mercedes-Benz Greener Manufa...                 7   \n",
       "126                                 Home of the Scared                 4   \n",
       "121                               The Triumph of Peace                 4   \n",
       "\n",
       "          type  views  word_count  claps_per_word  editing_days  \\\n",
       "129  published    166        1859        0.001076             0   \n",
       "125  published    178        3891        0.004626             0   \n",
       "132  published   1109       12025        0.004241             0   \n",
       "126  published     53        2533        0.000000             0   \n",
       "121  published     59        3892        0.000000             1   \n",
       "\n",
       "     <tag>Education  <tag>Data Science  <tag>Towards Data Science  \\\n",
       "129               0                  0                          0   \n",
       "125               0                  0                          0   \n",
       "132               0                  0                          0   \n",
       "126               0                  0                          0   \n",
       "121               0                  0                          0   \n",
       "\n",
       "     <tag>Machine Learning  <tag>Python  \n",
       "129                      0            0  \n",
       "125                      0            0  \n",
       "132                      1            1  \n",
       "126                      0            0  \n",
       "121                      0            0  "
      ]
     },
     "execution_count": 7,
     "metadata": {},
     "output_type": "execute_result"
    }
   ],
   "source": [
    "df = pd.read_parquet('https://github.com/WillKoehrsen/Data-Analysis/blob/master/medium/data/medium_data_2019_01_26?raw=true')\n",
    "df.head()"
   ]
  },
  {
   "cell_type": "code",
   "execution_count": 8,
   "metadata": {
    "ExecuteTime": {
     "end_time": "2019-02-11T21:59:17.847235Z",
     "start_time": "2019-02-11T21:59:17.741021Z"
    }
   },
   "outputs": [
    {
     "data": {
      "text/html": [
       "<div>\n",
       "<style scoped>\n",
       "    .dataframe tbody tr th:only-of-type {\n",
       "        vertical-align: middle;\n",
       "    }\n",
       "\n",
       "    .dataframe tbody tr th {\n",
       "        vertical-align: top;\n",
       "    }\n",
       "\n",
       "    .dataframe thead th {\n",
       "        text-align: right;\n",
       "    }\n",
       "</style>\n",
       "<table border=\"1\" class=\"dataframe\">\n",
       "  <thead>\n",
       "    <tr style=\"text-align: right;\">\n",
       "      <th></th>\n",
       "      <th>claps</th>\n",
       "      <th>days_since_publication</th>\n",
       "      <th>fans</th>\n",
       "      <th>num_responses</th>\n",
       "      <th>published_date</th>\n",
       "      <th>read_ratio</th>\n",
       "      <th>read_time</th>\n",
       "      <th>reads</th>\n",
       "      <th>started_date</th>\n",
       "      <th>title_word_count</th>\n",
       "      <th>views</th>\n",
       "      <th>word_count</th>\n",
       "      <th>claps_per_word</th>\n",
       "      <th>editing_days</th>\n",
       "      <th>&lt;tag&gt;Education</th>\n",
       "      <th>&lt;tag&gt;Data Science</th>\n",
       "      <th>&lt;tag&gt;Towards Data Science</th>\n",
       "      <th>&lt;tag&gt;Machine Learning</th>\n",
       "      <th>&lt;tag&gt;Python</th>\n",
       "    </tr>\n",
       "  </thead>\n",
       "  <tbody>\n",
       "    <tr>\n",
       "      <th>count</th>\n",
       "      <td>133.000000</td>\n",
       "      <td>133.000000</td>\n",
       "      <td>133.000000</td>\n",
       "      <td>133.000000</td>\n",
       "      <td>133</td>\n",
       "      <td>133.000000</td>\n",
       "      <td>133.000000</td>\n",
       "      <td>133.000000</td>\n",
       "      <td>133</td>\n",
       "      <td>133.000000</td>\n",
       "      <td>133.000000</td>\n",
       "      <td>133.000000</td>\n",
       "      <td>133.000000</td>\n",
       "      <td>133.000000</td>\n",
       "      <td>133.000000</td>\n",
       "      <td>133.000000</td>\n",
       "      <td>133.000000</td>\n",
       "      <td>133.000000</td>\n",
       "      <td>133.000000</td>\n",
       "    </tr>\n",
       "    <tr>\n",
       "      <th>mean</th>\n",
       "      <td>1815.263158</td>\n",
       "      <td>248.407273</td>\n",
       "      <td>352.052632</td>\n",
       "      <td>7.045113</td>\n",
       "      <td>2018-05-25 11:51:41.954887168</td>\n",
       "      <td>29.074662</td>\n",
       "      <td>12.917293</td>\n",
       "      <td>6336.300752</td>\n",
       "      <td>2018-05-04 16:41:25.714285568</td>\n",
       "      <td>7.127820</td>\n",
       "      <td>23404.030075</td>\n",
       "      <td>3029.120301</td>\n",
       "      <td>0.957638</td>\n",
       "      <td>20.330827</td>\n",
       "      <td>0.729323</td>\n",
       "      <td>0.609023</td>\n",
       "      <td>0.436090</td>\n",
       "      <td>0.383459</td>\n",
       "      <td>0.315789</td>\n",
       "    </tr>\n",
       "    <tr>\n",
       "      <th>min</th>\n",
       "      <td>0.000000</td>\n",
       "      <td>1.218629</td>\n",
       "      <td>0.000000</td>\n",
       "      <td>0.000000</td>\n",
       "      <td>2017-06-10 14:25:00</td>\n",
       "      <td>8.110000</td>\n",
       "      <td>1.000000</td>\n",
       "      <td>1.000000</td>\n",
       "      <td>2017-06-10 14:24:00</td>\n",
       "      <td>2.000000</td>\n",
       "      <td>3.000000</td>\n",
       "      <td>163.000000</td>\n",
       "      <td>0.000000</td>\n",
       "      <td>-13.000000</td>\n",
       "      <td>0.000000</td>\n",
       "      <td>0.000000</td>\n",
       "      <td>0.000000</td>\n",
       "      <td>0.000000</td>\n",
       "      <td>0.000000</td>\n",
       "    </tr>\n",
       "    <tr>\n",
       "      <th>25%</th>\n",
       "      <td>121.000000</td>\n",
       "      <td>74.543822</td>\n",
       "      <td>23.000000</td>\n",
       "      <td>0.000000</td>\n",
       "      <td>2018-01-17 19:42:00</td>\n",
       "      <td>20.020000</td>\n",
       "      <td>8.000000</td>\n",
       "      <td>363.000000</td>\n",
       "      <td>2018-01-10 08:20:00</td>\n",
       "      <td>5.000000</td>\n",
       "      <td>1375.000000</td>\n",
       "      <td>1653.000000</td>\n",
       "      <td>0.052115</td>\n",
       "      <td>0.000000</td>\n",
       "      <td>0.000000</td>\n",
       "      <td>0.000000</td>\n",
       "      <td>0.000000</td>\n",
       "      <td>0.000000</td>\n",
       "      <td>0.000000</td>\n",
       "    </tr>\n",
       "    <tr>\n",
       "      <th>50%</th>\n",
       "      <td>815.000000</td>\n",
       "      <td>245.416130</td>\n",
       "      <td>136.000000</td>\n",
       "      <td>4.000000</td>\n",
       "      <td>2018-05-28 11:39:00</td>\n",
       "      <td>27.060000</td>\n",
       "      <td>10.000000</td>\n",
       "      <td>2049.000000</td>\n",
       "      <td>2018-04-28 13:02:00</td>\n",
       "      <td>7.000000</td>\n",
       "      <td>7608.000000</td>\n",
       "      <td>2456.000000</td>\n",
       "      <td>0.421525</td>\n",
       "      <td>1.000000</td>\n",
       "      <td>1.000000</td>\n",
       "      <td>1.000000</td>\n",
       "      <td>0.000000</td>\n",
       "      <td>0.000000</td>\n",
       "      <td>0.000000</td>\n",
       "    </tr>\n",
       "    <tr>\n",
       "      <th>75%</th>\n",
       "      <td>2700.000000</td>\n",
       "      <td>376.080598</td>\n",
       "      <td>528.000000</td>\n",
       "      <td>12.000000</td>\n",
       "      <td>2018-11-15 08:35:00</td>\n",
       "      <td>34.910000</td>\n",
       "      <td>14.000000</td>\n",
       "      <td>7815.000000</td>\n",
       "      <td>2018-10-14 08:24:00</td>\n",
       "      <td>8.000000</td>\n",
       "      <td>30141.000000</td>\n",
       "      <td>3553.000000</td>\n",
       "      <td>1.099366</td>\n",
       "      <td>5.000000</td>\n",
       "      <td>1.000000</td>\n",
       "      <td>1.000000</td>\n",
       "      <td>1.000000</td>\n",
       "      <td>1.000000</td>\n",
       "      <td>1.000000</td>\n",
       "    </tr>\n",
       "    <tr>\n",
       "      <th>max</th>\n",
       "      <td>13600.000000</td>\n",
       "      <td>597.301123</td>\n",
       "      <td>2588.000000</td>\n",
       "      <td>59.000000</td>\n",
       "      <td>2019-01-27 16:23:00</td>\n",
       "      <td>74.370000</td>\n",
       "      <td>54.000000</td>\n",
       "      <td>41978.000000</td>\n",
       "      <td>2019-01-27 06:26:00</td>\n",
       "      <td>16.000000</td>\n",
       "      <td>173714.000000</td>\n",
       "      <td>15063.000000</td>\n",
       "      <td>17.891817</td>\n",
       "      <td>349.000000</td>\n",
       "      <td>1.000000</td>\n",
       "      <td>1.000000</td>\n",
       "      <td>1.000000</td>\n",
       "      <td>1.000000</td>\n",
       "      <td>1.000000</td>\n",
       "    </tr>\n",
       "    <tr>\n",
       "      <th>std</th>\n",
       "      <td>2449.074661</td>\n",
       "      <td>179.370879</td>\n",
       "      <td>479.060117</td>\n",
       "      <td>9.056108</td>\n",
       "      <td>NaN</td>\n",
       "      <td>12.417670</td>\n",
       "      <td>9.510795</td>\n",
       "      <td>9007.284726</td>\n",
       "      <td>NaN</td>\n",
       "      <td>3.158475</td>\n",
       "      <td>33995.636496</td>\n",
       "      <td>2393.414456</td>\n",
       "      <td>1.846756</td>\n",
       "      <td>74.111579</td>\n",
       "      <td>0.445989</td>\n",
       "      <td>0.489814</td>\n",
       "      <td>0.497774</td>\n",
       "      <td>0.488067</td>\n",
       "      <td>0.466587</td>\n",
       "    </tr>\n",
       "  </tbody>\n",
       "</table>\n",
       "</div>"
      ],
      "text/plain": [
       "              claps  days_since_publication         fans  num_responses  \\\n",
       "count    133.000000              133.000000   133.000000     133.000000   \n",
       "mean    1815.263158              248.407273   352.052632       7.045113   \n",
       "min        0.000000                1.218629     0.000000       0.000000   \n",
       "25%      121.000000               74.543822    23.000000       0.000000   \n",
       "50%      815.000000              245.416130   136.000000       4.000000   \n",
       "75%     2700.000000              376.080598   528.000000      12.000000   \n",
       "max    13600.000000              597.301123  2588.000000      59.000000   \n",
       "std     2449.074661              179.370879   479.060117       9.056108   \n",
       "\n",
       "                      published_date  read_ratio   read_time         reads  \\\n",
       "count                            133  133.000000  133.000000    133.000000   \n",
       "mean   2018-05-25 11:51:41.954887168   29.074662   12.917293   6336.300752   \n",
       "min              2017-06-10 14:25:00    8.110000    1.000000      1.000000   \n",
       "25%              2018-01-17 19:42:00   20.020000    8.000000    363.000000   \n",
       "50%              2018-05-28 11:39:00   27.060000   10.000000   2049.000000   \n",
       "75%              2018-11-15 08:35:00   34.910000   14.000000   7815.000000   \n",
       "max              2019-01-27 16:23:00   74.370000   54.000000  41978.000000   \n",
       "std                              NaN   12.417670    9.510795   9007.284726   \n",
       "\n",
       "                        started_date  title_word_count          views  \\\n",
       "count                            133        133.000000     133.000000   \n",
       "mean   2018-05-04 16:41:25.714285568          7.127820   23404.030075   \n",
       "min              2017-06-10 14:24:00          2.000000       3.000000   \n",
       "25%              2018-01-10 08:20:00          5.000000    1375.000000   \n",
       "50%              2018-04-28 13:02:00          7.000000    7608.000000   \n",
       "75%              2018-10-14 08:24:00          8.000000   30141.000000   \n",
       "max              2019-01-27 06:26:00         16.000000  173714.000000   \n",
       "std                              NaN          3.158475   33995.636496   \n",
       "\n",
       "         word_count  claps_per_word  editing_days  <tag>Education  \\\n",
       "count    133.000000      133.000000    133.000000      133.000000   \n",
       "mean    3029.120301        0.957638     20.330827        0.729323   \n",
       "min      163.000000        0.000000    -13.000000        0.000000   \n",
       "25%     1653.000000        0.052115      0.000000        0.000000   \n",
       "50%     2456.000000        0.421525      1.000000        1.000000   \n",
       "75%     3553.000000        1.099366      5.000000        1.000000   \n",
       "max    15063.000000       17.891817    349.000000        1.000000   \n",
       "std     2393.414456        1.846756     74.111579        0.445989   \n",
       "\n",
       "       <tag>Data Science  <tag>Towards Data Science  <tag>Machine Learning  \\\n",
       "count         133.000000                 133.000000             133.000000   \n",
       "mean            0.609023                   0.436090               0.383459   \n",
       "min             0.000000                   0.000000               0.000000   \n",
       "25%             0.000000                   0.000000               0.000000   \n",
       "50%             1.000000                   0.000000               0.000000   \n",
       "75%             1.000000                   1.000000               1.000000   \n",
       "max             1.000000                   1.000000               1.000000   \n",
       "std             0.489814                   0.497774               0.488067   \n",
       "\n",
       "       <tag>Python  \n",
       "count   133.000000  \n",
       "mean      0.315789  \n",
       "min       0.000000  \n",
       "25%       0.000000  \n",
       "50%       0.000000  \n",
       "75%       1.000000  \n",
       "max       1.000000  \n",
       "std       0.466587  "
      ]
     },
     "execution_count": 8,
     "metadata": {},
     "output_type": "execute_result"
    }
   ],
   "source": [
    "df.describe()"
   ]
  },
  {
   "cell_type": "markdown",
   "metadata": {},
   "source": [
    "# Простые виджеты\n"
   ]
  },
  {
   "cell_type": "code",
   "execution_count": 9,
   "metadata": {
    "ExecuteTime": {
     "end_time": "2019-02-11T21:59:17.894781Z",
     "start_time": "2019-02-11T21:59:17.849710Z"
    }
   },
   "outputs": [],
   "source": [
    "import ipywidgets as widgets\n",
    "from ipywidgets import interact, interact_manual"
   ]
  },
  {
   "cell_type": "code",
   "execution_count": 10,
   "metadata": {
    "ExecuteTime": {
     "end_time": "2019-02-11T21:59:18.144261Z",
     "start_time": "2019-02-11T21:59:17.897741Z"
    }
   },
   "outputs": [
    {
     "data": {
      "application/vnd.jupyter.widget-view+json": {
       "model_id": "bb19c83ac8f24eb9aecde79361de3362",
       "version_major": 2,
       "version_minor": 0
      },
      "text/plain": [
       "interactive(children=(Text(value='claps', description='column'), IntSlider(value=5000, description='x', max=15…"
      ]
     },
     "metadata": {},
     "output_type": "display_data"
    }
   ],
   "source": [
    "@interact\n",
    "def show_articles_more_than(column='claps', x=5000):\n",
    "    display(HTML(f'<h2>Showing articles with more than {x} {column}<h2>'))\n",
    "    display(df.loc[df[column] > x, ['title', 'published_date', 'read_time', 'tags', 'views', 'reads']])"
   ]
  },
  {
   "cell_type": "code",
   "execution_count": 11,
   "metadata": {
    "ExecuteTime": {
     "end_time": "2019-02-11T21:59:18.251039Z",
     "start_time": "2019-02-11T21:59:18.147133Z"
    }
   },
   "outputs": [
    {
     "data": {
      "application/vnd.jupyter.widget-view+json": {
       "model_id": "055132de77d647e18f6040233610ff5c",
       "version_major": 2,
       "version_minor": 0
      },
      "text/plain": [
       "interactive(children=(IntSlider(value=3000, description='x', max=5000, min=1000, step=100), Dropdown(descripti…"
      ]
     },
     "metadata": {},
     "output_type": "display_data"
    }
   ],
   "source": [
    "@interact\n",
    "def show_titles_more_than(x=(1000, 5000, 100),\n",
    "                          column=list(df.select_dtypes('number').columns), \n",
    "                          ):\n",
    "    # display(HTML(f'<h2>Showing articles with more than {x} {column}<h2>'))\n",
    "    display(df.loc[df[column] > x, ['title', 'published_date', 'read_time', 'tags', 'views', 'reads']])"
   ]
  },
  {
   "cell_type": "markdown",
   "metadata": {},
   "source": [
    "# Загрузка изображений\n"
   ]
  },
  {
   "cell_type": "code",
   "execution_count": 12,
   "metadata": {
    "ExecuteTime": {
     "end_time": "2019-02-11T21:59:18.359381Z",
     "start_time": "2019-02-11T21:59:18.253803Z"
    }
   },
   "outputs": [
    {
     "data": {
      "application/vnd.jupyter.widget-view+json": {
       "model_id": "9edb1d44d13e4596a01abe16de220940",
       "version_major": 2,
       "version_minor": 0
      },
      "text/plain": [
       "interactive(children=(Dropdown(description='file', options=('0cff9.jpg',), value='0cff9.jpg'), Output()), _dom…"
      ]
     },
     "metadata": {},
     "output_type": "display_data"
    }
   ],
   "source": [
    "fdir = 'nature/'\n",
    "\n",
    "@interact\n",
    "def show_images(file=os.listdir(fdir)):\n",
    "    display(Image(fdir+file))"
   ]
  },
  {
   "cell_type": "markdown",
   "metadata": {},
   "source": [
    "# Поиск взаимосвязей и описательные статистики\n"
   ]
  },
  {
   "cell_type": "code",
   "execution_count": 13,
   "metadata": {
    "ExecuteTime": {
     "end_time": "2019-02-11T21:59:18.682329Z",
     "start_time": "2019-02-11T21:59:18.610843Z"
    }
   },
   "outputs": [
    {
     "data": {
      "application/vnd.jupyter.widget-view+json": {
       "model_id": "1d1678d5fc2d4d008cfe249b093275e4",
       "version_major": 2,
       "version_minor": 0
      },
      "text/plain": [
       "interactive(children=(Dropdown(description='column1', options=('claps', 'days_since_publication', 'fans', 'num…"
      ]
     },
     "metadata": {},
     "output_type": "display_data"
    }
   ],
   "source": [
    "@interact\n",
    "def correlations(column1=list(df.select_dtypes('number').columns), \n",
    "                 column2=list(df.select_dtypes('number').columns)):\n",
    "    print(f\"Correlation: {df[column1].corr(df[column2])}\")"
   ]
  },
  {
   "cell_type": "code",
   "execution_count": 14,
   "metadata": {
    "ExecuteTime": {
     "end_time": "2019-02-11T21:59:18.734969Z",
     "start_time": "2019-02-11T21:59:18.683939Z"
    }
   },
   "outputs": [
    {
     "data": {
      "application/vnd.jupyter.widget-view+json": {
       "model_id": "a832754430db4319b89b5eddb25cee83",
       "version_major": 2,
       "version_minor": 0
      },
      "text/plain": [
       "interactive(children=(Dropdown(description='column', options=('claps', 'days_since_publication', 'fans', 'link…"
      ]
     },
     "metadata": {},
     "output_type": "display_data"
    }
   ],
   "source": [
    "@interact\n",
    "def describe(column=list(df.columns)):\n",
    "    print(df[column].describe())"
   ]
  },
  {
   "cell_type": "markdown",
   "metadata": {},
   "source": [
    "# Интерактивные графики"
   ]
  },
  {
   "cell_type": "code",
   "execution_count": 23,
   "metadata": {
    "ExecuteTime": {
     "end_time": "2019-02-11T21:59:19.742380Z",
     "start_time": "2019-02-11T21:59:18.736434Z"
    }
   },
   "outputs": [
    {
     "data": {
      "application/vnd.jupyter.widget-view+json": {
       "model_id": "6add2e874f954377997806020400c169",
       "version_major": 2,
       "version_minor": 0
      },
      "text/plain": [
       "interactive(children=(Dropdown(description='x', options=('claps', 'days_since_publication', 'fans', 'num_respo…"
      ]
     },
     "metadata": {},
     "output_type": "display_data"
    }
   ],
   "source": [
    "@interact\n",
    "def scatter_plot(x=list(df.select_dtypes('number').columns), \n",
    "                 y=list(df.select_dtypes('number').columns)[1:]):\n",
    "    df.iplot(kind='scatter', x=x, y=y, mode='markers', \n",
    "             xTitle=x.title(), yTitle=y.title(), title=f'{y.title()} vs {x.title()}')"
   ]
  },
  {
   "cell_type": "code",
   "execution_count": 16,
   "metadata": {
    "ExecuteTime": {
     "end_time": "2019-02-11T21:59:20.056907Z",
     "start_time": "2019-02-11T21:59:19.745853Z"
    }
   },
   "outputs": [
    {
     "data": {
      "application/vnd.jupyter.widget-view+json": {
       "model_id": "f3e577e958d840c985244c3e2b010702",
       "version_major": 2,
       "version_minor": 0
      },
      "text/plain": [
       "interactive(children=(Dropdown(description='x', options=('claps', 'days_since_publication', 'fans', 'num_respo…"
      ]
     },
     "metadata": {},
     "output_type": "display_data"
    }
   ],
   "source": [
    "@interact\n",
    "def scatter_plot(x=list(df.select_dtypes('number').columns), \n",
    "                 y=list(df.select_dtypes('number').columns)[1:],\n",
    "                 theme=list(cf.themes.THEMES.keys()), \n",
    "                 colorscale=list(cf.colors._scales_names.keys())):\n",
    "    \n",
    "    df.iplot(kind='scatter', x=x, y=y, mode='markers', \n",
    "             xTitle=x.title(), yTitle=y.title(), \n",
    "             text='title',\n",
    "             title=f'{y.title()} vs {x.title()}',\n",
    "            theme=theme, colorscale=colorscale)"
   ]
  },
  {
   "cell_type": "code",
   "execution_count": 18,
   "metadata": {
    "ExecuteTime": {
     "end_time": "2019-02-11T21:59:20.751182Z",
     "start_time": "2019-02-11T21:59:20.696239Z"
    }
   },
   "outputs": [],
   "source": [
    "from ipywidgets import interact_manual"
   ]
  },
  {
   "cell_type": "code",
   "execution_count": 19,
   "metadata": {
    "ExecuteTime": {
     "end_time": "2019-02-11T21:59:20.859857Z",
     "start_time": "2019-02-11T21:59:20.753440Z"
    }
   },
   "outputs": [
    {
     "data": {
      "application/vnd.jupyter.widget-view+json": {
       "model_id": "bf205091e4ab4dcfad35dd54a6dfd32e",
       "version_major": 2,
       "version_minor": 0
      },
      "text/plain": [
       "interactive(children=(Dropdown(description='x', options=('claps', 'days_since_publication', 'fans', 'num_respo…"
      ]
     },
     "metadata": {},
     "output_type": "display_data"
    }
   ],
   "source": [
    "@interact_manual\n",
    "def scatter_plot(x=list(df.select_dtypes('number').columns), \n",
    "                 y=list(df.select_dtypes('number').columns)[1:],\n",
    "                 categories=['binned_read_time', 'binned_word_count', 'publication', 'type'],\n",
    "                 theme=list(cf.themes.THEMES.keys()), \n",
    "                 colorscale=list(cf.colors._scales_names.keys())):\n",
    "    \n",
    "    df.iplot(kind='scatter', x=x, y=y, mode='markers', \n",
    "             categories=categories, \n",
    "             xTitle=x.title(), yTitle=y.title(), \n",
    "             text='title',\n",
    "             title=f'{y.title()} vs {x.title()}',\n",
    "             theme=theme, colorscale=colorscale)"
   ]
  },
  {
   "cell_type": "code",
   "execution_count": 25,
   "metadata": {
    "ExecuteTime": {
     "end_time": "2019-02-11T21:59:21.947232Z",
     "start_time": "2019-02-11T21:59:21.817802Z"
    }
   },
   "outputs": [
    {
     "data": {
      "application/vnd.jupyter.widget-view+json": {
       "model_id": "72b1a57dfb86497b8f22283a9b0ffdde",
       "version_major": 2,
       "version_minor": 0
      },
      "text/plain": [
       "interactive(children=(IntText(value=100, description='column1_value'), IntSlider(value=100, description='colum…"
      ]
     },
     "metadata": {},
     "output_type": "display_data"
    }
   ],
   "source": [
    "def show_less_than(column1_value, column2_value):\n",
    "    display(df.loc[(df['views'] < column1_value) & \n",
    "                    (df['reads'] < column2_value), \n",
    "                   ['title', 'read_time', 'tags', 'views', 'reads']])\n",
    "        \n",
    "column1_value=widgets.IntText(value=100, label='First')\n",
    "column2_value=widgets.IntSlider(value=100, label='Second')\n",
    "\n",
    "linked = widgets.jslink((column1_value, 'value'),\n",
    "                        (column2_value, 'value'))\n",
    "\n",
    "less_than = interact(show_less_than, column1_value=column1_value,\n",
    "                 column2_value=column2_value)"
   ]
  },
  {
   "cell_type": "code",
   "execution_count": 21,
   "metadata": {
    "ExecuteTime": {
     "end_time": "2019-02-11T21:59:22.001784Z",
     "start_time": "2019-02-11T21:59:21.948880Z"
    }
   },
   "outputs": [],
   "source": [
    "linked.unlink()"
   ]
  },
  {
   "cell_type": "code",
   "execution_count": 22,
   "metadata": {
    "ExecuteTime": {
     "end_time": "2019-02-11T21:59:22.072554Z",
     "start_time": "2019-02-11T21:59:22.003500Z"
    }
   },
   "outputs": [
    {
     "data": {
      "application/vnd.jupyter.widget-view+json": {
       "model_id": "0003431e988f487f92ef90f23e411a16",
       "version_major": 2,
       "version_minor": 0
      },
      "text/plain": [
       "interactive(children=(IntText(value=100, description='column1_value'), IntSlider(value=100, description='colum…"
      ]
     },
     "execution_count": 22,
     "metadata": {},
     "output_type": "execute_result"
    }
   ],
   "source": [
    "less_than.widget"
   ]
  }
 ],
 "metadata": {
  "hide_input": false,
  "kernelspec": {
   "display_name": "Python 3 (ipykernel)",
   "language": "python",
   "name": "python3"
  },
  "language_info": {
   "codemirror_mode": {
    "name": "ipython",
    "version": 3
   },
   "file_extension": ".py",
   "mimetype": "text/x-python",
   "name": "python",
   "nbconvert_exporter": "python",
   "pygments_lexer": "ipython3",
   "version": "3.9.13"
  },
  "toc": {
   "base_numbering": 1,
   "nav_menu": {},
   "number_sections": true,
   "sideBar": true,
   "skip_h1_title": false,
   "title_cell": "Table of Contents",
   "title_sidebar": "Contents",
   "toc_cell": false,
   "toc_position": {},
   "toc_section_display": true,
   "toc_window_display": false
  },
  "varInspector": {
   "cols": {
    "lenName": 16,
    "lenType": 16,
    "lenVar": 40
   },
   "kernels_config": {
    "python": {
     "delete_cmd_postfix": "",
     "delete_cmd_prefix": "del ",
     "library": "var_list.py",
     "varRefreshCmd": "print(var_dic_list())"
    },
    "r": {
     "delete_cmd_postfix": ") ",
     "delete_cmd_prefix": "rm(",
     "library": "var_list.r",
     "varRefreshCmd": "cat(var_dic_list()) "
    }
   },
   "types_to_exclude": [
    "module",
    "function",
    "builtin_function_or_method",
    "instance",
    "_Feature"
   ],
   "window_display": false
  }
 },
 "nbformat": 4,
 "nbformat_minor": 2
}
