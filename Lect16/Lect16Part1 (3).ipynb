{
 "cells": [
  {
   "cell_type": "markdown",
   "id": "754c39f8",
   "metadata": {},
   "source": [
    "# Модуль Collections\n",
    "\n",
    "Модуль collections - это встроенный модуль, который реализует специальные типы данных контейнеров. Они являются альтернативой для встроенных контейнеров Python общего назначения. Мы уже изучили основы: словари dict, списки list, множества set и кортежи tuple.\n",
    "\n",
    "Теперь давайте посмотрим, какие альтернативы предоставляет модуль collections.\n",
    "\n",
    "## Counter\n",
    "\n",
    "*Counter* - это подкласс *dict*, который помогает считать хэшируемые объекты. Внутри него элементы хранятся как ключи словаря, а количество элементов хранится как значение.\n",
    "\n",
    "Посмотрим, как можно использовать этот подкласс:"
   ]
  },
  {
   "cell_type": "code",
   "execution_count": 1,
   "id": "10c56ce3",
   "metadata": {},
   "outputs": [],
   "source": [
    "from collections import Counter"
   ]
  },
  {
   "cell_type": "markdown",
   "id": "a0c87d3a",
   "metadata": {},
   "source": [
    "**Counter() со списком**"
   ]
  },
  {
   "cell_type": "code",
   "execution_count": 2,
   "id": "454a8fe8",
   "metadata": {},
   "outputs": [
    {
     "data": {
      "text/plain": [
       "Counter({1: 6, 2: 6, 3: 4, 12: 1, 32: 1, 21: 1, 223: 1})"
      ]
     },
     "execution_count": 2,
     "metadata": {},
     "output_type": "execute_result"
    }
   ],
   "source": [
    "lst = [1,2,2,2,2,3,3,3,1,2,1,12,3,2,32,1,21,1,223,1]\n",
    "\n",
    "Counter(lst)"
   ]
  },
  {
   "cell_type": "markdown",
   "id": "2f37333d",
   "metadata": {},
   "source": [
    "**Counter со строкой**"
   ]
  },
  {
   "cell_type": "code",
   "execution_count": 3,
   "id": "6e3b8b82",
   "metadata": {},
   "outputs": [
    {
     "data": {
      "text/plain": [
       "Counter({'a': 2, 'b': 7, 's': 6, 'h': 3})"
      ]
     },
     "execution_count": 3,
     "metadata": {},
     "output_type": "execute_result"
    }
   ],
   "source": [
    "Counter('aabsbsbsbhshhbbsbs')"
   ]
  },
  {
   "cell_type": "markdown",
   "id": "be7b9b07",
   "metadata": {},
   "source": [
    "**Counter со словами в предложении**"
   ]
  },
  {
   "cell_type": "code",
   "execution_count": 4,
   "id": "976e01c6",
   "metadata": {},
   "outputs": [
    {
     "data": {
      "text/plain": [
       "Counter({'сколько': 3,\n",
       "         'раз': 2,\n",
       "         'каждое': 1,\n",
       "         'слово': 1,\n",
       "         'встречается': 1,\n",
       "         'в': 1,\n",
       "         'этом': 1,\n",
       "         'предложении': 1})"
      ]
     },
     "execution_count": 4,
     "metadata": {},
     "output_type": "execute_result"
    }
   ],
   "source": [
    "s = 'сколько раз каждое слово встречается в этом предложении сколько сколько раз'\n",
    "\n",
    "words = s.split()\n",
    "\n",
    "Counter(words)"
   ]
  },
  {
   "cell_type": "code",
   "execution_count": 5,
   "id": "066afece",
   "metadata": {},
   "outputs": [
    {
     "data": {
      "text/plain": [
       "[('сколько', 3), ('раз', 2)]"
      ]
     },
     "execution_count": 5,
     "metadata": {},
     "output_type": "execute_result"
    }
   ],
   "source": [
    "# Методы Counter() - наиболее часто встречающиеся элементы\n",
    "c = Counter(words)\n",
    "\n",
    "c.most_common(2)"
   ]
  },
  {
   "cell_type": "markdown",
   "id": "5ac94d7b",
   "metadata": {},
   "source": [
    "Также можно применять операторы:"
   ]
  },
  {
   "cell_type": "code",
   "execution_count": 5,
   "id": "63594c85",
   "metadata": {},
   "outputs": [
    {
     "name": "stdout",
     "output_type": "stream",
     "text": [
      "Counter({'b': 2, 'a': 1})\n",
      "Counter({'a': 4, 'd': 4, 'c': 3, 'b': 2})\n"
     ]
    }
   ],
   "source": [
    "c = Counter(a=4, b=2, c=0, d=-2)\n",
    "d = Counter(a=1, b=2, c=3, d=4)\n",
    "print(c & d)\n",
    "print(c | d)"
   ]
  },
  {
   "cell_type": "markdown",
   "id": "ae1dbad0",
   "metadata": {},
   "source": [
    "Популярные шаблоны использования:"
   ]
  },
  {
   "cell_type": "code",
   "execution_count": 7,
   "id": "a41c5eac",
   "metadata": {},
   "outputs": [
    {
     "data": {
      "text/plain": [
       "11"
      ]
     },
     "execution_count": 7,
     "metadata": {},
     "output_type": "execute_result"
    }
   ],
   "source": [
    "list_of_letters = list('абракадабра')\n",
    "letter_cnt = Counter(list_of_letters)\n",
    "sum(letter_cnt.values())  # число всех посчитанных элементов"
   ]
  },
  {
   "cell_type": "code",
   "execution_count": 8,
   "id": "707e36bb",
   "metadata": {},
   "outputs": [
    {
     "data": {
      "text/plain": [
       "['а', 'б', 'р', 'к', 'д']"
      ]
     },
     "execution_count": 8,
     "metadata": {},
     "output_type": "execute_result"
    }
   ],
   "source": [
    "list(letter_cnt)  # список уникальных элементов исходной последовательности"
   ]
  },
  {
   "cell_type": "code",
   "execution_count": 9,
   "id": "a4d1436c",
   "metadata": {},
   "outputs": [
    {
     "data": {
      "text/plain": [
       "{'а', 'б', 'д', 'к', 'р'}"
      ]
     },
     "execution_count": 9,
     "metadata": {},
     "output_type": "execute_result"
    }
   ],
   "source": [
    "set(letter_cnt)"
   ]
  },
  {
   "cell_type": "code",
   "execution_count": 10,
   "id": "fdbd581d",
   "metadata": {},
   "outputs": [
    {
     "data": {
      "text/plain": [
       "{'а': 5, 'б': 2, 'р': 2, 'к': 1, 'д': 1}"
      ]
     },
     "execution_count": 10,
     "metadata": {},
     "output_type": "execute_result"
    }
   ],
   "source": [
    "dict(letter_cnt)  # счетчик это подкласс словаря, можно преобразовать в обычный dict"
   ]
  },
  {
   "cell_type": "markdown",
   "id": "96f8a65b",
   "metadata": {},
   "source": [
    "Обращение к ключам происходит аналогично обычному словарю:"
   ]
  },
  {
   "cell_type": "code",
   "execution_count": 11,
   "id": "bc64d3b5",
   "metadata": {},
   "outputs": [
    {
     "data": {
      "text/plain": [
       "5"
      ]
     },
     "execution_count": 11,
     "metadata": {},
     "output_type": "execute_result"
    }
   ],
   "source": [
    "letter_cnt['а']"
   ]
  },
  {
   "cell_type": "markdown",
   "id": "ea9c8614",
   "metadata": {},
   "source": [
    "Если элемент отсутствовал в последовательности, при обращении по ключу счётчик не вызовет исключение, а вернет нулевое значение:"
   ]
  },
  {
   "cell_type": "code",
   "execution_count": 12,
   "id": "abbe2e11",
   "metadata": {},
   "outputs": [
    {
     "data": {
      "text/plain": [
       "0"
      ]
     },
     "execution_count": 12,
     "metadata": {},
     "output_type": "execute_result"
    }
   ],
   "source": [
    "letter_cnt['ю']"
   ]
  },
  {
   "cell_type": "markdown",
   "id": "2cefad2f",
   "metadata": {},
   "source": [
    "Присвоение нуля ключу не удаляет это значение, а создаёт соответствующую пару:"
   ]
  },
  {
   "cell_type": "code",
   "execution_count": 13,
   "id": "de29f857",
   "metadata": {},
   "outputs": [
    {
     "data": {
      "text/plain": [
       "Counter({'а': 5, 'б': 2, 'р': 2, 'к': 1, 'д': 1, 'в': 0})"
      ]
     },
     "execution_count": 13,
     "metadata": {},
     "output_type": "execute_result"
    }
   ],
   "source": [
    "letter_cnt['в'] = 0\n",
    "letter_cnt"
   ]
  },
  {
   "cell_type": "markdown",
   "id": "28fc7fb5",
   "metadata": {},
   "source": [
    "В качестве аргумента конструктор принимает не только последовательность, но и словарь, содержащий результаты подсчёта:"
   ]
  },
  {
   "cell_type": "code",
   "execution_count": 15,
   "id": "ef6a6860",
   "metadata": {},
   "outputs": [
    {
     "data": {
      "text/plain": [
       "Counter({'like': 2, 'dislike': 3})"
      ]
     },
     "execution_count": 15,
     "metadata": {},
     "output_type": "execute_result"
    }
   ],
   "source": [
    "emotion_cnt = Counter({'like':2, 'dislike':3})\n",
    "emotion_cnt"
   ]
  },
  {
   "cell_type": "markdown",
   "id": "c7a96441",
   "metadata": {},
   "source": [
    "Метод elements() преобразует результаты подсчета в итератор:"
   ]
  },
  {
   "cell_type": "code",
   "execution_count": 16,
   "id": "a3962f06",
   "metadata": {},
   "outputs": [
    {
     "data": {
      "text/plain": [
       "['like', 'like', 'dislike', 'dislike', 'dislike']"
      ]
     },
     "execution_count": 16,
     "metadata": {},
     "output_type": "execute_result"
    }
   ],
   "source": [
    "list(emotion_cnt.elements())"
   ]
  },
  {
   "cell_type": "markdown",
   "id": "9283e826",
   "metadata": {},
   "source": [
    "## defaultdict\n",
    "\n",
    "defaultdict это объект, который выглядит как словарь. Он предоставляет все те же методы, что и словарь, но defaultdict работает быстрее\n",
    "\n",
    "**defaultdict никогда не вызывает ошибку KeyError. Любой ключ, который не существует, получает значение, которое возвращает default factory.**"
   ]
  },
  {
   "cell_type": "code",
   "execution_count": 7,
   "id": "a9a479e6",
   "metadata": {},
   "outputs": [],
   "source": [
    "from collections import defaultdict"
   ]
  },
  {
   "cell_type": "code",
   "execution_count": 8,
   "id": "5575d871",
   "metadata": {},
   "outputs": [],
   "source": [
    "d = {}"
   ]
  },
  {
   "cell_type": "code",
   "execution_count": 9,
   "id": "898caa5c",
   "metadata": {},
   "outputs": [
    {
     "ename": "KeyError",
     "evalue": "'one'",
     "output_type": "error",
     "traceback": [
      "\u001b[1;31m---------------------------------------------------------------------------\u001b[0m",
      "\u001b[1;31mKeyError\u001b[0m                                  Traceback (most recent call last)",
      "\u001b[1;32m~\\AppData\\Local\\Temp/ipykernel_14600/950400381.py\u001b[0m in \u001b[0;36m<module>\u001b[1;34m\u001b[0m\n\u001b[1;32m----> 1\u001b[1;33m \u001b[0md\u001b[0m\u001b[1;33m[\u001b[0m\u001b[1;34m'one'\u001b[0m\u001b[1;33m]\u001b[0m\u001b[1;33m\u001b[0m\u001b[1;33m\u001b[0m\u001b[0m\n\u001b[0m",
      "\u001b[1;31mKeyError\u001b[0m: 'one'"
     ]
    }
   ],
   "source": [
    "d['one'] "
   ]
  },
  {
   "cell_type": "code",
   "execution_count": 10,
   "id": "d0ffd3aa",
   "metadata": {},
   "outputs": [],
   "source": [
    "d  = defaultdict(object)"
   ]
  },
  {
   "cell_type": "code",
   "execution_count": 14,
   "id": "32bc45c1",
   "metadata": {},
   "outputs": [
    {
     "data": {
      "text/plain": [
       "0"
      ]
     },
     "execution_count": 14,
     "metadata": {},
     "output_type": "execute_result"
    }
   ],
   "source": [
    "d['one'] "
   ]
  },
  {
   "cell_type": "code",
   "execution_count": 12,
   "id": "d97f07d9",
   "metadata": {},
   "outputs": [
    {
     "name": "stdout",
     "output_type": "stream",
     "text": [
      "one\n"
     ]
    }
   ],
   "source": [
    "for item in d:\n",
    "    print(item)"
   ]
  },
  {
   "cell_type": "markdown",
   "id": "9999e92b",
   "metadata": {},
   "source": [
    "Можно также создавать объект с указанием значения по умолчанию:"
   ]
  },
  {
   "cell_type": "code",
   "execution_count": 15,
   "id": "7cfa138c",
   "metadata": {},
   "outputs": [],
   "source": [
    "d = defaultdict(lambda: 0)"
   ]
  },
  {
   "cell_type": "code",
   "execution_count": 16,
   "id": "84b07a19",
   "metadata": {},
   "outputs": [
    {
     "data": {
      "text/plain": [
       "0"
      ]
     },
     "execution_count": 16,
     "metadata": {},
     "output_type": "execute_result"
    }
   ],
   "source": [
    "d['one']"
   ]
  },
  {
   "cell_type": "markdown",
   "id": "56a9596b",
   "metadata": {},
   "source": [
    "## OrderedDict\n",
    "OrderedDict это подкласс словаря, который запоминает порядок, в котором добавляются элементы.\n",
    "\n",
    "Например, рассмотрим обычный словарь:"
   ]
  },
  {
   "cell_type": "code",
   "execution_count": 17,
   "id": "e6e933ea",
   "metadata": {},
   "outputs": [
    {
     "name": "stdout",
     "output_type": "stream",
     "text": [
      "Обычный словарь:\n",
      "a A\n",
      "b B\n",
      "c C\n",
      "d D\n",
      "e E\n"
     ]
    }
   ],
   "source": [
    "print('Обычный словарь:')\n",
    "\n",
    "d = {}\n",
    "\n",
    "d['a'] = 'A'\n",
    "d['b'] = 'B'\n",
    "d['c'] = 'C'\n",
    "d['d'] = 'D'\n",
    "d['e'] = 'E'\n",
    "\n",
    "\n",
    "for k, v in d.items():\n",
    "    print(k, v)"
   ]
  },
  {
   "cell_type": "markdown",
   "id": "100a4024",
   "metadata": {},
   "source": [
    "Упорядоченный словарь:"
   ]
  },
  {
   "cell_type": "code",
   "execution_count": 18,
   "id": "563e8bd5",
   "metadata": {},
   "outputs": [
    {
     "name": "stdout",
     "output_type": "stream",
     "text": [
      "OrderedDict:\n",
      "a A\n",
      "b B\n",
      "c C\n",
      "d D\n",
      "e E\n"
     ]
    }
   ],
   "source": [
    "from collections import OrderedDict\n",
    "\n",
    "print('OrderedDict:')\n",
    "\n",
    "d = OrderedDict()\n",
    "\n",
    "d['a'] = 'A'\n",
    "d['b'] = 'B'\n",
    "d['c'] = 'C'\n",
    "d['d'] = 'D'\n",
    "d['e'] = 'E'\n",
    "\n",
    "\n",
    "for k, v in d.items():\n",
    "    print(k, v)"
   ]
  },
  {
   "cell_type": "markdown",
   "id": "a6f6c2de",
   "metadata": {},
   "source": [
    "## Сравнение упорядоченных словарей\n",
    "Обычный словарь при сравнении с другим словарём проверяет только содержание элементов. Упорядоченный словарь OrderedDict также учитывает порядок, в котором элементы были добавлены.\n",
    "\n",
    "Обычный словарь:"
   ]
  },
  {
   "cell_type": "code",
   "execution_count": 19,
   "id": "d954b84f",
   "metadata": {},
   "outputs": [
    {
     "name": "stdout",
     "output_type": "stream",
     "text": [
      "Являются ли словари одинаковыми?\n",
      "True\n"
     ]
    }
   ],
   "source": [
    "print('Являются ли словари одинаковыми?')\n",
    "\n",
    "d1 = {}\n",
    "d1['a'] = 'A'\n",
    "d1['b'] = 'B'\n",
    "\n",
    "d2 = {}\n",
    "d2['b'] = 'B'\n",
    "d2['a'] = 'A'\n",
    "\n",
    "print(d1==d2)"
   ]
  },
  {
   "cell_type": "markdown",
   "id": "03f40a59",
   "metadata": {},
   "source": [
    "An Ordered Dictionary:"
   ]
  },
  {
   "cell_type": "code",
   "execution_count": 20,
   "id": "b62d617c",
   "metadata": {},
   "outputs": [
    {
     "name": "stdout",
     "output_type": "stream",
     "text": [
      "Являются ли словари одинаковыми?\n",
      "False\n"
     ]
    }
   ],
   "source": [
    "print('Являются ли словари одинаковыми?')\n",
    "\n",
    "d1 = OrderedDict()\n",
    "d1['a'] = 'A'\n",
    "d1['b'] = 'B'\n",
    "\n",
    "\n",
    "d2 = OrderedDict()\n",
    "\n",
    "d2['b'] = 'B'\n",
    "d2['a'] = 'A'\n",
    "\n",
    "print(d1==d2)"
   ]
  },
  {
   "cell_type": "markdown",
   "id": "6fe41417",
   "metadata": {},
   "source": [
    "# namedtuple - именованный кортеж\n",
    "Стандартный кортеж использует числовые индексы для доступа к его элементам, например:"
   ]
  },
  {
   "cell_type": "code",
   "execution_count": 21,
   "id": "9e91eaca",
   "metadata": {},
   "outputs": [],
   "source": [
    "t = (12,13,14)"
   ]
  },
  {
   "cell_type": "code",
   "execution_count": 22,
   "id": "bdc7453a",
   "metadata": {},
   "outputs": [
    {
     "data": {
      "text/plain": [
       "12"
      ]
     },
     "execution_count": 22,
     "metadata": {},
     "output_type": "execute_result"
    }
   ],
   "source": [
    "t[0]"
   ]
  },
  {
   "cell_type": "markdown",
   "id": "f0877d71",
   "metadata": {},
   "source": [
    "В простых случаях этого обычно достаточно. С другой стороны, всё время помнить, какой номер отвечает за какое значение - неудобно, и может приводить к ошибкам, особенно если кортеж содержит много полей и был создан далеко от того места, где он будет использоваться. В таких случаях полезен namedtuple - он назначает элементами не только номера, но и названия. \n",
    "\n",
    "Каждый вид именованного кортежа представлен своим собственным классом, который создается с помощью функции namedtuple(). Параметры - это название нового класса, и строка с названиями элементов.\n",
    "\n",
    "По сути можно представить себе именованные кортежи как быстрый способ создания нового типа объекта/класса с некоторыми атрибутами.\n",
    "Например:"
   ]
  },
  {
   "cell_type": "code",
   "execution_count": 23,
   "id": "2c4852df",
   "metadata": {},
   "outputs": [],
   "source": [
    "from collections import namedtuple"
   ]
  },
  {
   "cell_type": "code",
   "execution_count": 24,
   "id": "aecb3b2f",
   "metadata": {},
   "outputs": [],
   "source": [
    "Dog = namedtuple('Dog','age breed name')\n",
    "\n",
    "sam = Dog(age=2,breed='Lab',name='Sammy')\n",
    "\n",
    "frank = Dog(age=2,breed='Shepard',name=\"Frankie\")"
   ]
  },
  {
   "cell_type": "markdown",
   "id": "63cdd534",
   "metadata": {},
   "source": [
    "Мы создаем именованный кортеж, сначала передавая название типа объекта (Dog), и затем передаём набор полей в виде строки, в которой названия полей разделены пробелами. Далее мы можем использовать различные атрибуты:"
   ]
  },
  {
   "cell_type": "code",
   "execution_count": 25,
   "id": "d2278f5c",
   "metadata": {},
   "outputs": [
    {
     "data": {
      "text/plain": [
       "Dog(age=2, breed='Lab', name='Sammy')"
      ]
     },
     "execution_count": 25,
     "metadata": {},
     "output_type": "execute_result"
    }
   ],
   "source": [
    "sam"
   ]
  },
  {
   "cell_type": "code",
   "execution_count": 26,
   "id": "02b5153a",
   "metadata": {},
   "outputs": [
    {
     "data": {
      "text/plain": [
       "2"
      ]
     },
     "execution_count": 26,
     "metadata": {},
     "output_type": "execute_result"
    }
   ],
   "source": [
    "sam.age"
   ]
  },
  {
   "cell_type": "code",
   "execution_count": 27,
   "id": "37728231",
   "metadata": {},
   "outputs": [
    {
     "data": {
      "text/plain": [
       "'Lab'"
      ]
     },
     "execution_count": 27,
     "metadata": {},
     "output_type": "execute_result"
    }
   ],
   "source": [
    "sam.breed"
   ]
  },
  {
   "cell_type": "code",
   "execution_count": 28,
   "id": "b0e98bce",
   "metadata": {},
   "outputs": [
    {
     "data": {
      "text/plain": [
       "2"
      ]
     },
     "execution_count": 28,
     "metadata": {},
     "output_type": "execute_result"
    }
   ],
   "source": [
    "sam[0]"
   ]
  },
  {
   "cell_type": "markdown",
   "id": "eee07736",
   "metadata": {},
   "source": [
    "# Двусторонняя очередь (deque)"
   ]
  },
  {
   "cell_type": "markdown",
   "id": "dc15066b",
   "metadata": {},
   "source": [
    "Объект типа deque (читается как «дэк», двусторонняя или двусвязная очередь) является усовершенствованным вариантом списка с оптимизированной вставкой/удалением элементов с обоих концов. Реализация deque оптимизирована так, что операции слева и справа имеют примерно одинаковую производительность O(1). Добавление новых элементов в конец происходит не сильно медленнее, чем во встроенных списках, но добавление в начало выполняется существенно быстрее."
   ]
  },
  {
   "cell_type": "code",
   "execution_count": 19,
   "id": "1b732421",
   "metadata": {},
   "outputs": [],
   "source": [
    "from collections import deque"
   ]
  },
  {
   "cell_type": "code",
   "execution_count": 29,
   "id": "734fc853",
   "metadata": {},
   "outputs": [],
   "source": [
    "seq = list(\"bcd\")"
   ]
  },
  {
   "cell_type": "code",
   "execution_count": 21,
   "id": "327de7e6",
   "metadata": {},
   "outputs": [],
   "source": [
    "deq = deque(seq)"
   ]
  },
  {
   "cell_type": "code",
   "execution_count": 22,
   "id": "f36fdaa8",
   "metadata": {},
   "outputs": [
    {
     "data": {
      "text/plain": [
       "deque(['b', 'c', 'd'])"
      ]
     },
     "execution_count": 22,
     "metadata": {},
     "output_type": "execute_result"
    }
   ],
   "source": [
    "deq"
   ]
  },
  {
   "cell_type": "code",
   "execution_count": 23,
   "id": "092adeae",
   "metadata": {},
   "outputs": [],
   "source": [
    "deq.append('e') # добавление в конец"
   ]
  },
  {
   "cell_type": "code",
   "execution_count": 24,
   "id": "0ba14864",
   "metadata": {},
   "outputs": [],
   "source": [
    "deq.appendleft('a')  # добавление в начало (левый конец)"
   ]
  },
  {
   "cell_type": "code",
   "execution_count": 25,
   "id": "78274c23",
   "metadata": {},
   "outputs": [
    {
     "data": {
      "text/plain": [
       "deque(['a', 'b', 'c', 'd', 'e'])"
      ]
     },
     "execution_count": 25,
     "metadata": {},
     "output_type": "execute_result"
    }
   ],
   "source": [
    "deq"
   ]
  },
  {
   "cell_type": "markdown",
   "id": "40f3926a",
   "metadata": {},
   "source": [
    "Чтобы добавлять не одиночный элемент, а группу итерируемого объекта iterable используйте соответственно extend(iterable) и extendleft(iterable).\n",
    "\n",
    "Аналогично методу append() метод pop() для deque работает с обоих концов:"
   ]
  },
  {
   "cell_type": "code",
   "execution_count": 26,
   "id": "1e296f08",
   "metadata": {},
   "outputs": [
    {
     "data": {
      "text/plain": [
       "'e'"
      ]
     },
     "execution_count": 26,
     "metadata": {},
     "output_type": "execute_result"
    }
   ],
   "source": [
    "deq.pop()"
   ]
  },
  {
   "cell_type": "code",
   "execution_count": 27,
   "id": "a280dccf",
   "metadata": {},
   "outputs": [
    {
     "data": {
      "text/plain": [
       "'a'"
      ]
     },
     "execution_count": 27,
     "metadata": {},
     "output_type": "execute_result"
    }
   ],
   "source": [
    "deq.popleft()"
   ]
  },
  {
   "cell_type": "code",
   "execution_count": 28,
   "id": "3f237a3c",
   "metadata": {},
   "outputs": [
    {
     "data": {
      "text/plain": [
       "deque(['b', 'c', 'd'])"
      ]
     },
     "execution_count": 28,
     "metadata": {},
     "output_type": "execute_result"
    }
   ],
   "source": [
    "deq"
   ]
  },
  {
   "cell_type": "markdown",
   "id": "f12db3fa",
   "metadata": {},
   "source": [
    "Кроме перечисленных, доступны следующие методы:\n",
    "\n",
    "* remove(value) – удаление первого вхождения value\n",
    "* reverse() – разворачивает очередь)\n",
    "* rotate(n=1) – последовательно переносит n элементов из начала в конец (если n отрицательно, то с конца в начало)"
   ]
  },
  {
   "cell_type": "code",
   "execution_count": 30,
   "id": "6d6ed756",
   "metadata": {},
   "outputs": [
    {
     "data": {
      "text/plain": [
       "deque(['п',\n",
       "       'р',\n",
       "       'о',\n",
       "       'г',\n",
       "       'р',\n",
       "       'а',\n",
       "       'м',\n",
       "       'м',\n",
       "       'и',\n",
       "       'р',\n",
       "       'о',\n",
       "       'в',\n",
       "       'а',\n",
       "       'н',\n",
       "       'и',\n",
       "       'е'])"
      ]
     },
     "execution_count": 30,
     "metadata": {},
     "output_type": "execute_result"
    }
   ],
   "source": [
    "seq = list(\"программирование\")\n",
    "deq = deque(seq)\n",
    "deq"
   ]
  },
  {
   "cell_type": "code",
   "execution_count": 32,
   "id": "8aaa4e7a",
   "metadata": {},
   "outputs": [],
   "source": [
    "deq.rotate(4)"
   ]
  },
  {
   "cell_type": "code",
   "execution_count": 33,
   "id": "01839dc4",
   "metadata": {},
   "outputs": [
    {
     "data": {
      "text/plain": [
       "deque(['а',\n",
       "       'н',\n",
       "       'и',\n",
       "       'е',\n",
       "       'п',\n",
       "       'р',\n",
       "       'о',\n",
       "       'г',\n",
       "       'р',\n",
       "       'а',\n",
       "       'м',\n",
       "       'м',\n",
       "       'и',\n",
       "       'р',\n",
       "       'о',\n",
       "       'в'])"
      ]
     },
     "execution_count": 33,
     "metadata": {},
     "output_type": "execute_result"
    }
   ],
   "source": [
    "deq"
   ]
  },
  {
   "cell_type": "markdown",
   "id": "28808e7c",
   "metadata": {},
   "source": [
    "Допустим, мы создаëм для предприятия систему онлайн-чатов с клиентами. В рабочее время клиенты заходят на сайт, и нам нужно с помощью списка отслеживать, в каком порядке зарегистрировавшиеся клиенты выстраиваются в последовательность. Тот, кто вошëл на сайт первым, должен раньше остальных попасть к только что освободившемуся сотруднику службы поддержки. Следующий фрагмент кода показывает вариант реализации с использованием списков:"
   ]
  },
  {
   "cell_type": "code",
   "execution_count": 35,
   "id": "1f44b8e1",
   "metadata": {},
   "outputs": [],
   "source": [
    "clients = list()\n",
    "\n",
    "def check_in(client):\n",
    "    clients.append(client)\n",
    "    print(f\"in: New client {client} joined the queue.\")\n",
    "        \n",
    "def connect_to_associate(associate):\n",
    "    if clients:\n",
    "        client_to_connect = clients.pop(0)\n",
    "        print(f\"out: Remove client {client_to_connect}, connecting to {associate}.\")\n",
    "    else:\n",
    "        print(\"No more clients are waiting.\")"
   ]
  },
  {
   "cell_type": "code",
   "execution_count": 36,
   "id": "b700819c",
   "metadata": {},
   "outputs": [
    {
     "name": "stdout",
     "output_type": "stream",
     "text": [
      "in: New client John joined the queue.\n",
      "in: New client Sam joined the queue.\n",
      "out: Remove client John, connecting to Emily.\n",
      "in: New client Danny joined the queue.\n",
      "out: Remove client Sam, connecting to Zoe.\n",
      "out: Remove client Danny, connecting to Jack.\n",
      "No more clients are waiting.\n"
     ]
    }
   ],
   "source": [
    "check_in(\"John\")\n",
    "check_in(\"Sam\")\n",
    "connect_to_associate(\"Emily\")\n",
    "check_in(\"Danny\")\n",
    "connect_to_associate(\"Zoe\")\n",
    "connect_to_associate(\"Jack\")\n",
    "connect_to_associate(\"Aaron\")"
   ]
  },
  {
   "cell_type": "code",
   "execution_count": 37,
   "id": "dae007ba",
   "metadata": {},
   "outputs": [],
   "source": [
    "from collections import deque\n",
    "\n",
    "clients = deque()\n",
    "\n",
    "def check_in(client):\n",
    "    clients.append(client)\n",
    "    print(f\"in: New client {client} joined the queue.\")\n",
    "\n",
    "def connect_to_associate(associate):\n",
    "    if clients:\n",
    "        client_to_connect = clients.popleft()\n",
    "        print(f\"out: Remove client {client_to_connect}, connecting to {associate}.\")\n",
    "    else:\n",
    "        print(\"No more clients are waiting.\")"
   ]
  },
  {
   "cell_type": "code",
   "execution_count": 38,
   "id": "c3c0a8c7",
   "metadata": {},
   "outputs": [],
   "source": [
    "from collections import deque\n",
    "from timeit import timeit\n",
    "\n",
    "def time_fifo_testing(n):\n",
    "    integer_l = list(range(n))\n",
    "    integer_d = deque(range(n))\n",
    "    t_l = timeit(lambda: integer_l.pop(0), number=n)\n",
    "    t_d = timeit(lambda: integer_d.popleft(), number=n)\n",
    "    return f\"{n: <9} list: {t_l:.6e} | deque: {t_d:.6e}\""
   ]
  },
  {
   "cell_type": "code",
   "execution_count": 39,
   "id": "7ff5ed70",
   "metadata": {},
   "outputs": [
    {
     "name": "stdout",
     "output_type": "stream",
     "text": [
      "100       list: 4.530000e-05 | deque: 1.790000e-05\n",
      "1000      list: 1.905900e-03 | deque: 3.357000e-04\n",
      "10000     list: 1.061306e-01 | deque: 7.008000e-04\n",
      "100000    list: 1.038084e+01 | deque: 7.856100e-03\n"
     ]
    }
   ],
   "source": [
    "numbers = (100, 1000, 10000, 100000)\n",
    "for number in numbers:\n",
    "    print(time_fifo_testing(number))"
   ]
  },
  {
   "cell_type": "markdown",
   "id": "145d26c9",
   "metadata": {},
   "source": [
    "# Отладчик - Python Debugger\n",
    "\n",
    "Чтобы найти ошибки в Вашем коде, Вы скорее всего использовали множество команд print. Есть лучший способ - использование встроенного в Python модуля debugger (pdb). Модуль pdb реализует интерактивную среду отладки для программ Python. Он позволяет Вам поставить программу на паузу, посмотреть значения переменных, и увидеть выполнение Вашей программы шаг за шагом, чтобы Вы могли понять, что именно делает Ваша программа, и найти ошибку в логике.\n",
    "\n",
    "Это немного сложно показать, поскольку нам придется специально сделать ошибку, но надеюсь что этот простой пример покажет возможности модуля pdb. \n",
    "___\n",
    "Здесь мы намеренно сделаем ошибку, пытаясь сложить список и число"
   ]
  },
  {
   "cell_type": "code",
   "execution_count": 1,
   "id": "3768cf63",
   "metadata": {},
   "outputs": [
    {
     "name": "stdout",
     "output_type": "stream",
     "text": [
      "5\n"
     ]
    },
    {
     "ename": "TypeError",
     "evalue": "unsupported operand type(s) for +: 'int' and 'list'",
     "output_type": "error",
     "traceback": [
      "\u001b[1;31m---------------------------------------------------------------------------\u001b[0m",
      "\u001b[1;31mTypeError\u001b[0m                                 Traceback (most recent call last)",
      "\u001b[1;32m~\\AppData\\Local\\Temp\\ipykernel_12576\\2870014791.py\u001b[0m in \u001b[0;36m<module>\u001b[1;34m\u001b[0m\n\u001b[0;32m      5\u001b[0m \u001b[0mresult\u001b[0m \u001b[1;33m=\u001b[0m \u001b[0my\u001b[0m \u001b[1;33m+\u001b[0m \u001b[0mz\u001b[0m\u001b[1;33m\u001b[0m\u001b[1;33m\u001b[0m\u001b[0m\n\u001b[0;32m      6\u001b[0m \u001b[0mprint\u001b[0m\u001b[1;33m(\u001b[0m\u001b[0mresult\u001b[0m\u001b[1;33m)\u001b[0m\u001b[1;33m\u001b[0m\u001b[1;33m\u001b[0m\u001b[0m\n\u001b[1;32m----> 7\u001b[1;33m \u001b[0mresult2\u001b[0m \u001b[1;33m=\u001b[0m \u001b[0my\u001b[0m\u001b[1;33m+\u001b[0m\u001b[0mx\u001b[0m\u001b[1;33m\u001b[0m\u001b[1;33m\u001b[0m\u001b[0m\n\u001b[0m\u001b[0;32m      8\u001b[0m \u001b[0mprint\u001b[0m\u001b[1;33m(\u001b[0m\u001b[0mresult2\u001b[0m\u001b[1;33m)\u001b[0m\u001b[1;33m\u001b[0m\u001b[1;33m\u001b[0m\u001b[0m\n",
      "\u001b[1;31mTypeError\u001b[0m: unsupported operand type(s) for +: 'int' and 'list'"
     ]
    }
   ],
   "source": [
    "x = [1,3,4]\n",
    "y = 2\n",
    "z = 3\n",
    "\n",
    "result = y + z\n",
    "print(result)\n",
    "result2 = y+x\n",
    "print(result2)"
   ]
  },
  {
   "cell_type": "markdown",
   "id": "3a0f5bb7",
   "metadata": {},
   "source": [
    "Хм, кажется мы получили ошибку! Давайте применим set_trace(), используя модуль pdb. Это позволит нам сделать паузу в указанной точке, и посмотреть что там происходит."
   ]
  },
  {
   "cell_type": "code",
   "execution_count": 2,
   "id": "eb8ce4e5",
   "metadata": {},
   "outputs": [
    {
     "name": "stdout",
     "output_type": "stream",
     "text": [
      "5\n",
      "--Return--\n",
      "None\n",
      "> \u001b[1;32mc:\\users\\mbbur\\appdata\\local\\temp\\ipykernel_12576\\1419980936.py\u001b[0m(11)\u001b[0;36m<module>\u001b[1;34m()\u001b[0m\n",
      "\n",
      "ipdb> y\n",
      "2\n",
      "ipdb> x\n",
      "[1, 3, 4]\n",
      "ipdb> \n",
      "[1, 3, 4]\n",
      "ipdb> end\n",
      "*** NameError: name 'end' is not defined\n",
      "--KeyboardInterrupt--\n",
      "\n",
      "KeyboardInterrupt: Interrupted by user\n"
     ]
    },
    {
     "ename": "TypeError",
     "evalue": "unsupported operand type(s) for +: 'int' and 'list'",
     "output_type": "error",
     "traceback": [
      "\u001b[1;31m---------------------------------------------------------------------------\u001b[0m",
      "\u001b[1;31mTypeError\u001b[0m                                 Traceback (most recent call last)",
      "\u001b[1;32m~\\AppData\\Local\\Temp\\ipykernel_12576\\1419980936.py\u001b[0m in \u001b[0;36m<module>\u001b[1;34m\u001b[0m\n\u001b[0;32m     11\u001b[0m \u001b[0mpdb\u001b[0m\u001b[1;33m.\u001b[0m\u001b[0mset_trace\u001b[0m\u001b[1;33m(\u001b[0m\u001b[1;33m)\u001b[0m\u001b[1;33m\u001b[0m\u001b[1;33m\u001b[0m\u001b[0m\n\u001b[0;32m     12\u001b[0m \u001b[1;33m\u001b[0m\u001b[0m\n\u001b[1;32m---> 13\u001b[1;33m \u001b[0mresult2\u001b[0m \u001b[1;33m=\u001b[0m \u001b[0my\u001b[0m\u001b[1;33m+\u001b[0m\u001b[0mx\u001b[0m\u001b[1;33m\u001b[0m\u001b[1;33m\u001b[0m\u001b[0m\n\u001b[0m\u001b[0;32m     14\u001b[0m \u001b[0mprint\u001b[0m\u001b[1;33m(\u001b[0m\u001b[0mresult2\u001b[0m\u001b[1;33m)\u001b[0m\u001b[1;33m\u001b[0m\u001b[1;33m\u001b[0m\u001b[0m\n",
      "\u001b[1;31mTypeError\u001b[0m: unsupported operand type(s) for +: 'int' and 'list'"
     ]
    }
   ],
   "source": [
    "import pdb\n",
    "\n",
    "x = [1,3,4]\n",
    "y = 2\n",
    "z = 3\n",
    "\n",
    "result = y + z\n",
    "print(result)\n",
    "\n",
    "# Set a trace using Python Debugger\n",
    "pdb.set_trace()\n",
    "\n",
    "result2 = y+x\n",
    "print(result2)"
   ]
  }
 ],
 "metadata": {
  "kernelspec": {
   "display_name": "Python 3 (ipykernel)",
   "language": "python",
   "name": "python3"
  },
  "language_info": {
   "codemirror_mode": {
    "name": "ipython",
    "version": 3
   },
   "file_extension": ".py",
   "mimetype": "text/x-python",
   "name": "python",
   "nbconvert_exporter": "python",
   "pygments_lexer": "ipython3",
   "version": "3.9.13"
  }
 },
 "nbformat": 4,
 "nbformat_minor": 5
}
