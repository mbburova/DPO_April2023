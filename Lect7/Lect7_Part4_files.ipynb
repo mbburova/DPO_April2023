{
 "cells": [
  {
   "cell_type": "markdown",
   "metadata": {},
   "source": [
    "# Python для анализа данных\n",
    "\n",
    "## Веб-скрэйпинг: скачивание файлов\n",
    "\n",
    "*На основе блокнота Татьяны Рогович, НИУ ВШЭ*\n",
    "*Автор: Ян Пиле, НИУ ВШЭ*"
   ]
  },
  {
   "cell_type": "markdown",
   "metadata": {},
   "source": [
    "## Скачивание файлов"
   ]
  },
  {
   "cell_type": "markdown",
   "metadata": {},
   "source": [
    "Еще одно применение скрэйпинга, о котором мы пока не поговорили - это автоматизированное скачивание файлов. Например, вы хотите скачать научные статьи по определенному ключевому слову или прайс-листы поставщика, которые он загружает на сайт в эскеле.\n",
    "\n",
    "Давайте посмотрим, как скачивать файлы на примере pdf и заодно попробуем походить по ссылкам. Кстати, этот процесс еще часто называется spidering или crawling, потому что ваш скрипт как паучок ползет по ссылкам (отсюда и название первых поисковых роботов - spider).\n",
    "\n",
    "Давайте попробуем сохранить англоязычные summary дисертаций, защищенных в 2019 году\n",
    "\n",
    "Мы уже отредактировали фильтры и ссылка их запомнила. Позже сегодня посмотрим как можно самим заполнять такие поля с помощью Selenium.\n",
    "\n",
    "https://www.hse.ru/sci/diss/?author=&chief=&year=2019&type=1&degree_type=&council=&spec=&fulltext=yes"
   ]
  },
  {
   "cell_type": "code",
   "execution_count": 1,
   "metadata": {},
   "outputs": [
    {
     "name": "stdout",
     "output_type": "stream",
     "text": [
      "Collecting selenium\n",
      "  Downloading selenium-4.8.2-py3-none-any.whl (6.9 MB)\n",
      "     ---------------------------------------- 6.9/6.9 MB 5.7 MB/s eta 0:00:00\n",
      "Requirement already satisfied: urllib3[socks]~=1.26 in c:\\users\\mbbur\\anaconda3\\lib\\site-packages (from selenium) (1.26.11)\n",
      "Requirement already satisfied: certifi>=2021.10.8 in c:\\users\\mbbur\\anaconda3\\lib\\site-packages (from selenium) (2022.9.14)\n",
      "Collecting trio-websocket~=0.9\n",
      "  Using cached trio_websocket-0.9.2-py3-none-any.whl (16 kB)\n",
      "Collecting trio~=0.17\n",
      "  Using cached trio-0.22.0-py3-none-any.whl (384 kB)\n",
      "Requirement already satisfied: attrs>=19.2.0 in c:\\users\\mbbur\\anaconda3\\lib\\site-packages (from trio~=0.17->selenium) (21.4.0)\n",
      "Collecting async-generator>=1.9\n",
      "  Using cached async_generator-1.10-py3-none-any.whl (18 kB)\n",
      "Requirement already satisfied: cffi>=1.14 in c:\\users\\mbbur\\anaconda3\\lib\\site-packages (from trio~=0.17->selenium) (1.15.1)\n",
      "Requirement already satisfied: idna in c:\\users\\mbbur\\anaconda3\\lib\\site-packages (from trio~=0.17->selenium) (3.3)\n",
      "Collecting outcome\n",
      "  Using cached outcome-1.2.0-py2.py3-none-any.whl (9.7 kB)\n",
      "Collecting exceptiongroup>=1.0.0rc9\n",
      "  Downloading exceptiongroup-1.1.0-py3-none-any.whl (14 kB)\n",
      "Requirement already satisfied: sortedcontainers in c:\\users\\mbbur\\anaconda3\\lib\\site-packages (from trio~=0.17->selenium) (2.4.0)\n",
      "Requirement already satisfied: sniffio in c:\\users\\mbbur\\anaconda3\\lib\\site-packages (from trio~=0.17->selenium) (1.2.0)\n",
      "Collecting wsproto>=0.14\n",
      "  Using cached wsproto-1.2.0-py3-none-any.whl (24 kB)\n",
      "Requirement already satisfied: PySocks!=1.5.7,<2.0,>=1.5.6 in c:\\users\\mbbur\\anaconda3\\lib\\site-packages (from urllib3[socks]~=1.26->selenium) (1.7.1)\n",
      "Requirement already satisfied: pycparser in c:\\users\\mbbur\\anaconda3\\lib\\site-packages (from cffi>=1.14->trio~=0.17->selenium) (2.21)\n",
      "Collecting h11<1,>=0.9.0\n",
      "  Using cached h11-0.14.0-py3-none-any.whl (58 kB)\n",
      "Installing collected packages: outcome, h11, exceptiongroup, async-generator, wsproto, trio, trio-websocket, selenium\n",
      "Successfully installed async-generator-1.10 exceptiongroup-1.1.0 h11-0.14.0 outcome-1.2.0 selenium-4.8.2 trio-0.22.0 trio-websocket-0.9.2 wsproto-1.2.0\n"
     ]
    },
    {
     "name": "stderr",
     "output_type": "stream",
     "text": [
      "  WARNING: Retrying (Retry(total=4, connect=None, read=None, redirect=None, status=None)) after connection broken by 'ProtocolError('Connection aborted.', ConnectionResetError(10054, 'Удаленный хост принудительно разорвал существующее подключение', None, 10054, None))': /packages/ad/13/481aa476a9bcfec0bf74140a4c395dede0569cf56dc773abec181f95e30f/selenium-4.8.2-py3-none-any.whl\n"
     ]
    }
   ],
   "source": [
    "!pip install selenium"
   ]
  },
  {
   "cell_type": "code",
   "execution_count": 2,
   "metadata": {},
   "outputs": [
    {
     "name": "stdout",
     "output_type": "stream",
     "text": [
      "Collecting webdriver_manager\n",
      "  Downloading webdriver_manager-3.8.5-py2.py3-none-any.whl (27 kB)\n",
      "Collecting python-dotenv\n",
      "  Downloading python_dotenv-1.0.0-py3-none-any.whl (19 kB)\n",
      "Requirement already satisfied: requests in c:\\users\\mbbur\\anaconda3\\lib\\site-packages (from webdriver_manager) (2.28.1)\n",
      "Requirement already satisfied: packaging in c:\\users\\mbbur\\anaconda3\\lib\\site-packages (from webdriver_manager) (21.3)\n",
      "Requirement already satisfied: tqdm in c:\\users\\mbbur\\anaconda3\\lib\\site-packages (from webdriver_manager) (4.64.1)\n",
      "Requirement already satisfied: pyparsing!=3.0.5,>=2.0.2 in c:\\users\\mbbur\\anaconda3\\lib\\site-packages (from packaging->webdriver_manager) (3.0.9)\n",
      "Requirement already satisfied: idna<4,>=2.5 in c:\\users\\mbbur\\anaconda3\\lib\\site-packages (from requests->webdriver_manager) (3.3)\n",
      "Requirement already satisfied: certifi>=2017.4.17 in c:\\users\\mbbur\\anaconda3\\lib\\site-packages (from requests->webdriver_manager) (2022.9.14)\n",
      "Requirement already satisfied: urllib3<1.27,>=1.21.1 in c:\\users\\mbbur\\anaconda3\\lib\\site-packages (from requests->webdriver_manager) (1.26.11)\n",
      "Requirement already satisfied: charset-normalizer<3,>=2 in c:\\users\\mbbur\\anaconda3\\lib\\site-packages (from requests->webdriver_manager) (2.0.4)\n",
      "Requirement already satisfied: colorama in c:\\users\\mbbur\\anaconda3\\lib\\site-packages (from tqdm->webdriver_manager) (0.4.5)\n",
      "Installing collected packages: python-dotenv, webdriver_manager\n",
      "Successfully installed python-dotenv-1.0.0 webdriver_manager-3.8.5\n"
     ]
    }
   ],
   "source": [
    "!pip install webdriver_manager"
   ]
  },
  {
   "cell_type": "code",
   "execution_count": 3,
   "metadata": {},
   "outputs": [
    {
     "name": "stderr",
     "output_type": "stream",
     "text": [
      "[WDM] - Downloading: 100%|████████████████████████████████████████████████████████| 6.78M/6.78M [00:00<00:00, 7.15MB/s]\n",
      "C:\\Users\\mbbur\\AppData\\Local\\Temp\\ipykernel_30168\\356555374.py:10: DeprecationWarning: executable_path has been deprecated, please pass in a Service object\n",
      "  driver = webdriver.Chrome(ChromeDriverManager().install())\n"
     ]
    }
   ],
   "source": [
    "import requests \n",
    "from bs4 import BeautifulSoup\n",
    "from selenium import webdriver as wb\n",
    "from selenium import webdriver\n",
    "from selenium.webdriver.common.keys import Keys\n",
    "from selenium.webdriver.support.ui import Select\n",
    "from time import sleep\n",
    "import pandas as pd\n",
    "from webdriver_manager.chrome import ChromeDriverManager\n",
    "driver = webdriver.Chrome(ChromeDriverManager().install())\n",
    "\n",
    "driver.implicitly_wait(2)"
   ]
  },
  {
   "cell_type": "code",
   "execution_count": 28,
   "metadata": {},
   "outputs": [],
   "source": [
    "link = 'https://www.hse.ru/sci/diss/?author=&chief=&year=2019&type=1&degree_type=&council=&spec=&fulltext=yes'\n",
    "driver.get(link)"
   ]
  },
  {
   "cell_type": "code",
   "execution_count": 29,
   "metadata": {},
   "outputs": [],
   "source": [
    "#soup = BeautifulSoup(requests.get(link).text)\n",
    "# soup.find_all('a')\n",
    "soup = BeautifulSoup(driver.page_source)"
   ]
  },
  {
   "cell_type": "markdown",
   "metadata": {},
   "source": [
    "Давайте для начала поэкспериментируем с первым кандидатом."
   ]
  },
  {
   "cell_type": "code",
   "execution_count": 30,
   "metadata": {},
   "outputs": [
    {
     "data": {
      "text/plain": [
       "<html><head><title>Диссертации – Национальный исследовательский университет «Высшая школа экономики»</title><meta charset=\"utf-8\"/><meta content=\"width=device-width, initial-scale=1\" name=\"viewport\"/><link href=\"https://www.hse.ru/sci/diss/\" rel=\"canonical\"/><link href=\"/f/src/global/i/favicon/favicon_ios_180x180.png\" rel=\"apple-touch-icon\" sizes=\"180x180\"/><link href=\"/f/src/global/i/favicon/favicon_32x32.png\" rel=\"icon\" sizes=\"32x32\" type=\"image/png\"/><link href=\"/f/src/global/i/favicon/favicon_16x16.png\" rel=\"icon\" sizes=\"16x16\" type=\"image/png\"/><link color=\"#242f63\" href=\"/f/src/global/i/favicon/favicon.svg\" rel=\"mask-icon\"/><link href=\"/f/src/manifest/manifest_ru.json\" rel=\"manifest\"/><meta content=\"/f/src/global/i/favicon/browserconfig.xml\" name=\"msapplication-config\"/><link href=\"/favicon.ico\" rel=\"shortcut icon\" type=\"image/x-icon\"/><meta content=\"website\" property=\"og:type\"/><link href=\"/f/src/projects/unshm1/unshm1.css\" media=\"all\" rel=\"stylesheet\"/><link href=\"/f/src/global/css/sitemap.css\" media=\"all\" rel=\"stylesheet\"/><link href=\"/f/src/global/css/vision.css\" media=\"all\" rel=\"stylesheet\"/><link href=\"/f/src/edu/css/edu2.css\" media=\"all\" rel=\"stylesheet\"/><link href=\"/f/src/global/css/owl.carousel2.min.css\" media=\"all\" rel=\"stylesheet\"/><!--[if lt IE 10]><script src=\"/f/src/global/bower_components/es5-shim/es5-shim.min.js\"></script><![endif]--><script async=\"\" src=\"https://www.google-analytics.com/plugins/ua/linkid.js\" type=\"text/javascript\"></script><script async=\"\" src=\"https://www.google-analytics.com/analytics.js\" type=\"text/javascript\"></script><script async=\"\" src=\"https://mc.yandex.ru/metrika/tag.js\" type=\"text/javascript\"></script><script async=\"\" src=\"https://www.googletagmanager.com/gtag/js?id=G-P5QXNNXGKL&amp;l=dataLayer&amp;cx=c\" type=\"text/javascript\"></script><script async=\"\" src=\"https://mc.yandex.ru/metrika/tag.js\"></script><script async=\"\" gtm=\"GTM-P6DCQX\" src=\"https://www.googleoptimize.com/optimize.js?id=GTM-MF7NLMS\" type=\"text/javascript\"></script><script async=\"\" src=\"/f/src/_/jquery.orfo.js\" type=\"text/javascript\"></script><script async=\"\" src=\"https://www.googletagmanager.com/gtm.js?id=GTM-P6DCQX\"></script><script src=\"/f/src/global/js/cache/jquery-1.10.1.min/jquery.cookie/hse.utils/errtrack/main/popup/sitemap.ajax/vision/owl.carousel2.min/universal-footer.js\"></script><!-- counter-->\n",
       "<script src=\"https://www.hse.ru/f/gtm/ip\"></script>\n",
       "<script>(function(w,d,s,l,i){w[l]=w[l]||[];w[l].push({'gtm.start':\n",
       "\t\t\t\tnew Date().getTime(),event:'gtm.js'});var f=d.getElementsByTagName(s)[0],\n",
       "\t\t\t\tj=d.createElement(s),dl=l!='dataLayer'?'&l='+l:'';j.async=true;j.src=\n",
       "\t\t\t\t'https://www.googletagmanager.com/gtm.js?id='+i+dl;f.parentNode.insertBefore(j,f);\n",
       "\t\t\t\t})(window,document,'script','dataLayer','GTM-P6DCQX');</script>\n",
       "<!-- /counter--><script>(function() {\n",
       "\tvar s = document.createElement('script'); s.type = 'text/javascript'; s.async = true;\n",
       "\ts.src = '/f/src/_/jquery.orfo.js';\n",
       "\ts.onload = s.onreadystatechange = function() {\n",
       "\t\tif ($.fn.hseOrfo) {\t// old IE...\n",
       "\t\t\t$(document).hseOrfo({\n",
       "\t\t\t\t'lang': 'ru'\n",
       "\t\t\t});\n",
       "\t\t}\n",
       "\t};\n",
       "\tvar t = document.getElementsByTagName('script')[0]; t.parentNode.insertBefore(s, t);\n",
       "})();\n",
       "\n",
       "$(function() {\n",
       "\tvar sidebar = '.sidebar .sidebar__inner';\n",
       "\tvar modules = '.modules .modules__inner';\n",
       "\tvar content = '.content .content__inner';\n",
       "\tvar custom = '.js-orfo';\n",
       "\tvar selector = $($.grep([custom, sidebar, modules, content], function(selector) { return $(selector).length})).get(0);\n",
       "\n",
       "\tif( selector ) {\n",
       "\t\tvar mistake = '&lt;br/&gt; &lt;noindex&gt; &lt;span class=&quot;with-icon with-icon_tick&quot;&gt;&amp;nbsp;&lt;/span&gt; &lt;p class=&quot;last_child with-indent&quot;&gt; Нашли &lt;span class=&quot;wrong&quot;&gt;опечатку&lt;/span&gt;?&lt;br /&gt; Выделите её, нажмите Ctrl+Enter и отправьте нам уведомление. Спасибо за участие! &lt;/p&gt; &lt;/noindex&gt;';\n",
       "\t\tvar code = $('<textarea/>').html(mistake).text();\n",
       "\t\t$(selector).append(code);\n",
       "\t}\n",
       "});</script><script async=\"\" src=\"https://www.hse.ru/f/src/global/js/job.js\"></script><meta charset=\"utf-8\" data-vue-meta=\"1\"/><style type=\"text/css\">.orfofade{opacity:0;-webkit-transition:opacity .15s linear;-o-transition:opacity .15s linear;transition:opacity .15s linear}.orfofade.orfoin{opacity:1}.orfomodal-open{overflow:hidden}.orfomodal{position:fixed;top:0;right:0;bottom:0;left:0;z-index:1050;display:none;overflow:hidden;-webkit-overflow-scrolling:touch;outline:0}.orfomodal.orfofade .orfomodal-dialog{-webkit-transition:-webkit-transform .3s ease-out;-o-transition:-o-transform .3s ease-out;transition:transform .3s ease-out;-webkit-transform:translate(0,-25%);-ms-transform:translate(0,-25%);-o-transform:translate(0,-25%);transform:translate(0,-25%)}.orfomodal.orfoin .orfomodal-dialog{-webkit-transform:translate(0,0);-ms-transform:translate(0,0);-o-transform:translate(0,0);transform:translate(0,0)}.orfomodal-open .orfomodal{overflow-x:hidden;overflow-y:auto}.orfomodal-dialog{position:relative;width:auto;margin:10px}.orfomodal-content{position:relative;background-color:#fff;-webkit-background-clip:padding-box;background-clip:padding-box;border:1px solid #999;border:1px solid rgba(0,0,0,.2);border-radius:6px;outline:0;-webkit-box-shadow:0 3px 9px rgba(0,0,0,.5);box-shadow:0 3px 9px rgba(0,0,0,.5)}.orfomodal-backdrop{position:fixed;top:0;right:0;bottom:0;left:0;z-index:1040;background-color:#000}.orfomodal-backdrop.orfofade{filter:alpha(opacity=0);opacity:0}.orfomodal-backdrop.orfoin{filter:alpha(opacity=50);opacity:.5}.orfomodal-header{min-height:16.42857143px;padding:10px;border-bottom:1px solid #e5e5e5;background-color:#d5d5d5}.orfomodal-title{margin:0;line-height:1.42857143;padding:0}.orfomodal-body{position:relative;padding:10px;font-size:12px;background-color:#f6f6f6}.orfomodal-footer{padding:10px;text-align:right;border-top:1px solid #e5e5e5;background-color:#f6f6f6}.orfomodal-footer .btn + .btn{margin-bottom:0;margin-left:5px}.orfomodal-footer .btn-group .btn + .btn{margin-left:-1px}.orfomodal-footer .btn-block + .btn-block{margin-left:0}.orfomodal-scrollbar-measure{position:absolute;top:-9999px;width:50px;height:50px;overflow:scroll}.orfomodal-dialog{width:500px;margin:30px auto}.orfomodal-content{-webkit-box-shadow:0 5px 15px rgba(0,0,0,.5);box-shadow:0 5px 15px rgba(0,0,0,.5)}.orfomodal-body .drama{font-weight:700;margin-bottom:1em}.orfomodal-body .drama strong{color:red}.orfomodal-body input{display:block;width:95%;margin-top:.5em}.orfomodal-footer .btn{cursor:pointer;background-color:#fff;font-size:12px;border:1px solid #d5d5d5;padding:5px 15px;-webkit-border-radius:2px;-moz-border-radius:2px;border-radius:2px}.orfomodal-footer .btn:hover{color:#007ac5}.orfomodal-footer:before,.orfomodal-footer:after{display:table;content:\" \"}.orfomodal-footer:after{clear:both}</style><script async=\"\" src=\"https://tracker.hse.ru/js/tracker.min.js\"></script></head><body data-lang=\"ru\" style=\"\"><div class=\"page\"><!--noindex--><div class=\"browser_outdate\" style=\"display:none;\">В старых версиях браузеров сайт может отображаться некорректно. Для оптимальной работы с сайтом рекомендуем воспользоваться современным браузером.</div><div class=\"gdpr_bar\" style=\"display: block;\"><div class=\"gdpr_bar__inner\"><noindex>\n",
       "<p>Мы используем файлы cookies для улучшения работы сайта НИУ ВШЭ и большего удобства его использования. Более подробную информацию об использовании файлов cookies можно найти <a href=\"https://www.hse.ru/cookie.html\" rel=\"nofollow noopener\" target=\"_blank\" title=\"Пройти по ссылке\">здесь</a>, наши правила обработки персональных данных – <a href=\"https://www.hse.ru/data_protection_regulation\" rel=\"nofollow noopener\" target=\"_blank\" title=\"Пройти по ссылке\">здесь</a>. Продолжая пользоваться сайтом, вы подтверждаете, что были проинформированы об использовании файлов cookies сайтом НИУ ВШЭ и согласны с нашими правилами обработки персональных данных. Вы можете отключить файлы cookies в настройках Вашего браузера.</p>\n",
       "</noindex><span class=\"gdpr_bar__close\">✖</span></div></div><!--/noindex--><div class=\"sv-control\"><div class=\"sv-control__block\"><ul class=\"sv-control__list sv-size\"><li class=\"sv-control__item sv-control__item--s_normal active\" data-type=\"size\" data-value=\"normal\">A</li><li class=\"sv-control__item sv-control__item--s_medium\" data-type=\"size\" data-value=\"medium\">A</li><li class=\"sv-control__item sv-control__item--s_large\" data-type=\"size\" data-value=\"large\">A</li></ul></div><div class=\"sv-control__block\"><ul class=\"sv-control__list sv-spacing\"><li class=\"sv-control__item sv-control__item--ls_normal active\" data-type=\"spacing\" data-value=\"normal\">АБB</li><li class=\"sv-control__item sv-control__item sv-control__item--ls_medium\" data-type=\"spacing\" data-value=\"medium\">АБB</li><li class=\"sv-control__item sv-control__item--ls_large\" data-type=\"spacing\" data-value=\"large\">АБB</li></ul></div><div class=\"sv-control__block\"><ul class=\"sv-control__list sv-contrast\"><li class=\"sv-control__item sv-control__item---color1 active\" data-type=\"contrast\" data-value=\"normal\">А</li><li class=\"sv-control__item sv-control__item---color2\" data-type=\"contrast\" data-value=\"invert\">А</li><li class=\"sv-control__item sv-control__item---color3\" data-type=\"contrast\" data-value=\"blue\">А</li><li class=\"sv-control__item sv-control__item---color4\" data-type=\"contrast\" data-value=\"beige\">А</li><li class=\"sv-control__item sv-control__item---color5\" data-type=\"contrast\" data-value=\"brown\">А</li></ul></div><div class=\"sv-control__block\"><ul class=\"sv-control__list sv-image\"><li class=\"sv-control__item sv-control__item--image_on active\" data-type=\"image\" data-value=\"on\"></li><li class=\"sv-control__item sv-control__item--image_off\" data-type=\"image\" data-value=\"off\"></li></ul></div><div class=\"sv-control__block\"><div class=\"sv-off js-sv-off\">Обычная версия сайта</div></div></div><header class=\"header header_dark_gradient\"><div class=\"crop\"><div class=\"header-top header-top--primary\"><div class=\"left\"><span class=\"control control_sitemap\"><span class=\"control_sitemap__line\"></span></span><a class=\"control control_home\" href=\"https://www.hse.ru/\"><svg fill=\"none\" height=\"30\" viewbox=\"0 0 309 309\" width=\"30\" xmlns=\"http://www.w3.org/2000/svg\"><path clip-rule=\"evenodd\" d=\"M68.4423 26.0393C93.7686 9.06174 123.545 0 154.005 0C194.846 0 234.015 16.275 262.896 45.2451C291.777 74.2153 308.005 113.508 308.01 154.481C308.013 185.039 298.984 214.911 282.065 240.321C265.145 265.731 241.094 285.537 212.953 297.234C184.813 308.931 153.847 311.993 123.972 306.034C94.0966 300.074 66.6537 285.361 45.1138 263.755C23.5739 242.148 8.90442 214.619 2.96053 184.649C-2.98335 154.678 0.0653089 123.612 11.721 95.3799C23.3767 67.1476 43.1159 43.0168 68.4423 26.0393ZM180.336 140.561C212.051 151.8 224.284 177.329 224.284 215.345V255.047H99.593V48.1729H154.908C175.847 48.1729 184.602 51.8575 194.493 59.5386C208.902 70.8654 211.166 87.3096 211.166 95.5561C211.299 106.453 207.484 117.028 200.43 125.316C195.128 132.023 188.214 137.269 180.336 140.561ZM196.038 211.485C196.038 168.722 182.396 145.328 147.339 145.328V134.927H147.553C152.962 134.963 158.306 133.751 163.173 131.385C168.041 129.018 172.301 125.561 175.624 121.28C182.066 113.463 183.387 106.093 183.688 99.5137H147.582V89.3566H183.378C182.573 82.4432 179.883 75.8863 175.604 70.4072C167.413 60.1917 155.812 58.4761 148.175 58.4761H127.771V243.779H147.582V174.57H173.554V243.652H196.038V211.485Z\" fill=\"#0F2D69\" fill-rule=\"evenodd\"></path></svg></a></div><div class=\"right\"><div class=\"header__controls\"><span class=\"control control_vision\" itemprop=\"copy\" title=\"Версия для слабовидящих\"><a class=\"control_vision-link\" href=\"https://www.hse.ru/sci/diss/?vision=enabled\" style=\"color: inherit;\"><svg height=\"12\" viewbox=\"0 0 21 12\" width=\"21\" xmlns=\"http://www.w3.org/2000/svg\"><title>Версия для слабовидящих</title><path class=\"control__path\" d=\"M10.5 0c3.438 0 6.937 2.016 10.5 6.047-.844.844-1.383 1.375-1.617 1.594-.234.219-.805.703-1.711 1.453-.906.75-1.641 1.266-2.203 1.547-.563.281-1.305.578-2.227.891-.922.313-1.836.469-2.742.469-1.125 0-2.156-.141-3.094-.422-.938-.281-1.875-.766-2.813-1.453-.938-.688-1.672-1.273-2.203-1.758-.531-.484-1.328-1.273-2.391-2.367 2.031-2.031 3.836-3.539 5.414-4.523 1.578-.984 3.273-1.477 5.086-1.477zm0 10.266c1.156 0 2.148-.422 2.977-1.266.828-.844 1.242-1.844 1.242-3s-.414-2.156-1.242-3c-.828-.844-1.82-1.266-2.977-1.266-1.156 0-2.148.422-2.977 1.266-.828.844-1.242 1.844-1.242 3s.414 2.156 1.242 3c.828.844 1.82 1.266 2.977 1.266zm0-5.766c0 .438.141.797.422 1.078s.641.422 1.078.422c.313 0 .625-.109.938-.328v.328c0 .688-.234 1.273-.703 1.758-.469.484-1.047.727-1.734.727-.688 0-1.266-.242-1.734-.727-.469-.484-.703-1.07-.703-1.758s.234-1.273.703-1.758c.469-.484 1.047-.727 1.734-.727h.375c-.25.313-.375.641-.375.984z\" fill=\"#1658DA\"></path></svg><span style=\"display: none;\">Версия для слабовидящих</span></a></span><a class=\"control control_user\" href=\"https://www.hse.ru/lkuser/\" title=\"Личный кабинет сотрудника ВШЭ\"><ins><svg class=\"control_svg\" height=\"18\" viewbox=\"0 0 17 18\" width=\"17\" xmlns=\"http://www.w3.org/2000/svg\"><title>Личный кабинет сотрудника ВШЭ</title><path class=\"control__path\" d=\"M13.702 13.175c.827.315 1.486.817 1.978 1.506.492.689.738 1.467.738 2.333h-16.419c0-1.417.532-2.5 1.595-3.248.394-.276 1.358-.591 2.894-.945.945-.118 1.457-.374 1.536-.768.039-.157.059-.61.059-1.358 0-.118-.039-.217-.118-.295-.157-.157-.315-.433-.472-.827-.079-.315-.157-.787-.236-1.417-.157.039-.285-.02-.384-.177-.098-.157-.177-.364-.236-.62l-.089-.443c-.157-.866-.098-1.28.177-1.24-.118-.157-.217-.532-.295-1.122-.118-.866-.059-1.634.177-2.303.276-.748.768-1.319 1.476-1.713.709-.394 1.476-.571 2.303-.532.787.039 1.506.276 2.156.709.65.433 1.093 1.024 1.329 1.772.197.551.217 1.319.059 2.303-.079.472-.157.768-.236.886.118-.039.207 0 .266.118.059.118.079.266.059.443l-.059.472c-.02.138-.049.246-.089.325l-.118.413c-.039.276-.108.472-.207.591-.098.118-.226.157-.384.118-.079.866-.217 1.476-.413 1.831 0 .039-.069.138-.207.295-.138.157-.207.256-.207.295v.65c0 .394.039.689.118.886.079.197.354.354.827.472.276.118.679.217 1.211.295.532.079.935.177 1.211.295z\" fill=\"#1658DA\"></path></svg></ins></a><span class=\"control control_search\" title=\"Поиск\"><ins class=\"popup_opener\"><svg class=\"control_svg\" height=\"19\" viewbox=\"0 0 19 19\" width=\"19\" xmlns=\"http://www.w3.org/2000/svg\"><title>Поиск</title><path d=\"M12.927 7.9c0-1.384-.492-2.568-1.476-3.552s-2.168-1.476-3.552-1.476-2.568.492-3.552 1.476-1.476 2.168-1.476 3.552.492 2.568 1.476 3.552 2.168 1.476 3.552 1.476 2.568-.492 3.552-1.476 1.476-2.168 1.476-3.552zm4.053 11.1l-4.603-4.592c-1.339.928-2.832 1.391-4.477 1.391-1.07 0-2.093-.208-3.069-.623-.976-.415-1.818-.976-2.525-1.683-.707-.707-1.268-1.549-1.683-2.525-.415-.976-.623-1.999-.623-3.069 0-1.07.208-2.093.623-3.069.415-.976.976-1.818 1.683-2.525.707-.707 1.549-1.268 2.525-1.683.976-.415 1.999-.623 3.069-.623 1.07 0 2.093.208 3.069.623.976.415 1.818.976 2.525 1.683.707.707 1.268 1.549 1.683 2.525.415.976.623 1.999.623 3.069 0 1.646-.464 3.138-1.391 4.477l4.603 4.603-2.031 2.02z\" fill=\"#1658DA\"></path></svg></ins><div class=\"popup popup_search\" style=\"display: none;\"><div class=\"popup__inner\"><div class=\"search-form\"><form action=\"https://www.hse.ru/search/index.html\"><div class=\"search-form__button\"><button class=\"button button_grey\">Поиск</button></div><div class=\"search-form__input\"><input class=\"input input100 input_mr\" name=\"text\" placeholder=\"Поиск\" type=\"text\"/><input name=\"searchid\" type=\"hidden\" value=\"2284688\"/><input name=\"simple\" type=\"hidden\" value=\"1\"/></div></form></div><div class=\"popup__block popup__block_indent\"><a class=\"link_dark\" href=\"https://www.hse.ru/search/search.html?simple=0\">Расширенный поиск</a><span class=\"b-adv-search\"></span></div></div></div></span><span class=\"control is-mobile control_menu js-control_menu_open\" onclick=\"void(0)\"><ins></ins><span class=\"control__text\">Меню</span></span></div></div><div class=\"header_body\"><div class=\"header_breadcrumb is-mobile c\"><div class=\"header_breadcrumb__inner no_crumb_arrow\"><a class=\"header_breadcrumb__link fa-header_body__crumb--first fa-header_body__crumb\" href=\"https://www.hse.ru/\">Высшая школа экономики</a></div></div><div class=\"header_breadcrumb is-desktop\"><div class=\"header_breadcrumb__inner no_crumb_arrow js-header_breadcrumb__inner--wide\"><ul class=\"header_breadcrumb__list\"><li class=\"header_breadcrumb__item\"><a class=\"header_breadcrumb__link\" href=\"/\"><span>Национальный исследовательский университет «Высшая школа экономики»</span></a></li><li class=\"header_breadcrumb__item\"><span class=\"header_breadcrumb__current\"><span>Диссертации</span></span></li></ul></div></div></div></div></div></header><div class=\"layout has-sidebar\"><div class=\"grid grid_3\"><div class=\"wrapper row\"><div class=\"sidebar\"><div class=\"sidebar__inner\"><div class=\"js-orfo is-desktop\"><br/> <noindex> <span class=\"with-icon with-icon_tick\"> </span> <p class=\"last_child with-indent\"> Нашли <span class=\"wrong\">опечатку</span>?<br/> Выделите её, нажмите Ctrl+Enter и отправьте нам уведомление. Спасибо за участие! </p> </noindex></div></div></div></div><div class=\"main\"><div id=\"app\"><div class=\"vkr\" id=\"vkrhome\"><div class=\"vkr__main\"><h1 class=\"vkr__title\">Диссертации, представленные на защиту и подготовленные в НИУ ВШЭ</h1><div class=\"sinfo\"><p class=\"last_child\">Сортировка:<span class=\"\" data-value=\"date\" style=\"margin:0px 0.5rem 0px 0.5rem;font-weight:bold;pointer-events:none;\">по дате защиты</span><span class=\"link\" data-value=\"chief\" style=\"margin:0px 0.5rem 0px 0.5rem;\">по имени научного руководителя</span><span class=\"link\" data-value=\"applicant\" style=\"margin:0px 0.5rem 0px 0.5rem;\">по имени соискателя </span></p><p class=\"first_child\">Показаны работы: 1 - 10 из 61</p><div><div class=\"dissertation with-indent3\"><h2 class=\"first_child dissertation_title\"><a class=\"link\" href=\"/sci/diss/314832967\">Мотивационные и личностные предпосылки жизненного призвания</a><em>Кандидатская диссертация</em><em>Ученая степень НИУ ВШЭ</em></h2><div class=\"dissertation\"><div class=\"data\" style=\"border: 0; display: table;\"><div class=\"o\" style=\"display: table-row;\"><div class=\"p0 p\" style=\"width: 200px; display: table-cell;\">Соискатель:</div><div class=\"p1 v\" style=\"display: table-cell;\"><span>Белобородова Полина Михайловна</span></div></div><div style=\"display: table-row;\"><div class=\"p0 p\" style=\"display: table-cell;\">Руководитель:</div><div class=\"p1 v\" style=\"display: table-cell;\"><a class=\"link\" href=\"/org/persons/28125914\" target=\"_blank\">Леонтьев Дмитрий Алексеевич</a><!-- --></div></div><!-- --><!-- --><div style=\"display: table-row;\"><div class=\"p0 p\" style=\"width: 200px; display: table-cell;\">Дисс. совет:</div><div class=\"p1 v\" style=\"display: table-cell;\">Совет по психологии</div></div><div class=\"o\" style=\"display: table-row;\"><div class=\"p0 p\" style=\"display: table-cell;\">Дата защиты:</div><div class=\"p1 v\" style=\"display: table-cell;\">30.12.2019</div></div></div><div class=\"description with-indent2\"><div class=\"first_child\">In recent years scholars are increasingly interested in the concept of life calling. Stemming from religious background, this ancient idea emerged into the modern concept focused on self-actualization. Despite salience of the concept of calling for different cultures, research involves mainly Western samples. Additionally, the mechanisms underlying the process of its discernment remain obscure. In the present research we attempted to address those gaps. The research contains two studies and a report on the practical application of the findings. In Study 1, qualitative document analysis, was used to examine open-ended responses from HSE and MEPhI students (N = 104) regarding their concept of calling. The results indicated that they saw it as something more than a mere job, were intrinsically motivated to find it and dedicate themselves to it, and associated calling with the usage of their abilities. Study 2 examined temporal relationships between calling, life meaning, and personal life position (awareness, agency, and authenticity). Data were collected at two time points nine weeks apart from a sample of HSE students (N = 61). Hierarchical regressions’ results revealed that perceived deficit of meaning in life is one of the main factors motivating individuals to actively search for their callings, and a sense of harmony between oneself and one’s actual course of life contributes to the increase in the sense of calling. The report on practical applications includes general recommendations for practitioners, as well as the results of preliminary test of an intervention aimed at helping college students to discern their callings. Additionally, results of the investigation of personal characteristics of individuals in active search for calling are presented and discussed.</div><div class=\"data\" style=\"border: 0; display: table;\"><div style=\"display: table-row;\"><div class=\"p0 p\" style=\"width: 200px; display: table-cell;\">Ключевые слова:</div><div class=\"p1 v\" style=\"display: table-cell;\"><span><a class=\"link\" href=\"/sci/diss/?keyword=calling\">calling</a><span>, </span></span><span><a class=\"link\" href=\"/sci/diss/?keyword=career%20guidance\">career guidance</a><span>, </span></span><span><a class=\"link\" href=\"/sci/diss/?keyword=meaning%20in%20life\">meaning in life</a><span>, </span></span><span><a class=\"link\" href=\"/sci/diss/?keyword=positive%20psychology%20intervention\">positive psychology intervention</a><span>, </span></span><span><a class=\"link\" href=\"/sci/diss/?keyword=vocation\">vocation</a><span>, </span></span><span><a class=\"link\" href=\"/sci/diss/?keyword=%D0%BF%D0%BE%D0%B7%D0%B8%D1%82%D0%B8%D0%B2%D0%BD%D0%B0%D1%8F%20%D0%B8%D0%BD%D1%82%D0%B5%D1%80%D0%B2%D0%B5%D0%BD%D1%86%D0%B8%D1%8F\">позитивная интервенция</a><span>, </span></span><span><a class=\"link\" href=\"/sci/diss/?keyword=%D0%BF%D1%80%D0%B8%D0%B7%D0%B2%D0%B0%D0%BD%D0%B8%D0%B5\">призвание</a><span>, </span></span><span><a class=\"link\" href=\"/sci/diss/?keyword=%D1%81%D0%BC%D1%8B%D1%81%D0%BB%20%D0%B6%D0%B8%D0%B7%D0%BD%D0%B8\">смысл жизни</a><!-- --></span></div></div></div></div><div class=\"data\" style=\"border: 0; display: table\"><!-- --><div style=\"display: table-row;\"><div class=\"p0\" style=\"display:table-cell;\"><div class=\"first_child last_child\"><a class=\"link\" data-hse-file=\"PDF\" href=\"http://www.hse.ru/data/xf/365/361/1532/Dissertation.pdf\">Диссертация</a><span style=\"font-size:11px;color:#666666;\"> [*.pdf, 1.29 Мб] (дата размещения 29.10.2019)</span></div></div></div><!-- --><div style=\"display: table-row;\"><div class=\"p0\" style=\"display:table-cell;\"><div class=\"first_child last_child\"><a class=\"link\" data-hse-file=\"PDF\" href=\"http://www.hse.ru/data/2019/10/29/1532361365/Резюме диссертации (1).pdf\">Резюме</a><span style=\"font-size:11px;color:#666666;\"> [*.pdf, 290.71 Кб] (дата размещения 29.10.2019)</span></div></div></div><div style=\"display: table-row;\"><div class=\"p0\" style=\"display:table-cell;\"><div class=\"first_child last_child\"><a class=\"link\" data-hse-file=\"PDF\" href=\"http://www.hse.ru/data/2019/10/29/1532361365/summary_EN_final (3).pdf\">Summary</a><span style=\"font-size:11px;color:#666666;\"> [*.pdf, 161.55 Кб] (дата размещения 29.10.2019)</span></div></div></div></div></div></div><div class=\"dissertation with-indent3\"><h2 class=\"first_child dissertation_title\"><a class=\"link\" href=\"/sci/diss/313979705\">Социодемографические аспекты перехода во взрослую жизнь россиян 1930-1986 г.р.</a><em>Кандидатская диссертация</em><em>Ученая степень НИУ ВШЭ</em></h2><div class=\"dissertation\"><div class=\"data\" style=\"border: 0; display: table;\"><div class=\"o\" style=\"display: table-row;\"><div class=\"p0 p\" style=\"width: 200px; display: table-cell;\">Соискатель:</div><div class=\"p1 v\" style=\"display: table-cell;\"><a class=\"link\" href=\"/org/persons/12150362\" target=\"_blank\">Митрофанова Екатерина Сергеевна</a></div></div><div style=\"display: table-row;\"><div class=\"p0 p\" style=\"display: table-cell;\">Руководитель:</div><div class=\"p1 v\" style=\"display: table-cell;\"><a class=\"link\" href=\"/org/persons/556494\" target=\"_blank\">Захаров Сергей Владимирович</a><!-- --></div></div><!-- --><!-- --><div style=\"display: table-row;\"><div class=\"p0 p\" style=\"width: 200px; display: table-cell;\">Дисс. совет:</div><div class=\"p1 v\" style=\"display: table-cell;\">Совет по социологии</div></div><div class=\"o\" style=\"display: table-row;\"><div class=\"p0 p\" style=\"display: table-cell;\">Дата защиты:</div><div class=\"p1 v\" style=\"display: table-cell;\">23.12.2019</div></div></div><div class=\"description with-indent2\"><div class=\"first_child\">Работа посвящена количественному анализу наступления стартовых социодемографических событий, маркирующих взросление. К таким событиям были отнесены: получение профессионального образования, первое трудоустройство, первое отделение от родителей, первое партнерство (незарегистрированные отношения с совместным проживанием), первый брак и рождение первого ребенка. Анализ проведен на панельных данных выборочного обследования «Родители и дети, мужчины и женщины в семье и обществе» (2011 год). В выборку вошел 5451 респондент 1930-1986 г.р. Были применены два взаимодополняющих подхода к изучению взросления: анализ наступления стартовых событий по отдельности и в совокупности (как компонентов единого процесса). Через визуализацию результатов на демографической сетке Лексиса показано, как исторический и институциональный контекст, сопутствующий взрослению индивидов, задает границы и ориентиры наступления стартовых событий. Выявлены три модели взросления россиян: «советская» (характерна для поколений 1940-49, 1950-59, 1960-69 г.р.), «переходная» (поколения 1930-39 и 1970-79 г.р.) и «постсоветская» (поколение 1980-86 г.р.). Вписывание студенческих лет в нормативный жизненный сценарий дает возможность современной молодежи брать паузу между обретением социоэкономических событий и созданием семьи. Вступление в брак и деторождение откладываются, а первым демографическим событием все чаще становится партнерство. Выявленные тенденции подтверждают предположения концепции жизненного пути, теории второго демографического перехода и гипотезы о конвергенции моделей взросления в европейских странах.</div><div class=\"data\" style=\"border: 0; display: table;\"><div style=\"display: table-row;\"><div class=\"p0 p\" style=\"width: 200px; display: table-cell;\">Ключевые слова:</div><div class=\"p1 v\" style=\"display: table-cell;\"><span><a class=\"link\" href=\"/sci/diss/?keyword=%D0%B0%D0%BD%D0%B0%D0%BB%D0%B8%D0%B7%20%D0%BD%D0%B0%D1%81%D1%82%D1%83%D0%BF%D0%BB%D0%B5%D0%BD%D0%B8%D1%8F%20%D1%81%D0%BE%D0%B1%D1%8B%D1%82%D0%B8%D0%B9\">анализ наступления событий</a><span>, </span></span><span><a class=\"link\" href=\"/sci/diss/?keyword=%D0%B1%D1%80%D0%B0%D1%87%D0%BD%D0%BE%D1%81%D1%82%D1%8C\">брачность</a><span>, </span></span><span><a class=\"link\" href=\"/sci/diss/?keyword=%D0%B2%D0%B7%D1%80%D0%BE%D1%81%D0%BB%D0%B5%D0%BD%D0%B8%D0%B5\">взросление</a><span>, </span></span><span><a class=\"link\" href=\"/sci/diss/?keyword=%D0%B4%D0%B5%D0%BC%D0%BE%D0%B3%D1%80%D0%B0%D1%84%D0%B8%D1%8F\">демография</a><span>, </span></span><span><a class=\"link\" href=\"/sci/diss/?keyword=%D0%B6%D0%B8%D0%B7%D0%BD%D0%B5%D0%BD%D0%BD%D1%8B%D0%B9%20%D0%BF%D1%83%D1%82%D1%8C\">жизненный путь</a><span>, </span></span><span><a class=\"link\" href=\"/sci/diss/?keyword=%D0%BF%D0%BE%D0%BA%D0%BE%D0%BB%D0%B5%D0%BD%D0%B8%D1%8F\">поколения</a><span>, </span></span><span><a class=\"link\" href=\"/sci/diss/?keyword=%D1%80%D0%BE%D0%B6%D0%B4%D0%B0%D0%B5%D0%BC%D0%BE%D1%81%D1%82%D1%8C\">рождаемость</a><span>, </span></span><span><a class=\"link\" href=\"/sci/diss/?keyword=%D1%81%D1%82%D0%B0%D1%80%D1%82%D0%BE%D0%B2%D1%8B%D0%B5%20%D1%81%D0%BE%D0%B1%D1%8B%D1%82%D0%B8%D1%8F\">стартовые события</a><!-- --></span></div></div></div></div><div class=\"data\" style=\"border: 0; display: table\"><!-- --><div style=\"display: table-row;\"><div class=\"p0\" style=\"display:table-cell;\"><div class=\"first_child last_child\"><a class=\"link\" data-hse-file=\"PDF\" href=\"http://www.hse.ru/data/xf/739/885/1528/Митрофанова - диссертация.pdf\">Диссертация</a><span style=\"font-size:11px;color:#666666;\"> [*.pdf, 6.56 Мб] (дата размещения 22.10.2019)</span></div></div></div><!-- --><div style=\"display: table-row;\"><div class=\"p0\" style=\"display:table-cell;\"><div class=\"first_child last_child\"><a class=\"link\" data-hse-file=\"PDF\" href=\"http://www.hse.ru/data/2019/10/22/1528885739/Митрофанова - резюме диссертации.pdf\">Резюме</a><span style=\"font-size:11px;color:#666666;\"> [*.pdf, 1.19 Мб] (дата размещения 22.10.2019)</span></div></div></div><div style=\"display: table-row;\"><div class=\"p0\" style=\"display:table-cell;\"><div class=\"first_child last_child\"><a class=\"link\" data-hse-file=\"PDF\" href=\"http://www.hse.ru/data/2019/10/22/1528885739/Mitrofanova - summary.pdf\">Summary</a><span style=\"font-size:11px;color:#666666;\"> [*.pdf, 1.24 Мб] (дата размещения 22.10.2019)</span></div></div></div></div></div></div><div class=\"dissertation with-indent3\"><h2 class=\"first_child dissertation_title\"><a class=\"link\" href=\"/sci/diss/309059431\">Особенности правового регулирования труда лиц, работающих вне места нахождения работодателя</a><em>Кандидатская диссертация</em><em>Ученая степень НИУ ВШЭ</em></h2><div class=\"dissertation\"><div class=\"data\" style=\"border: 0; display: table;\"><div class=\"o\" style=\"display: table-row;\"><div class=\"p0 p\" style=\"width: 200px; display: table-cell;\">Соискатель:</div><div class=\"p1 v\" style=\"display: table-cell;\"><span>Бородина Елена Николаевна</span></div></div><div style=\"display: table-row;\"><div class=\"p0 p\" style=\"display: table-cell;\">Руководитель:</div><div class=\"p1 v\" style=\"display: table-cell;\"><a class=\"link\" href=\"/org/persons/68971\" target=\"_blank\">Петров Алексей Яковлевич</a><!-- --></div></div><!-- --><!-- --><div style=\"display: table-row;\"><div class=\"p0 p\" style=\"width: 200px; display: table-cell;\">Дисс. совет:</div><div class=\"p1 v\" style=\"display: table-cell;\">Совет по праву</div></div><div class=\"o\" style=\"display: table-row;\"><div class=\"p0 p\" style=\"display: table-cell;\">Дата защиты:</div><div class=\"p1 v\" style=\"display: table-cell;\">19.12.2019</div></div></div><div class=\"description with-indent2\"><div class=\"first_child\">В представленной диссертации рассмотрены проблемы правового регулирования труда лиц, работающих вне места нахождения работодателя, т.е. дистанционно, вахтовым методом, в полевых условиях и т.п.Автором дана характеристика генезиса правового регулирования труда лиц, работающих вне места нахождения работодателя, определены особенности рабочего времени и времени отдыха надомных, дистанционных работников, лиц, выполняющих работы вахтовым методом, в полевых условиях или работы разъездного/подвижного характера; выявлена специфика правового регулирования гарантий и компенсаций указанным работникам; вынесен ряд предложений по дальнейшему совершенствованию и развитию трудового законодательства с цельюрегулирования труда лиц, работающих вне места нахождения работодателя.</div><div class=\"data\" style=\"border: 0; display: table;\"><div style=\"display: table-row;\"><div class=\"p0 p\" style=\"width: 200px; display: table-cell;\">Ключевые слова:</div><div class=\"p1 v\" style=\"display: table-cell;\"><span><a class=\"link\" href=\"/sci/diss/?keyword=%D0%B2%D0%B0%D1%85%D1%82%D0%BE%D0%B2%D1%8B%D0%B9%20%D0%BC%D0%B5%D1%82%D0%BE%D0%B4%20%D0%BE%D1%80%D0%B3%D0%B0%D0%BD%D0%B8%D0%B7%D0%B0%D1%86%D0%B8%D0%B8%20%D1%82%D1%80%D1%83%D0%B4%D0%B0\">вахтовый метод организации труда</a><span>, </span></span><span><a class=\"link\" href=\"/sci/diss/?keyword=%D0%B4%D0%B8%D1%81%D1%82%D0%B0%D0%BD%D1%86%D0%B8%D0%BE%D0%BD%D0%BD%D1%8B%D0%B9%20%D1%82%D1%80%D1%83%D0%B4\">дистанционный труд</a><span>, </span></span><span><a class=\"link\" href=\"/sci/diss/?keyword=%D0%BD%D0%B0%D0%B4%D0%BE%D0%BC%D0%BD%D1%8B%D0%B9%20%D1%82%D1%80%D1%83%D0%B4\">надомный труд</a><span>, </span></span><span><a class=\"link\" href=\"/sci/diss/?keyword=%D1%80%D0%B0%D0%B1%D0%BE%D1%82%D0%B0%20%D0%B2%20%D0%BF%D0%BE%D0%BB%D0%B5%D0%B2%D1%8B%D1%85%20%D1%83%D1%81%D0%BB%D0%BE%D0%B2%D0%B8%D1%8F%D1%85\">работа в полевых условиях</a><span>, </span></span><span><a class=\"link\" href=\"/sci/diss/?keyword=%D1%80%D0%B0%D0%B1%D0%BE%D1%82%D0%B0%20%D0%B2%20%D1%80%D0%B0%D0%B7%D1%8A%D0%B5%D0%B7%D0%B4%D0%B0%D1%85\">работа в разъездах</a><span>, </span></span><span><a class=\"link\" href=\"/sci/diss/?keyword=%D1%83%D0%B4%D0%B0%D0%BB%D0%B5%D0%BD%D0%BD%D0%B0%D1%8F%20%D1%80%D0%B0%D0%B1%D0%BE%D1%82%D0%B0\">удаленная работа</a><!-- --></span></div></div></div></div><div class=\"data\" style=\"border: 0; display: table\"><!-- --><div style=\"display: table-row;\"><div class=\"p0\" style=\"display:table-cell;\"><div class=\"first_child last_child\"><a class=\"link\" data-hse-file=\"PDF\" href=\"http://www.hse.ru/data/xf/021/364/1543/Бородина Е.Н._Диссертация_181019.pdf\">Диссертация</a><span style=\"font-size:11px;color:#666666;\"> [*.pdf, 978.20 Кб] (дата размещения 18.10.2019)</span></div></div></div><!-- --><div style=\"display: table-row;\"><div class=\"p0\" style=\"display:table-cell;\"><div class=\"first_child last_child\"><a class=\"link\" data-hse-file=\"PDF\" href=\"http://www.hse.ru/data/2019/10/18/1543364021/1Бородина Е.Н._Резюме_181019.pdf\">Резюме</a><span style=\"font-size:11px;color:#666666;\"> [*.pdf, 234.09 Кб] (дата размещения 18.10.2019)</span></div></div></div><div style=\"display: table-row;\"><div class=\"p0\" style=\"display:table-cell;\"><div class=\"first_child last_child\"><a class=\"link\" data-hse-file=\"PDF\" href=\"http://www.hse.ru/data/2019/10/18/1543364021/Borodina E._Summary_181019.pdf\">Summary</a><span style=\"font-size:11px;color:#666666;\"> [*.pdf, 112.45 Кб] (дата размещения 18.10.2019)</span></div></div></div></div></div></div><div class=\"dissertation with-indent3\"><h2 class=\"first_child dissertation_title\"><a class=\"link\" href=\"/sci/diss/7528068\">Внутренние факторы экспортной деятельности российских вузов</a><em>Кандидатская диссертация</em><em>Ученая степень НИУ ВШЭ</em></h2><div class=\"dissertation\"><div class=\"data\" style=\"border: 0; display: table;\"><div class=\"o\" style=\"display: table-row;\"><div class=\"p0 p\" style=\"width: 200px; display: table-cell;\">Соискатель:</div><div class=\"p1 v\" style=\"display: table-cell;\"><a class=\"link\" href=\"/org/persons/205653\" target=\"_blank\">Меликян Алиса Валерьевна</a></div></div><div style=\"display: table-row;\"><div class=\"p0 p\" style=\"display: table-cell;\">Руководитель:</div><div class=\"p1 v\" style=\"display: table-cell;\"><a class=\"link\" href=\"/org/persons/25477\" target=\"_blank\">Абанкина Ирина Всеволодовна</a><!-- --></div></div><!-- --><!-- --><div style=\"display: table-row;\"><div class=\"p0 p\" style=\"width: 200px; display: table-cell;\">Дисс. совет:</div><div class=\"p1 v\" style=\"display: table-cell;\">Совет по образованию</div></div><div class=\"o\" style=\"display: table-row;\"><div class=\"p0 p\" style=\"display: table-cell;\">Дата защиты:</div><div class=\"p1 v\" style=\"display: table-cell;\">18.12.2019</div></div></div><div class=\"description with-indent2\"><div class=\"first_child\">Результаты исследования отражают состояние международной составляющей образовательной деятельности российских вузов, проанализированное на основе общедоступных статистических и отчетных данных вузов, и содержат актуальные эмпирические данные об экспортной деятельности российских вузов за последние несколько лет. В диссертации определены внутренние факторы, взаимосвязанные с результатами экспортной деятельности вузов, исследованы эти взаимосвязи на основе эконометрического анализа количественных показателей вузов и разработаны рекомендации по совершенствованию стратегий развития экспорта образовательных услуг в российских вузах.</div><div class=\"data\" style=\"border: 0; display: table;\"><div style=\"display: table-row;\"><div class=\"p0 p\" style=\"width: 200px; display: table-cell;\">Ключевые слова:</div><div class=\"p1 v\" style=\"display: table-cell;\"><span><a class=\"link\" href=\"/sci/diss/?keyword=%D0%B8%D0%BD%D0%BE%D1%81%D1%82%D1%80%D0%B0%D0%BD%D0%BD%D1%8B%D0%B5%20%D1%81%D1%82%D1%83%D0%B4%D0%B5%D0%BD%D1%82%D1%8B\">иностранные студенты</a><span>, </span></span><span><a class=\"link\" href=\"/sci/diss/?keyword=%D0%BA%D0%BB%D0%B0%D1%81%D1%82%D0%B5%D1%80%D0%BD%D1%8B%D0%B9%20%D0%B0%D0%BD%D0%B0%D0%BB%D0%B8%D0%B7\">кластерный анализ</a><span>, </span></span><span><a class=\"link\" href=\"/sci/diss/?keyword=%D0%BA%D0%BB%D0%B0%D1%81%D1%82%D0%B5%D1%80%D1%8B\">кластеры</a><span>, </span></span><span><a class=\"link\" href=\"/sci/diss/?keyword=%D1%80%D0%BE%D1%81%D1%81%D0%B8%D0%B9%D1%81%D0%BA%D0%B8%D0%B5%20%D0%B2%D1%83%D0%B7%D1%8B\">российские вузы</a><span>, </span></span><span><a class=\"link\" href=\"/sci/diss/?keyword=%D1%8D%D0%BA%D0%BE%D0%BD%D0%BE%D0%BC%D0%B5%D1%82%D1%80%D0%B8%D1%87%D0%B5%D1%81%D0%BA%D0%B8%D0%B9%20%D0%B0%D0%BD%D0%B0%D0%BB%D0%B8%D0%B7\">эконометрический анализ</a><span>, </span></span><span><a class=\"link\" href=\"/sci/diss/?keyword=%D1%8D%D0%BA%D1%81%D0%BF%D0%BE%D1%80%D1%82%D0%BD%D0%B0%D1%8F%20%D0%B4%D0%B5%D1%8F%D1%82%D0%B5%D0%BB%D1%8C%D0%BD%D0%BE%D1%81%D1%82%D1%8C%20%D0%B2%D1%83%D0%B7%D0%BE%D0%B2\">экспортная деятельность вузов</a><!-- --></span></div></div></div></div><div class=\"data\" style=\"border: 0; display: table\"><!-- --><div style=\"display: table-row;\"><div class=\"p0\" style=\"display:table-cell;\"><div class=\"first_child last_child\"><a class=\"link\" data-hse-file=\"PDF\" href=\"http://www.hse.ru/data/xf/382/735/1239/Меликян_Диссертация 16.10.pdf\">Диссертация</a><span style=\"font-size:11px;color:#666666;\"> [*.pdf, 1.76 Мб] (дата размещения 16.10.2019)</span></div></div></div><!-- --><div style=\"display: table-row;\"><div class=\"p0\" style=\"display:table-cell;\"><div class=\"first_child last_child\"><a class=\"link\" data-hse-file=\"PDF\" href=\"http://www.hse.ru/data/2019/10/16/1239735382/Меликян_Резюме 16.10.pdf\">Резюме</a><span style=\"font-size:11px;color:#666666;\"> [*.pdf, 636.80 Кб] (дата размещения 16.10.2019)</span></div></div></div><div style=\"display: table-row;\"><div class=\"p0\" style=\"display:table-cell;\"><div class=\"first_child last_child\"><a class=\"link\" data-hse-file=\"PDF\" href=\"http://www.hse.ru/data/2019/10/16/1239735382/Меликян_Summary 16.10.pdf\">Summary</a><span style=\"font-size:11px;color:#666666;\"> [*.pdf, 626.11 Кб] (дата размещения 16.10.2019)</span></div></div></div></div></div></div><div class=\"dissertation with-indent3\"><h2 class=\"first_child dissertation_title\"><a class=\"link\" href=\"/sci/diss/266439767\">Оценка влияния валютного риска на ценообразование активов</a><em>Кандидатская диссертация</em><em>Ученая степень НИУ ВШЭ</em></h2><div class=\"dissertation\"><div class=\"data\" style=\"border: 0; display: table;\"><div class=\"o\" style=\"display: table-row;\"><div class=\"p0 p\" style=\"width: 200px; display: table-cell;\">Соискатель:</div><div class=\"p1 v\" style=\"display: table-cell;\"><a class=\"link\" href=\"/org/persons/65825225\" target=\"_blank\">Кучин Илья Игоревич</a></div></div><div style=\"display: table-row;\"><div class=\"p0 p\" style=\"display: table-cell;\">Руководитель:</div><div class=\"p1 v\" style=\"display: table-cell;\"><a class=\"link\" href=\"/org/persons/8514877\" target=\"_blank\">Дранев Юрий Яковлевич</a><!-- --></div></div><!-- --><!-- --><div style=\"display: table-row;\"><div class=\"p0 p\" style=\"width: 200px; display: table-cell;\">Дисс. совет:</div><div class=\"p1 v\" style=\"display: table-cell;\">Совет по экономике</div></div><div class=\"o\" style=\"display: table-row;\"><div class=\"p0 p\" style=\"display: table-cell;\">Дата защиты:</div><div class=\"p1 v\" style=\"display: table-cell;\">17.12.2019</div></div></div><div class=\"description with-indent2\"><div class=\"first_child\">Диссертационное исследование посвящено оценке влияния валютного риска на ценообразование активов на развитых и развивающихся рынках капитала. В работе был произведен анализ различных подходов к моделированию и эмпирическому анализу влияния валютного риска.  Разработаны и протестированы 3 модели учета валютного риска в моделях ценообразования. На основе тестирования разработанной автором диссертационного исследования модели ценообразования выявлено, что фактор валютного риска является ценообразующим для выборки компаний из Бразилии, России, Индии и Южной Африки. С использованием межвременной модели оценена значимость влияния валютного риска и других макроэкономических факторов на ценообразование активов на российском финансовом рынке. Также в диссертационном исследовании найдены эмпирические свидетельства значимой отрицательной взаимосвязи между интенсивностью затрат на исследования и разработки компании и подверженностью валютному риску на примере рынков наукоемких экономик Финляндии, Израиля и Кореи. Результаты данной работы могут использоваться при принятии инвестиционных решений на развитых и развивающихся рынках капитала, а также при выработке компаниями стратегий развития, учитывающих влияние валютного риска на стоимость.</div><div class=\"data\" style=\"border: 0; display: table;\"><div style=\"display: table-row;\"><div class=\"p0 p\" style=\"width: 200px; display: table-cell;\">Ключевые слова:</div><div class=\"p1 v\" style=\"display: table-cell;\"><span><a class=\"link\" href=\"/sci/diss/?keyword=%D0%BC%D0%BE%D0%B4%D0%B5%D0%BB%D0%B8%20%D1%86%D0%B5%D0%BD%D0%BE%D0%BE%D0%B1%D1%80%D0%B0%D0%B7%D0%BE%D0%B2%D0%B0%D0%BD%D0%B8%D1%8F%20%D0%B0%D0%BA%D1%82%D0%B8%D0%B2%D0%BE%D0%B2\">модели ценообразования активов</a><span>, </span></span><span><a class=\"link\" href=\"/sci/diss/?keyword=%D0%BF%D0%BE%D0%B4%D0%B2%D0%B5%D1%80%D0%B6%D0%B5%D0%BD%D0%BD%D0%BE%D1%81%D1%82%D1%8C%20%D0%B2%D0%B0%D0%BB%D1%8E%D1%82%D0%BD%D0%BE%D0%BC%D1%83%20%D1%80%D0%B8%D1%81%D0%BA%D1%83\">подверженность валютному риску</a><span>, </span></span><span><a class=\"link\" href=\"/sci/diss/?keyword=%D1%84%D0%B0%D0%BA%D1%82%D0%BE%D1%80%20%D0%B2%D0%B0%D0%BB%D1%8E%D1%82%D0%BD%D0%BE%D0%B3%D0%BE%20%D1%80%D0%B8%D1%81%D0%BA%D0%B0\">фактор валютного риска</a><span>, </span></span><span><a class=\"link\" href=\"/sci/diss/?keyword=%D1%86%D0%B5%D0%BD%D0%BE%D0%BE%D0%B1%D1%80%D0%B0%D0%B7%D0%BE%D0%B2%D0%B0%D0%BD%D0%B8%D0%B5%20%D0%BD%D0%B0%20%D1%80%D0%B0%D0%B7%D0%B2%D0%B8%D0%B2%D0%B0%D1%8E%D1%89%D0%B8%D1%85%D1%81%D1%8F%20%D1%80%D1%8B%D0%BD%D0%BA%D0%B0%D1%85\">ценообразование на развивающихся рынках</a><!-- --></span></div></div></div></div><div class=\"data\" style=\"border: 0; display: table\"><!-- --><div style=\"display: table-row;\"><div class=\"p0\" style=\"display:table-cell;\"><div class=\"first_child last_child\"><a class=\"link\" data-hse-file=\"PDF\" href=\"http://www.hse.ru/data/xf/389/240/1182/Кучин_диссертация.pdf\">Диссертация</a><span style=\"font-size:11px;color:#666666;\"> [*.pdf, 1.58 Мб] (дата размещения 3.10.2019)</span></div></div></div><!-- --><div style=\"display: table-row;\"><div class=\"p0\" style=\"display:table-cell;\"><div class=\"first_child last_child\"><a class=\"link\" data-hse-file=\"PDF\" href=\"http://www.hse.ru/data/2019/10/03/1182240389/Кучин_резюме_RUS.pdf\">Резюме</a><span style=\"font-size:11px;color:#666666;\"> [*.pdf, 635.11 Кб] (дата размещения 3.10.2019)</span></div></div></div><div style=\"display: table-row;\"><div class=\"p0\" style=\"display:table-cell;\"><div class=\"first_child last_child\"><a class=\"link\" data-hse-file=\"PDF\" href=\"http://www.hse.ru/data/2019/10/03/1182240389/Кучин_резюме_ENG.pdf\">Summary</a><span style=\"font-size:11px;color:#666666;\"> [*.pdf, 524.66 Кб] (дата размещения 3.10.2019)</span></div></div></div></div></div></div><div class=\"dissertation with-indent3\"><h2 class=\"first_child dissertation_title\"><a class=\"link\" href=\"/sci/diss/308199648\">Рентгенорефлектометрическое исследование формирования, морфологии и кинетики роста металлических и полупроводниковых наноразмерных пленок</a><em>Кандидатская диссертация</em><em>Ученая степень НИУ ВШЭ</em></h2><div class=\"dissertation\"><div class=\"data\" style=\"border: 0; display: table;\"><div class=\"o\" style=\"display: table-row;\"><div class=\"p0 p\" style=\"width: 200px; display: table-cell;\">Соискатель:</div><div class=\"p1 v\" style=\"display: table-cell;\"><a class=\"link\" href=\"/org/persons/56548447\" target=\"_blank\">Монахов Иван Сергеевич</a></div></div><div style=\"display: table-row;\"><div class=\"p0 p\" style=\"display: table-cell;\">Руководитель:</div><div class=\"p1 v\" style=\"display: table-cell;\"><a class=\"link\" href=\"/org/persons/47632628\" target=\"_blank\">Бондаренко Геннадий Германович</a><!-- --></div></div><!-- --><!-- --><div style=\"display: table-row;\"><div class=\"p0 p\" style=\"width: 200px; display: table-cell;\">Дисс. совет:</div><div class=\"p1 v\" style=\"display: table-cell;\">Совет по инженерным наукам и прикладной математике</div></div><div class=\"o\" style=\"display: table-row;\"><div class=\"p0 p\" style=\"display: table-cell;\">Дата защиты:</div><div class=\"p1 v\" style=\"display: table-cell;\">16.12.2019</div></div></div><div class=\"description with-indent2\"><div class=\"first_child\">Диссертация посвящена рентгенорефлектометрическому исследованию формирования, морфологии и кинетики роста металлических и полупроводниковых наноразмерных пленок. В работе использован усовершенствованный соискателем метод in situ рентгеновской рефлектометрии. Для практической реализации предложенного метода создан вакуумно-технологический комплекс с системой непрерывного in situ контроля параметров растущих пленок. Технические решения, описанные в диссертации, защищены шестью патентами Российской Федерации. На основе анализа совокупности экспериментальных временных зависимостей толщины, плотности, среднеквадратичной шероховатости поверхности пленки, а также интенсивности отраженного и рассеянного рентгеновского излучения исследованы начальные стадии роста пленок и определены механизмы их роста.</div><div class=\"data\" style=\"border: 0; display: table;\"><div style=\"display: table-row;\"><div class=\"p0 p\" style=\"width: 200px; display: table-cell;\">Ключевые слова:</div><div class=\"p1 v\" style=\"display: table-cell;\"><span><a class=\"link\" href=\"/sci/diss/?keyword=%D0%BC%D0%B0%D0%B3%D0%BD%D0%B5%D1%82%D1%80%D0%BE%D0%BD%D0%BD%D0%BE%D0%B5%20%D1%80%D0%B0%D1%81%D0%BF%D1%8B%D0%BB%D0%B5%D0%BD%D0%B8%D0%B5\">магнетронное распыление</a><span>, </span></span><span><a class=\"link\" href=\"/sci/diss/?keyword=%D0%BC%D0%B5%D1%82%D0%BE%D0%B4%20%D1%80%D0%B5%D0%BD%D1%82%D0%B3%D0%B5%D0%BD%D0%BE%D0%B2%D1%81%D0%BA%D0%BE%D0%B9%20%D1%80%D0%B5%D1%84%D0%BB%D0%B5%D0%BA%D1%82%D0%BE%D0%BC%D0%B5%D1%82%D1%80%D0%B8%D0%B8\">метод рентгеновской рефлектометрии</a><span>, </span></span><span><a class=\"link\" href=\"/sci/diss/?keyword=%D0%BD%D0%B0%D0%BD%D0%BE%D1%80%D0%B0%D0%B7%D0%BC%D0%B5%D1%80%D0%BD%D1%8B%D0%B5%20%D0%BF%D0%BB%D0%B5%D0%BD%D0%BA%D0%B8\">наноразмерные пленки</a><!-- --></span></div></div></div></div><div class=\"data\" style=\"border: 0; display: table\"><!-- --><div style=\"display: table-row;\"><div class=\"p0\" style=\"display:table-cell;\"><div class=\"first_child last_child\"><a class=\"link\" data-hse-file=\"PDF\" href=\"http://www.hse.ru/data/xf/570/883/1539/Диссертация.pdf\">Диссертация</a><span style=\"font-size:11px;color:#666666;\"> [*.pdf, 2.83 Мб] (дата размещения 15.10.2019)</span></div></div></div><!-- --><div style=\"display: table-row;\"><div class=\"p0\" style=\"display:table-cell;\"><div class=\"first_child last_child\"><a class=\"link\" data-hse-file=\"PDF\" href=\"http://www.hse.ru/data/2019/10/15/1539883570/Резюме.pdf\">Резюме</a><span style=\"font-size:11px;color:#666666;\"> [*.pdf, 248.90 Кб] (дата размещения 15.10.2019)</span></div></div></div><div style=\"display: table-row;\"><div class=\"p0\" style=\"display:table-cell;\"><div class=\"first_child last_child\"><a class=\"link\" data-hse-file=\"PDF\" href=\"http://www.hse.ru/data/2019/10/15/1539883570/summary.pdf\">Summary</a><span style=\"font-size:11px;color:#666666;\"> [*.pdf, 185.79 Кб] (дата размещения 15.10.2019)</span></div></div></div></div></div></div><div class=\"dissertation with-indent3\"><h2 class=\"first_child dissertation_title\"><a class=\"link\" href=\"/sci/diss/306991861\">Электрически малые излучатели антенн с использованием импедансносогласованных материалов</a><em>Кандидатская диссертация</em><em>Ученая степень НИУ ВШЭ</em></h2><div class=\"dissertation\"><div class=\"data\" style=\"border: 0; display: table;\"><div class=\"o\" style=\"display: table-row;\"><div class=\"p0 p\" style=\"width: 200px; display: table-cell;\">Соискатель:</div><div class=\"p1 v\" style=\"display: table-cell;\"><span>Годин Андрей Сергеевич</span></div></div><div style=\"display: table-row;\"><div class=\"p0 p\" style=\"display: table-cell;\">Руководитель:</div><div class=\"p1 v\" style=\"display: table-cell;\"><span>Климов Константин Николаевич</span><!-- --></div></div><!-- --><!-- --><div style=\"display: table-row;\"><div class=\"p0 p\" style=\"width: 200px; display: table-cell;\">Дисс. совет:</div><div class=\"p1 v\" style=\"display: table-cell;\">Совет по инженерным наукам и прикладной математике</div></div><div class=\"o\" style=\"display: table-row;\"><div class=\"p0 p\" style=\"display: table-cell;\">Дата защиты:</div><div class=\"p1 v\" style=\"display: table-cell;\">12.12.2019</div></div></div><div class=\"description with-indent2\"><div class=\"first_child\">Диссертационное исследование посвящено разработке излучателя с использованием импедансносогласованных материалов для создания антенных систем с минимальным габаритным размером и заданным электрическим характеристикам для решения задач навигации и связи. При решении задач, поставленных в диссертационной работе, были получены следующие результаты: 1) предельно достижимые, для заданных габаритов излучателя, согласно критерию Чу, значения коэффициента усиления достигаются в излучателях с двумя индукционными и двумя дальними зонами, которые могут быть реализованы при использовании импедансносогласованных материалов; 2) рабочая частота излучателя может быть уменьшена без изменения геометрии при использовании импедансносогласованных материалов; 3) уменьшена в 7 раз, по сравнению с существующими на рынке, стоимость автоматизированного программно-аппаратного комплекса для мультичастотных измерений диаграмм направленностей электрически малых антенн при использовании системы позиционирования и разработанного программного обеспечения.</div><div class=\"data\" style=\"border: 0; display: table;\"><div style=\"display: table-row;\"><div class=\"p0 p\" style=\"width: 200px; display: table-cell;\">Ключевые слова:</div><div class=\"p1 v\" style=\"display: table-cell;\"><span><a class=\"link\" href=\"/sci/diss/?keyword=%D0%B8%D0%B7%D0%BC%D0%B5%D1%80%D0%B5%D0%BD%D0%B8%D1%8F%20%D0%B4%D0%B8%D0%B0%D0%B3%D1%80%D0%B0%D0%BC%D0%BC%20%D0%BD%D0%B0%D0%BF%D1%80%D0%B0%D0%B2%D0%BB%D0%B5%D0%BD%D0%BD%D0%BE%D1%81%D1%82%D0%B5%D0%B9%20%D1%8D%D0%BB%D0%B5%D0%BA%D1%82%D1%80%D0%B8%D1%87%D0%B5%D1%81%D0%BA%D0%B8%20%D0%BC%D0%B0%D0%BB%D1%8B%D1%85%20%D0%B0%D0%BD%D1%82%D0%B5%D0%BD%D0%BD\">измерения диаграмм направленностей электрически малых антенн</a><span>, </span></span><span><a class=\"link\" href=\"/sci/diss/?keyword=%D0%B8%D0%BC%D0%BF%D0%B5%D0%B4%D0%B0%D0%BD%D1%81%D0%BD%D0%BE%D1%81%D0%BE%D0%B3%D0%BB%D0%B0%D1%81%D0%BE%D0%B2%D0%B0%D0%BD%D0%BD%D1%8B%D0%B9%20%D0%BC%D0%B0%D1%82%D0%B5%D1%80%D0%B8%D0%B0%D0%BB\">импедансносогласованный материал</a><span>, </span></span><span><a class=\"link\" href=\"/sci/diss/?keyword=%D0%BA%D1%80%D0%B8%D1%82%D0%B5%D1%80%D0%B8%D0%B9%20%D0%A7%D1%83\">критерий Чу</a><span>, </span></span><span><a class=\"link\" href=\"/sci/diss/?keyword=%D1%83%D0%BC%D0%B5%D0%BD%D1%8C%D1%88%D0%B5%D0%BD%D0%B8%D0%B5%20%D1%80%D0%B0%D0%B1%D0%BE%D1%87%D0%B5%D0%B9%20%D1%87%D0%B0%D1%81%D1%82%D0%BE%D1%82%D1%8B\">уменьшение рабочей частоты</a><span>, </span></span><span><a class=\"link\" href=\"/sci/diss/?keyword=%D1%8D%D0%BB%D0%B5%D0%BA%D1%82%D1%80%D0%B8%D1%87%D0%B5%D1%81%D0%BA%D0%B8%20%D0%BC%D0%B0%D0%BB%D1%8B%D0%B5%20%D0%B0%D0%BD%D1%82%D0%B5%D0%BD%D0%BD%D1%8B\">электрически малые антенны</a><!-- --></span></div></div></div></div><div class=\"data\" style=\"border: 0; display: table\"><!-- --><div style=\"display: table-row;\"><div class=\"p0\" style=\"display:table-cell;\"><div class=\"first_child last_child\"><a class=\"link\" data-hse-file=\"PDF\" href=\"http://www.hse.ru/data/xf/023/034/1541/Диссертация.pdf\">Диссертация</a><span style=\"font-size:11px;color:#666666;\"> [*.pdf, 4.17 Мб] (дата размещения 11.10.2019)</span></div></div></div><!-- --><div style=\"display: table-row;\"><div class=\"p0\" style=\"display:table-cell;\"><div class=\"first_child last_child\"><a class=\"link\" data-hse-file=\"PDF\" href=\"http://www.hse.ru/data/2019/10/11/1541034023/Резюме.pdf\">Резюме</a><span style=\"font-size:11px;color:#666666;\"> [*.pdf, 236.71 Кб] (дата размещения 11.10.2019)</span></div></div></div><div style=\"display: table-row;\"><div class=\"p0\" style=\"display:table-cell;\"><div class=\"first_child last_child\"><a class=\"link\" data-hse-file=\"PDF\" href=\"http://www.hse.ru/data/2019/10/11/1541034023/Resume.pdf\">Summary</a><span style=\"font-size:11px;color:#666666;\"> [*.pdf, 121.34 Кб] (дата размещения 11.10.2019)</span></div></div></div></div></div></div><div class=\"dissertation with-indent3\"><h2 class=\"first_child dissertation_title\"><a class=\"link\" href=\"/sci/diss/303881626\">Методология использования данных международных сравнительных исследований для изучения учительского корпуса России</a><em>Кандидатская диссертация</em><em>Ученая степень НИУ ВШЭ</em></h2><div class=\"dissertation\"><div class=\"data\" style=\"border: 0; display: table;\"><div class=\"o\" style=\"display: table-row;\"><div class=\"p0 p\" style=\"width: 200px; display: table-cell;\">Соискатель:</div><div class=\"p1 v\" style=\"display: table-cell;\"><a class=\"link\" href=\"/org/persons/14288322\" target=\"_blank\">Куликова (Пономарева) Алена Александровна</a></div></div><div style=\"display: table-row;\"><div class=\"p0 p\" style=\"display: table-cell;\">Руководитель:</div><div class=\"p1 v\" style=\"display: table-cell;\"><a class=\"link\" href=\"/org/persons/17257426\" target=\"_blank\">Карданова Елена Юрьевна</a><!-- --></div></div><!-- --><!-- --><div style=\"display: table-row;\"><div class=\"p0 p\" style=\"width: 200px; display: table-cell;\">Дисс. совет:</div><div class=\"p1 v\" style=\"display: table-cell;\">Совет по образованию</div></div><div class=\"o\" style=\"display: table-row;\"><div class=\"p0 p\" style=\"display: table-cell;\">Дата защиты:</div><div class=\"p1 v\" style=\"display: table-cell;\">12.12.2019</div></div></div><div class=\"description with-indent2\"><div class=\"first_child\">Целью диссертационного исследования является разработка и применение методологии работы с данными международных сравнительных исследований, направленных на изучение учительского корпуса, для проведения сравнительного анализа характеристик учителей как на национальном, так и на международном уровне. В качестве опытно-экспериментальной базы для демонстрации разработанной методологии выбраны два МСИ учителей – исследование TALIS - крупнейшее международное сравнительное исследование учителей и NorBA – международное сравнительное исследование установок учителей математики. Разработанная автором методология базируется на методах современной теории тестирования IRT (Item Response Theory) и методах КФА (конфирматорный факторный анализ) для оценки эквивалентности конструкта и эквивалентности заданий. Также в работе представлен способ расчета индекса стилей ответа для контроля смещения результатов, полученных методом самоотчета.</div><div class=\"data\" style=\"border: 0; display: table;\"><div style=\"display: table-row;\"><div class=\"p0 p\" style=\"width: 200px; display: table-cell;\">Ключевые слова:</div><div class=\"p1 v\" style=\"display: table-cell;\"><span><a class=\"link\" href=\"/sci/diss/?keyword=NorBA\">NorBA</a><span>, </span></span><span><a class=\"link\" href=\"/sci/diss/?keyword=TALIS\">TALIS</a><span>, </span></span><span><a class=\"link\" href=\"/sci/diss/?keyword=%D0%BC%D0%B5%D0%B6%D0%B4%D1%83%D0%BD%D0%B0%D1%80%D0%BE%D0%B4%D0%BD%D1%8B%D0%B5%20%D1%81%D1%80%D0%B0%D0%B2%D0%BD%D0%B8%D1%82%D0%B5%D0%BB%D1%8C%D0%BD%D1%8B%D0%B5%20%D0%B8%D1%81%D1%81%D0%BB%D0%B5%D0%B4%D0%BE%D0%B2%D0%B0%D0%BD%D0%B8%D1%8F\">международные сравнительные исследования</a><span>, </span></span><span><a class=\"link\" href=\"/sci/diss/?keyword=%D1%83%D1%87%D0%B8%D1%82%D0%B5%D0%BB%D1%8F\">учителя</a><span>, </span></span><span><a class=\"link\" href=\"/sci/diss/?keyword=%D1%85%D0%B0%D1%80%D0%B0%D0%BA%D1%82%D0%B5%D1%80%D0%B8%D1%81%D1%82%D0%B8%D0%BA%D0%B8%20%D1%83%D1%87%D0%B8%D1%82%D0%B5%D0%BB%D0%B5%D0%B9\">характеристики учителей</a><!-- --></span></div></div></div></div><div class=\"data\" style=\"border: 0; display: table\"><!-- --><div style=\"display: table-row;\"><div class=\"p0\" style=\"display:table-cell;\"><div class=\"first_child last_child\"><a class=\"link\" data-hse-file=\"PDF\" href=\"http://www.hse.ru/data/xf/784/827/1535/Диссертация Куликова А.А..pdf\">Диссертация</a><span style=\"font-size:11px;color:#666666;\"> [*.pdf, 1.75 Мб] (дата размещения 11.10.2019)</span></div></div></div><!-- --><div style=\"display: table-row;\"><div class=\"p0\" style=\"display:table-cell;\"><div class=\"first_child last_child\"><a class=\"link\" data-hse-file=\"PDF\" href=\"http://www.hse.ru/data/2019/11/28/1535827784/Резюме Куликова А.А..pdf\">Резюме</a><span style=\"font-size:11px;color:#666666;\"> [*.pdf, 530.85 Кб] (дата размещения 11.10.2019)</span></div></div></div><div style=\"display: table-row;\"><div class=\"p0\" style=\"display:table-cell;\"><div class=\"first_child last_child\"><a class=\"link\" data-hse-file=\"PDF\" href=\"http://www.hse.ru/data/2019/10/11/1535827784/kulikova_thesis summary_final.pdf\">Summary</a><span style=\"font-size:11px;color:#666666;\"> [*.pdf, 340.79 Кб] (дата размещения 11.10.2019)</span></div></div></div></div></div></div><div class=\"dissertation with-indent3\"><h2 class=\"first_child dissertation_title\"><a class=\"link\" href=\"/sci/diss/303588272\">Понятие действия в философии Х. Арендт и П. Рикёра: сопоставительный анализ</a><em>Кандидатская диссертация</em><em>Ученая степень НИУ ВШЭ</em></h2><div class=\"dissertation\"><div class=\"data\" style=\"border: 0; display: table;\"><div class=\"o\" style=\"display: table-row;\"><div class=\"p0 p\" style=\"width: 200px; display: table-cell;\">Соискатель:</div><div class=\"p1 v\" style=\"display: table-cell;\"><span>Сидорова Мария Алексеевна</span></div></div><div style=\"display: table-row;\"><div class=\"p0 p\" style=\"display: table-cell;\">Руководитель:</div><div class=\"p1 v\" style=\"display: table-cell;\"><a class=\"link\" href=\"/org/persons/66573\" target=\"_blank\">Филиппов Александр Фридрихович</a><!-- --></div></div><!-- --><!-- --><div style=\"display: table-row;\"><div class=\"p0 p\" style=\"width: 200px; display: table-cell;\">Дисс. совет:</div><div class=\"p1 v\" style=\"display: table-cell;\">Совет по философии</div></div><div class=\"o\" style=\"display: table-row;\"><div class=\"p0 p\" style=\"display: table-cell;\">Дата защиты:</div><div class=\"p1 v\" style=\"display: table-cell;\">10.12.2019</div></div></div><div class=\"description with-indent2\"><div class=\"first_child\">Целью диссертационного исследования является сопоставление представлений Х. Арендт и П. Рикёра о действии на основе реконструкции влияния теории Х. Арендт на герменевтическую философию П. Рикёра. Впервые в отечественной литературе предпринята попытка не только сопоставления подходов Рикёра и Арендт к действию, но и целостная реконструкция влияний понятий теории действия Х. Арендт на герменевтическую философию П. Рикёра, на его представление о действии. Раскрыта роль П. Рикёра в истории исследования работ Х. Арендт.  Выделены этапы становления герменевтики действия П. Рикёра.</div><div class=\"data\" style=\"border: 0; display: table;\"><div style=\"display: table-row;\"><div class=\"p0 p\" style=\"width: 200px; display: table-cell;\">Ключевые слова:</div><div class=\"p1 v\" style=\"display: table-cell;\"><span><a class=\"link\" href=\"/sci/diss/?keyword=%D0%90%D1%80%D0%B5%D0%BD%D0%B4%D1%82\">Арендт</a><span>, </span></span><span><a class=\"link\" href=\"/sci/diss/?keyword=%D0%B3%D0%B5%D1%80%D0%BC%D0%B5%D0%BD%D0%B5%D0%B2%D1%82%D0%B8%D0%BA%D0%B0\">герменевтика</a><span>, </span></span><span><a class=\"link\" href=\"/sci/diss/?keyword=%D0%9F%D0%BE%D0%BB%D1%8C%20%D0%A0%D0%B8%D0%BA%D0%B5%D1%80\">Поль Рикер</a><!-- --></span></div></div></div></div><div class=\"data\" style=\"border: 0; display: table\"><!-- --><div style=\"display: table-row;\"><div class=\"p0\" style=\"display:table-cell;\"><div class=\"first_child last_child\"><a class=\"link\" data-hse-file=\"PDF\" href=\"http://www.hse.ru/data/xf/698/057/1536/Сидорова_диссертация.pdf\">Диссертация</a><span style=\"font-size:11px;color:#666666;\"> [*.pdf, 2.13 Мб] (дата размещения 26.08.2019)</span></div></div></div><!-- --><div style=\"display: table-row;\"><div class=\"p0\" style=\"display:table-cell;\"><div class=\"first_child last_child\"><a class=\"link\" data-hse-file=\"PDF\" href=\"http://www.hse.ru/data/2019/08/26/1536057698/Сидорова_резюме.pdf\">Резюме</a><span style=\"font-size:11px;color:#666666;\"> [*.pdf, 832.08 Кб] (дата размещения 26.08.2019)</span></div></div></div><div style=\"display: table-row;\"><div class=\"p0\" style=\"display:table-cell;\"><div class=\"first_child last_child\"><a class=\"link\" data-hse-file=\"PDF\" href=\"http://www.hse.ru/data/2019/08/26/1536057698/Сидорова_summary.pdf\">Summary</a><span style=\"font-size:11px;color:#666666;\"> [*.pdf, 791.42 Кб] (дата размещения 26.08.2019)</span></div></div></div></div></div></div><div class=\"dissertation with-indent3\"><h2 class=\"first_child dissertation_title\"><a class=\"link\" href=\"/sci/diss/252581156\">Анализ аргументационных схем (топосов) президентской повестки дня по правам человека в ежегодных посланиях ФС РФ (2000-2017 гг.)</a><em>Кандидатская диссертация</em><em>Ученая степень НИУ ВШЭ</em></h2><div class=\"dissertation\"><div class=\"data\" style=\"border: 0; display: table;\"><div class=\"o\" style=\"display: table-row;\"><div class=\"p0 p\" style=\"width: 200px; display: table-cell;\">Соискатель:</div><div class=\"p1 v\" style=\"display: table-cell;\"><span>Захарова Олеся Викторовна</span></div></div><div style=\"display: table-row;\"><div class=\"p0 p\" style=\"display: table-cell;\">Руководитель:</div><div class=\"p1 v\" style=\"display: table-cell;\"><a class=\"link\" href=\"/org/persons/67436\" target=\"_blank\">Урнов Марк Юрьевич</a><!-- --></div></div><!-- --><!-- --><div style=\"display: table-row;\"><div class=\"p0 p\" style=\"width: 200px; display: table-cell;\">Дисс. совет:</div><div class=\"p1 v\" style=\"display: table-cell;\">Совет по политологии</div></div><div class=\"o\" style=\"display: table-row;\"><div class=\"p0 p\" style=\"display: table-cell;\">Дата защиты:</div><div class=\"p1 v\" style=\"display: table-cell;\">5.12.2019</div></div></div><div class=\"description with-indent2\"><div class=\"first_child\">В настоящем диссертационном исследовании проводится анализ характера динамики аргументационных схем (топосов), используемых для конструирования и трансформации президентской повестки по правам человека в периоды с 2000 по 2007 и с 2012 по 2017 гг. на материалах ежегодных посланий главы государства Федеральному Собранию РФ. Исследование направлено на изучение дискурсивных аспектов политики прав человека в контексте политических процессов указанного периода.В ходе диссертационного исследования были проведены идентификация различных видов топосов, характерных для президентской повестки о правах человека, их систематизация и описание, а также определены внутренние взаимосвязи различных топосов между собой, установлена их роль в репрезентации прав человека. На основе полученных данных было продемонстрировано, что каждый вид топоса выполняет свою дискурсивную функцию, и выбор аргументационной схемы при конструировании повестки дня меняется в зависимости от политических целей актора. Таким образом, анализ трансформации дискурсивных моделей аргументации обладает не только дескриптивным, но и прогностическим потенциалом. Смена аргументационной стратегии позволяет описать характер политических изменений. Основным результатом диссертационного исследования является ре-конструирование трансформации президентской повестки дня о правах человека в периоды с 2000 по 2007 и 2012 – 2017 гг.</div><div class=\"data\" style=\"border: 0; display: table;\"><div style=\"display: table-row;\"><div class=\"p0 p\" style=\"width: 200px; display: table-cell;\">Ключевые слова:</div><div class=\"p1 v\" style=\"display: table-cell;\"><span><a class=\"link\" href=\"/sci/diss/?keyword=%D0%B0%D1%80%D0%B3%D1%83%D0%BC%D0%B5%D0%BD%D1%82%D0%B0%D1%86%D0%B8%D0%BE%D0%BD%D0%BD%D1%8B%D0%B5%20%D1%81%D1%85%D0%B5%D0%BC%D1%8B%20%28%D1%82%D0%BE%D0%BF%D0%BE%D1%81%D1%8B%29\">аргументационные схемы (топосы)</a><span>, </span></span><span><a class=\"link\" href=\"/sci/diss/?keyword=%D0%BF%D0%BE%D0%BB%D0%B8%D1%82%D0%B8%D1%87%D0%B5%D1%81%D0%BA%D0%B8%D0%B9%20%D0%B4%D0%B8%D1%81%D0%BA%D1%83%D1%80%D1%81-%D0%B0%D0%BD%D0%B0%D0%BB%D0%B8%D0%B7\">политический дискурс-анализ</a><span>, </span></span><span><a class=\"link\" href=\"/sci/diss/?keyword=%D0%BF%D1%80%D0%B0%D0%B2%D0%B0%20%D1%87%D0%B5%D0%BB%D0%BE%D0%B2%D0%B5%D0%BA%D0%B0\">права человека</a><!-- --></span></div></div></div></div><div class=\"data\" style=\"border: 0; display: table\"><!-- --><div style=\"display: table-row;\"><div class=\"p0\" style=\"display:table-cell;\"><div class=\"first_child last_child\"><a class=\"link\" data-hse-file=\"PDF\" href=\"http://www.hse.ru/data/xf/726/372/1184/диссертация Захаровой_04.10.2019.pdf\">Диссертация</a><span style=\"font-size:11px;color:#666666;\"> [*.pdf, 5.12 Мб] (дата размещения 4.10.2019)</span></div></div></div><!-- --><div style=\"display: table-row;\"><div class=\"p0\" style=\"display:table-cell;\"><div class=\"first_child last_child\"><a class=\"link\" data-hse-file=\"PDF\" href=\"http://www.hse.ru/data/2019/10/04/1184372726/Резюме на русском_Захарова_04.10.2019_финал.pdf\">Резюме</a><span style=\"font-size:11px;color:#666666;\"> [*.pdf, 534.54 Кб] (дата размещения 4.10.2019)</span></div></div></div><div style=\"display: table-row;\"><div class=\"p0\" style=\"display:table-cell;\"><div class=\"first_child last_child\"><a class=\"link\" data-hse-file=\"PDF\" href=\"http://www.hse.ru/data/2019/10/04/1184372726/Резюме на английском_Захарова_04.10.2019_финал.pdf\">Summary</a><span style=\"font-size:11px;color:#666666;\"> [*.pdf, 415.21 Кб] (дата размещения 4.10.2019)</span></div></div></div></div></div></div></div><div align=\"left\" class=\"last_child letterlist\"><!-- --><!-- --><span class=\"active\">1</span><a class=\"link\" href=\"/sci/diss/?author=&amp;chief=&amp;year=2019&amp;type=1&amp;degree_type=&amp;council=&amp;spec=&amp;fulltext=yes&amp;page=2\">2</a><a class=\"link\" href=\"/sci/diss/?author=&amp;chief=&amp;year=2019&amp;type=1&amp;degree_type=&amp;council=&amp;spec=&amp;fulltext=yes&amp;page=3\">3</a><a class=\"link\" href=\"/sci/diss/?author=&amp;chief=&amp;year=2019&amp;type=1&amp;degree_type=&amp;council=&amp;spec=&amp;fulltext=yes&amp;page=4\">4</a><a class=\"link\" href=\"/sci/diss/?author=&amp;chief=&amp;year=2019&amp;type=1&amp;degree_type=&amp;council=&amp;spec=&amp;fulltext=yes&amp;page=5\">5</a><a class=\"link\" href=\"/sci/diss/?author=&amp;chief=&amp;year=2019&amp;type=1&amp;degree_type=&amp;council=&amp;spec=&amp;fulltext=yes&amp;page=6\">6</a><a class=\"link\" href=\"/sci/diss/?author=&amp;chief=&amp;year=2019&amp;type=1&amp;degree_type=&amp;council=&amp;spec=&amp;fulltext=yes&amp;page=7\">7</a><a class=\"link\" href=\"/sci/diss/?author=&amp;chief=&amp;year=2019&amp;type=1&amp;degree_type=&amp;council=&amp;spec=&amp;fulltext=yes&amp;page=2\">→</a></div></div></div><div class=\"vkr__sidebar js-mobile_popup\"><div class=\"header-board__top js-mobile_popup__top is-fixed is-mobile\"><div class=\"header-top header-top--secondary\"><div class=\"right\"><div class=\"header__controls\"><span class=\"control is-mobile control_menu control_menu--close js-control_menu_close\"><ins></ins></span></div></div></div></div><form><ul class=\"vkr-filter js-mobile_popup__inner\"><li class=\"vkr-filter__item\"><div class=\"hse-input-auto\"><label class=\"vkr-filter__label\" for=\"title\">Название:</label><div class=\"vkr-filter__control hse-input-auto__container\"><input class=\"vkr-filter__field hse-input-auto__field\" id=\"diss-filter-input__title\" placeholder=\"...\" type=\"text\" value=\"\"/><!-- --></div></div></li><li class=\"vkr-filter__item\"><div class=\"hse-input-auto\"><label class=\"vkr-filter__label\" for=\"author\">Автор:</label><div class=\"vkr-filter__control hse-input-auto__container\"><input class=\"vkr-filter__field hse-input-auto__field\" id=\"diss-filter-input__author\" placeholder=\"...\" type=\"text\" value=\"\"/><!-- --></div></div></li><li class=\"vkr-filter__item\"><div class=\"hse-input-auto\"><label class=\"vkr-filter__label\" for=\"chief\">Научный руководитель:</label><div class=\"vkr-filter__control hse-input-auto__container\"><input class=\"vkr-filter__field hse-input-auto__field\" id=\"diss-filter-input__chief\" placeholder=\"...\" type=\"text\" value=\"\"/><!-- --></div></div></li><li class=\"vkr-filter__item\"><div class=\"hse-input-auto\"><label class=\"vkr-filter__label\" for=\"keyword\">Ключевые слова:</label><div class=\"vkr-filter__control hse-input-auto__container\"><input class=\"vkr-filter__field hse-input-auto__field\" id=\"diss-filter-input__keyword\" placeholder=\"...\" type=\"text\" value=\"\"/><!-- --></div></div></li><li class=\"vkr-filter__item\"><label class=\"vkr-filter__label\" for=\"year\">Год защиты:</label><select class=\"vkr-filter__control\" id=\"year\" name=\"year\" value=\"\"><option value=\"\">любой</option><option value=\"2023\">2023</option><option value=\"2022\">2022</option><option value=\"2021\">2021</option><option value=\"2020\">2020</option><option value=\"2019\">2019</option><option value=\"2018\">2018</option><option value=\"2017\">2017</option><option value=\"2016\">2016</option><option value=\"2015\">2015</option><option value=\"2014\">2014</option><option value=\"2013\">2013</option><option value=\"2012\">2012</option><option value=\"2011\">2011</option><option value=\"2010\">2010</option><option value=\"2009\">2009</option><option value=\"2008\">2008</option><option value=\"2007\">2007</option><option value=\"2006\">2006</option><option value=\"2005\">2005</option><option value=\"2004\">2004</option><option value=\"2003\">2003</option><option value=\"2002\">2002</option><option value=\"2001\">2001</option><option value=\"2000\">2000</option><option value=\"1993\">1993</option></select></li><li class=\"vkr-filter__item\"><label class=\"vkr-filter__label\" for=\"dissType\">Тип диссертации:</label><select class=\"vkr-filter__control\" id=\"dissType\" name=\"dissType\" value=\"\"><option value=\"\">любой</option><option value=\"1\">Кандидатская диссертация</option><option value=\"2\">Докторская диссертация</option><option value=\"5\">PhD</option></select></li><li class=\"vkr-filter__item\"><label class=\"vkr-filter__label\" for=\"degreeType\">Тип ученой степени:</label><select class=\"vkr-filter__control\" id=\"degreeType\" name=\"degreeType\" value=\"\"><option value=\"\">любой</option><option value=\"1\">Ученая степень в системе Минобрнауки России</option><option value=\"2\">Ученая степень НИУ ВШЭ</option><option value=\"3\">Ученая степень, полученная в иностранном государстве</option></select></li><li class=\"vkr-filter__item\"><label class=\"vkr-filter__label\" for=\"council\">Диссертационный совет:</label><select class=\"vkr-filter__control\" id=\"council\" name=\"council\" value=\"\"><option value=\"\">любой</option><option value=\"491740\">Д 212.048.01 - Совет по социологическим наукам</option><option value=\"491742\">Д 212.048.02 - Совет по экономическим наукам</option><option value=\"491746\">Д 212.048.03 - Совет по психологическим наукам</option><option value=\"491748\">Д 212.048.04 - Совет по юридическим наукам</option><option value=\"491744\">Д 212.048.05 - Совет по экономическим наукам</option><option value=\"1025598\">Д 212.048.06 - Совет по экономическим наукам</option><option value=\"1025600\">Д 212.048.07 - Совет по экономическим наукам</option><option value=\"4669726\">Д 212.048.08 - Совет по политическим наукам</option><option value=\"4669733\">Д 212.048.09 - Совет по техническим и физико-математическим наукам</option><option value=\"6334173\">Д 212.048.10 - Совет по юридическим наукам</option><option value=\"20827616\">Д 212.048.11 - Совет по юридическим наукам</option><option value=\"33651848\">Д 212.048.12 - Совет по философским наукам</option><option value=\"103155857\">Д 212.048.13 - Совет по техническим наукам</option><option value=\"116250935\">Д 212.048.17 - Совет по физико-математическим наукам</option><option value=\"179418632\">Д 212.048.18 - Совет по экономическим наукам</option><option value=\"203080131\">Д 212.048.19 - Совет по физико-математическим наукам </option><option value=\"205934536\">Д 212.048.20 - Совет по техническим наукам</option><option value=\"219469747\">Совет по государственному и муниципальному управлению</option><option value=\"216992532\">Совет по инженерным наукам и прикладной математике</option><option value=\"499125297\">Совет по искусству и дизайну</option><option value=\"216992534\">Совет по истории</option><option value=\"216992536\">Совет по компьютерным наукам </option><option value=\"219469678\">Совет по культурологии</option><option value=\"216992538\">Совет по математике</option><option value=\"339962744\">Совет по международным отношениям и зарубежным региональным исследованиям</option><option value=\"216992540\">Совет по менеджменту</option><option value=\"216992542\">Совет по образованию</option><option value=\"216992544\">Совет по политологии</option><option value=\"216992546\">Совет по праву</option><option value=\"216992548\">Совет по психологии</option><option value=\"216992550\">Совет по социологии</option><option value=\"216992552\">Совет по физике</option><option value=\"219469665\">Совет по филологии</option><option value=\"216992554\">Совет по философии</option><option value=\"216992556\">Совет по экономике</option></select></li><li class=\"vkr-filter__item\"><label class=\"vkr-filter__label\" for=\"spec\">Специальность:</label><select class=\"vkr-filter__control\" id=\"spec\" name=\"spec\" value=\"\"><option value=\"\">любая</option><option value=\"8966617\">01.01.01 Вещественный, комплексный и функциональный анализ</option><option value=\"8966619\">01.01.02 Дифференциальные уравнения, динамические системы и оптимальное управление</option><option value=\"8966621\">01.01.03 Математическая физика</option><option value=\"8966623\">01.01.04 Геометрия и топология</option><option value=\"6071301\">01.01.05 Теория вероятностей и математическая статистика</option><option value=\"8966625\">01.01.06 Математическая логика, алгебра и теория чисел</option><option value=\"8966629\">01.01.09 Дискретная математика и математическая кибернетика</option><option value=\"5764583\">01.02.05 Механика жидкости, газа и плазмы</option><option value=\"8966631\">01.04.02 Теоретическая физика</option><option value=\"12254647\">01.04.07 Физика конденсированного состояния</option><option value=\"12257809\">05.11.15 Метрология и метрологическое обеспечение</option><option value=\"12257819\">05.12.04 Радиотехника, в том числе системы и устройства телевидения</option><option value=\"12257821\">05.12.07 Антенны, СВЧ устройства и их технологии</option><option value=\"12257823\">05.12.13 Системы, сети и устройства телекоммуникаций</option><option value=\"12257829\">05.13.01 Системный анализ, управление и обработка информации</option><option value=\"12257831\">05.13.05 Элементы и устройства вычислительной техники и систем управления</option><option value=\"12257835\">05.13.10 Управление в социальных и экономических системах</option><option value=\"486688\">05.13.11 Математическое и программное обеспечение вычислительных машин, комплексов и компьютерных сетей</option><option value=\"12257837\">05.13.12 Системы автоматизации проектирования</option><option value=\"486692\">05.13.17 Теоретические основы информатики</option><option value=\"4752135\">05.13.18 Математическое моделирование, численные методы и комплексы программ</option><option value=\"486694\">05.25.05 Информационные системы и процессы</option><option value=\"12258992\">05.27.01 Твердотельная электроника, радиоэлектронные компоненты, микро- и наноэлектроника, приборы на квантовых эффектах</option><option value=\"486696\">07.00.02 Отечественная история</option><option value=\"12648269\">07.00.03 Всеобщая история</option><option value=\"35912453\">08.00.01 Политическая экономия</option><option value=\"486704\">08.00.01 Экономическая теория</option><option value=\"486706\">08.00.04 Региональная экономика</option><option value=\"486708\">08.00.05 Экономика и управление народным хозяйством</option><option value=\"486714\">08.00.10 Финансы, денежное обращение и кредит</option><option value=\"486716\">08.00.12 Бухгалтерский учет, статистика</option><option value=\"486718\">08.00.13 Математические и инструментальные методы экономики</option><option value=\"486720\">08.00.14 Мировая экономика</option><option value=\"10782092\">09.00.01 Онтология и теория познания</option><option value=\"10782090\">09.00.03 История философии</option><option value=\"6194302\">09.00.13 Философская антропология и философия культуры</option><option value=\"12259238\">10.01.01 Русская литература</option><option value=\"10793156\">10.02.19 Теория языка</option><option value=\"10136757\">10.02.20 Сравнительно-историческое, типологическое и сопоставительное языкознание</option><option value=\"5535699\">10.02.21 Прикладная и математическая лингвистика</option><option value=\"3230451\">12.00.01 Теория и история права и государства; история учений о праве и государстве</option><option value=\"6065801\">12.00.02 Конституционное право; конституционный судебный процесс; муниципальное право</option><option value=\"4568376\">12.00.03 Гражданское право; предпринимательское право; семейное право; международное частное право</option><option value=\"16654379\">12.00.04 Финансовое право; налоговое право; бюджетное право</option><option value=\"12259258\">12.00.05 Трудовое право; право социального обеспечения</option><option value=\"1028054\">12.00.08 Уголовное право и криминология; уголовно-исполнительное право</option><option value=\"12259222\">12.00.09 Уголовный процесс, криминалистика, оперативно-розыскная деятельность</option><option value=\"7523392\">12.00.10 Международное право, Европейское право</option><option value=\"12259224\">12.00.11 Судебная власть, прокурорский надзор, организация правоохранительной деятельности</option><option value=\"78671427\">12.00.11 Судебная деятельность, прокурорская деятельность, правозащитная и правоохранительная деятельность</option><option value=\"78671425\">12.00.13 Информационное право</option><option value=\"78671423\">12.00.14 Административное право; административный процесс</option><option value=\"1025596\">12.00.14 Административное право, финансовое право, информационное право</option><option value=\"12259226\">12.00.15 Гражданский процесс; арбитражный процесс</option><option value=\"486726\">13.00.01 Общая педагогика, история педагогики и образования</option><option value=\"12259517\">17.00.04 Изобразительное и декоративно-прикладное искусство и архитектура</option><option value=\"1025594\">19.00.01 Общая психология, психология личности, история психологии</option><option value=\"10134252\">19.00.05 Социальная психология</option><option value=\"486736\">22.00.01 Теория, история и методология социологии</option><option value=\"486738\">22.00.03 Экономическая социология и демография</option><option value=\"486740\">22.00.04 Социальная структура, социальные институты и социальные процессы</option><option value=\"486742\">22.00.06 Социология культуры</option><option value=\"486744\">22.00.08 Социология управления</option><option value=\"1194099\">23.00.01 Теория и философия политики, история и методология политической науки</option><option value=\"1194102\">23.00.02 Политические институты, процессы и технологии</option><option value=\"46348580\">23.00.03 Политическая культура и идеологии</option><option value=\"4612541\">23.00.04 Политические проблемы международных отношений, глобального и регионального развития</option><option value=\"486746\">24.00.01 Теория и история культуры</option></select></li><li class=\"vkr-filter__item\"><input id=\"fulltext\" name=\"fulltext\" type=\"checkbox\"/><label for=\"fulltext\">Показать работы только с полным текстом диссертации</label></li><li class=\"vkr-filter__item\"><span class=\"vkr-filter__control\"><button class=\"vkr-button\">Показать</button></span></li><p class=\"grey\" style=\"text-align: center; cursor: pointer;\">Сбросить фильтры</p></ul></form></div></div></div>\n",
       "<link href=\"/n/stat/common/vkr/dist/css/app.css\" rel=\"stylesheet\"/><script src=\"/n/stat/diss/app.js\"></script><style>.dissertation_title {\n",
       "          font-size: 2.5rem;\n",
       "    }\n",
       "\n",
       "    .dissertation_title em {\n",
       "          color: #999;\n",
       "             display: block;\n",
       "                font: normal 1.4rem Arial, sans-serif;\n",
       "                   margin-top: 0.8em;\n",
       "    }\n",
       "\n",
       "    .article {\n",
       "          margin: 1em 0 0;\n",
       "    }\n",
       "    table.data tr:hover,\n",
       "    table.data tr.active:hover {\n",
       "          background: transparent;\n",
       "    }\n",
       "    .first_child.last_child {\n",
       "          margin-top: 0;\n",
       "    }\n",
       "    .en-title {\n",
       "          font-size: 78%;\n",
       "             font-style: italic;\n",
       "                display: block;\n",
       "    }</style></div></div></div><footer class=\"footer\"><div class=\"footer__border\"></div><div class=\"footer__inner row\"><div class=\"fa-footer\"><div class=\"fa-footer__menu\"><div class=\"fa-footer__menu_inner b-row b-row--4\"><ul class=\"navigation b-row__item\"><li class=\"navigation__item navigation__item--parent\"><a class=\"navigation__link\" href=\"//www.hse.ru/org/hse/info/\">О ВЫШКЕ</a></li><li class=\"navigation__item\"><a class=\"navigation__link\" href=\"//www.hse.ru/figures/\">Цифры и факты</a></li><li class=\"navigation__item\"><a class=\"navigation__link\" href=\"//www.hse.ru/orgstructure/\">Руководство и структура</a></li><li class=\"navigation__item\"><a class=\"navigation__link\" href=\"//www.hse.ru/org/persons/\">Преподаватели и сотрудники</a></li><li class=\"navigation__item\"><a class=\"navigation__link\" href=\"//www.hse.ru/buildinghse\">Корпуса и общежития</a></li><li class=\"navigation__item\"><a class=\"navigation__link\" href=\"https://www.hse.ru/org/hse/aup/procurement/\">Закупки</a></li><li class=\"navigation__item\"><a class=\"navigation__link\" href=\"//www.hse.ru/appeal/\">Обращения граждан в НИУ ВШЭ</a></li><li class=\"navigation__item\"><a class=\"navigation__link\" href=\"//endowment.hse.ru/\">Фонд целевого капитала</a></li><li class=\"navigation__item\"><a class=\"navigation__link\" href=\"https://www.hse.ru/anticorruption\">Противодействие коррупции</a></li><li class=\"navigation__item\"><a class=\"navigation__link\" href=\"https://www.hse.ru/anticorruption/information\">Сведения о доходах, расходах, об имуществе и обязательствах имущественного характера</a></li><li class=\"navigation__item\"><a class=\"navigation__link\" href=\"//www.hse.ru/sveden/\">Сведения об образовательной организации</a></li><li class=\"navigation__item\"><a class=\"navigation__link\" href=\"https://inclusive.hse.ru/\">Людям с ограниченными возможностями здоровья</a></li><li class=\"navigation__item\"><a class=\"navigation__link\" href=\"https://pay.hse.ru/\">Единая платежная страница</a></li><li class=\"navigation__item\"><a class=\"navigation__link\" href=\"https://www.hse.ru/career\">Работа в Вышке</a></li></ul><ul class=\"navigation b-row__item\"><li class=\"navigation__item navigation__item--parent\"><a class=\"navigation__link\" href=\"//www.hse.ru/education/\">ОБРАЗОВАНИЕ</a></li><li class=\"navigation__item\"><a class=\"navigation__link\" href=\"//school.hse.ru\">Лицей</a></li><li class=\"navigation__item\"><a class=\"navigation__link\" href=\"https://fdp.hse.ru/\">Довузовская подготовка</a></li><li class=\"navigation__item\"><a class=\"navigation__link\" href=\"//olymp.hse.ru/\">Олимпиады</a></li><li class=\"navigation__item\"><a class=\"navigation__link\" href=\"//ba.hse.ru/\">Прием в бакалавриат</a></li><li class=\"navigation__item\"><a class=\"navigation__link\" href=\"https://www.hse.ru/plus\">Вышка+</a></li><li class=\"navigation__item\"><a class=\"navigation__link\" href=\"//ma.hse.ru/\">Прием в магистратуру</a></li><li class=\"navigation__item\"><a class=\"navigation__link\" href=\"//aspirantura.hse.ru/\">Аспирантура</a></li><li class=\"navigation__item\"><a class=\"navigation__link\" href=\"//busedu.hse.ru/\">Дополнительное образование</a></li><li class=\"navigation__item\"><a class=\"navigation__link\" href=\"https://career.hse.ru/\">Центр развития карьеры</a></li><li class=\"navigation__item\"><a class=\"navigation__link\" href=\"http://inc.hse.ru/\">Бизнес-инкубатор ВШЭ</a></li></ul><ul class=\"navigation b-row__item\"><li class=\"navigation__item navigation__item--parent\"><a class=\"navigation__link\" href=\"//www.hse.ru/science/\">НАУКА</a></li><li class=\"navigation__item\"><a class=\"navigation__link\" href=\"//www.hse.ru/science/centers\">Научные подразделения</a></li><li class=\"navigation__item\"><a class=\"navigation__link\" href=\"https://www.hse.ru/org/projects/\">Исследовательские проекты</a></li><li class=\"navigation__item\"><a class=\"navigation__link\" href=\"//www.hse.ru/monitoring/\">Мониторинги</a></li><li class=\"navigation__item\"><a class=\"navigation__link\" href=\"//www.hse.ru/science/disscoun/\">Диссертационные советы</a></li><li class=\"navigation__item\"><a class=\"navigation__link\" href=\"https://aspirantura.hse.ru/defence/announcements/\">Защиты диссертаций</a></li><li class=\"navigation__item\"><a class=\"navigation__link\" href=\"//academics.hse.ru/\">Академическое развитие</a></li><li class=\"navigation__item\"><a class=\"navigation__link\" href=\"//www.hse.ru/science/hsegrants\">Конкурсы и гранты</a></li><li class=\"navigation__item\"><a class=\"navigation__link\" href=\"https://iq.hse.ru/\">Научно-образовательный портал IQ.hse.ru</a></li><li class=\"navigation__item\"><a class=\"navigation__link\" href=\"https://conf.hse.ru/2023\">XXIV Ясинская (Апрельская) международная научная конференция по проблемам развития экономики и общества</a></li></ul><ul class=\"navigation b-row__item\"><li class=\"navigation__item navigation__item--parent\"><a class=\"navigation__link\" href=\"//publications.hse.ru\">РЕСУРСЫ</a></li><li class=\"navigation__item\"><a class=\"navigation__link\" href=\"https://library.hse.ru/\">Библиотека</a></li><li class=\"navigation__item\"><a class=\"navigation__link\" href=\"//id.hse.ru\">Издательский дом ВШЭ</a></li><li class=\"navigation__item\"><a class=\"navigation__link\" href=\"//bookshop.hse.ru/\">Книжный магазин «БукВышка»</a></li><li class=\"navigation__item\"><a class=\"navigation__link\" href=\"https://print.hse.ru/\">Типография</a></li><li class=\"navigation__item\"><a class=\"navigation__link\" href=\"https://mc.hse.ru/\">Медиацентр</a></li><li class=\"navigation__item\"><a class=\"navigation__link\" href=\"//www.hse.ru/science/journals\">Журналы ВШЭ</a></li><li class=\"navigation__item\"><a class=\"navigation__link\" href=\"//publications.hse.ru\">Публикации</a></li><li class=\"navigation__item\"><a class=\"navigation__link\" href=\"http://sophist.hse.ru/\">Единый архив экономических и социологических данных</a></li></ul></div></div></div><!--noindex--><div class=\"fa-footer__menu with-indent3\"><ul class=\"ul b-row b-row--4\"><li class=\"b-row__item\"><a href=\"http://www.minobrnauki.gov.ru/\" rel=\"nofollow\">http://www.minobrnauki.gov.ru/</a><div>Министерство науки и высшего образования РФ</div></li><li class=\"b-row__item\"><a href=\"https://edu.gov.ru/\" rel=\"nofollow\">https://edu.gov.ru/</a><div>Министерство просвещения РФ</div></li><li class=\"b-row__item\"><a href=\"http://www.edu.ru\" rel=\"nofollow\">http://www.edu.ru</a><div>Федеральный портал «Российское образование»</div></li><li class=\"b-row__item\"><a href=\"https://elearning.hse.ru/mooc\" rel=\"nofollow\">https://elearning.hse.ru/mooc</a><div>Массовые открытые онлайн-курсы</div></li></ul></div><!--/noindex--><div class=\"fa-footer__menu with-indent3 b-row\"><ul class=\"ul b-row__item b-row__item--9 small navigation navigation_horizontal\"><li class=\"navigation__item\"><span class=\"fa-grey\">©  НИУ ВШЭ 1993–2023</span></li><li class=\"navigation__item\"><a href=\"https://www.hse.ru/contacts.html\">Адреса и контакты</a></li><li class=\"navigation__item\"><a href=\"https://www.hse.ru/copyright\">Условия использования материалов</a></li><li class=\"navigation__item\"><a href=\"https://www.hse.ru/data_protection_regulation\">Политика конфиденциальности</a></li><li class=\"navigation__item\"><a href=\"https://www.hse.ru/sitemap.html\">Карта сайта</a></li></ul><!--noindex--><div class=\"b-row__item b-row__item--3 small\"><a class=\"link_dashed link_editor link_btm_editor\" href=\"https://www.hse.ru/adm?newportal=1\" rel=\"nofollow\">Редактору</a></div><!--/noindex--></div></div></footer></div><script id=\"\" type=\"text/javascript\">function loadTracker(){var a=document.createElement(\"script\");a.async=!0;a.src=\"https://tracker.hse.ru/js/tracker.min.js\";document.head.appendChild(a)}document.head?loadTracker():window.addEventListener(\"DOMContentLoaded\",loadTracker);</script>\n",
       "<script id=\"\" type=\"text/javascript\">(function(a,e,f,g,b,c,d){a[b]=a[b]||function(){(a[b].a=a[b].a||[]).push(arguments)};a[b].l=1*new Date;c=e.createElement(f);d=e.getElementsByTagName(f)[0];c.async=1;c.src=g;d.parentNode.insertBefore(c,d)})(window,document,\"script\",\"https://mc.yandex.ru/metrika/tag.js\",\"ym\");ym(32635220,\"init\",{clickmap:!0,trackLinks:!0,accurateTrackBounce:!0,webvisor:!1});ym(36283385,\"init\",{clickmap:!0,trackLinks:!0,accurateTrackBounce:!0,webvisor:!0,trackHash:!0});\n",
       "ym(57348160,\"init\",{clickmap:!0,trackLinks:!0,accurateTrackBounce:!0,webvisor:!1});</script>\n",
       "<script id=\"\" type=\"text/javascript\">(function(){try{window.setTimeout(function(){dataLayer.push({event:\"afterLoad\"})},1500)}catch(a){}})();</script>\n",
       "<script id=\"\" type=\"text/javascript\">window.yaParams={\"CID-GA\":\"GA1.2.783304732.1678094756\"};ym(57348160,\"params\",window.yaParams||{});window.yaParams={\"CID-Tracker\":\"89e017d9-3c77-4865-875a-49ebf0bd242f\"};ym(57348160,\"params\",window.yaParams||{});</script></body></html>"
      ]
     },
     "execution_count": 30,
     "metadata": {},
     "output_type": "execute_result"
    }
   ],
   "source": [
    "soup"
   ]
  },
  {
   "cell_type": "code",
   "execution_count": 31,
   "metadata": {},
   "outputs": [
    {
     "name": "stdout",
     "output_type": "stream",
     "text": [
      "173\n"
     ]
    },
    {
     "data": {
      "text/plain": [
       "[<a class=\"link\" href=\"/sci/diss/314832967\">Мотивационные и личностные предпосылки жизненного призвания</a>,\n",
       " <a class=\"link\" href=\"/org/persons/28125914\" target=\"_blank\">Леонтьев Дмитрий Алексеевич</a>,\n",
       " <a class=\"link\" href=\"/sci/diss/?keyword=calling\">calling</a>,\n",
       " <a class=\"link\" href=\"/sci/diss/?keyword=career%20guidance\">career guidance</a>,\n",
       " <a class=\"link\" href=\"/sci/diss/?keyword=meaning%20in%20life\">meaning in life</a>,\n",
       " <a class=\"link\" href=\"/sci/diss/?keyword=positive%20psychology%20intervention\">positive psychology intervention</a>,\n",
       " <a class=\"link\" href=\"/sci/diss/?keyword=vocation\">vocation</a>,\n",
       " <a class=\"link\" href=\"/sci/diss/?keyword=%D0%BF%D0%BE%D0%B7%D0%B8%D1%82%D0%B8%D0%B2%D0%BD%D0%B0%D1%8F%20%D0%B8%D0%BD%D1%82%D0%B5%D1%80%D0%B2%D0%B5%D0%BD%D1%86%D0%B8%D1%8F\">позитивная интервенция</a>,\n",
       " <a class=\"link\" href=\"/sci/diss/?keyword=%D0%BF%D1%80%D0%B8%D0%B7%D0%B2%D0%B0%D0%BD%D0%B8%D0%B5\">призвание</a>,\n",
       " <a class=\"link\" href=\"/sci/diss/?keyword=%D1%81%D0%BC%D1%8B%D1%81%D0%BB%20%D0%B6%D0%B8%D0%B7%D0%BD%D0%B8\">смысл жизни</a>,\n",
       " <a class=\"link\" data-hse-file=\"PDF\" href=\"http://www.hse.ru/data/xf/365/361/1532/Dissertation.pdf\">Диссертация</a>,\n",
       " <a class=\"link\" data-hse-file=\"PDF\" href=\"http://www.hse.ru/data/2019/10/29/1532361365/Резюме диссертации (1).pdf\">Резюме</a>,\n",
       " <a class=\"link\" data-hse-file=\"PDF\" href=\"http://www.hse.ru/data/2019/10/29/1532361365/summary_EN_final (3).pdf\">Summary</a>,\n",
       " <a class=\"link\" href=\"/sci/diss/313979705\">Социодемографические аспекты перехода во взрослую жизнь россиян 1930-1986 г.р.</a>,\n",
       " <a class=\"link\" href=\"/org/persons/12150362\" target=\"_blank\">Митрофанова Екатерина Сергеевна</a>,\n",
       " <a class=\"link\" href=\"/org/persons/556494\" target=\"_blank\">Захаров Сергей Владимирович</a>,\n",
       " <a class=\"link\" href=\"/sci/diss/?keyword=%D0%B0%D0%BD%D0%B0%D0%BB%D0%B8%D0%B7%20%D0%BD%D0%B0%D1%81%D1%82%D1%83%D0%BF%D0%BB%D0%B5%D0%BD%D0%B8%D1%8F%20%D1%81%D0%BE%D0%B1%D1%8B%D1%82%D0%B8%D0%B9\">анализ наступления событий</a>,\n",
       " <a class=\"link\" href=\"/sci/diss/?keyword=%D0%B1%D1%80%D0%B0%D1%87%D0%BD%D0%BE%D1%81%D1%82%D1%8C\">брачность</a>,\n",
       " <a class=\"link\" href=\"/sci/diss/?keyword=%D0%B2%D0%B7%D1%80%D0%BE%D1%81%D0%BB%D0%B5%D0%BD%D0%B8%D0%B5\">взросление</a>,\n",
       " <a class=\"link\" href=\"/sci/diss/?keyword=%D0%B4%D0%B5%D0%BC%D0%BE%D0%B3%D1%80%D0%B0%D1%84%D0%B8%D1%8F\">демография</a>,\n",
       " <a class=\"link\" href=\"/sci/diss/?keyword=%D0%B6%D0%B8%D0%B7%D0%BD%D0%B5%D0%BD%D0%BD%D1%8B%D0%B9%20%D0%BF%D1%83%D1%82%D1%8C\">жизненный путь</a>,\n",
       " <a class=\"link\" href=\"/sci/diss/?keyword=%D0%BF%D0%BE%D0%BA%D0%BE%D0%BB%D0%B5%D0%BD%D0%B8%D1%8F\">поколения</a>,\n",
       " <a class=\"link\" href=\"/sci/diss/?keyword=%D1%80%D0%BE%D0%B6%D0%B4%D0%B0%D0%B5%D0%BC%D0%BE%D1%81%D1%82%D1%8C\">рождаемость</a>,\n",
       " <a class=\"link\" href=\"/sci/diss/?keyword=%D1%81%D1%82%D0%B0%D1%80%D1%82%D0%BE%D0%B2%D1%8B%D0%B5%20%D1%81%D0%BE%D0%B1%D1%8B%D1%82%D0%B8%D1%8F\">стартовые события</a>,\n",
       " <a class=\"link\" data-hse-file=\"PDF\" href=\"http://www.hse.ru/data/xf/739/885/1528/Митрофанова - диссертация.pdf\">Диссертация</a>,\n",
       " <a class=\"link\" data-hse-file=\"PDF\" href=\"http://www.hse.ru/data/2019/10/22/1528885739/Митрофанова - резюме диссертации.pdf\">Резюме</a>,\n",
       " <a class=\"link\" data-hse-file=\"PDF\" href=\"http://www.hse.ru/data/2019/10/22/1528885739/Mitrofanova - summary.pdf\">Summary</a>,\n",
       " <a class=\"link\" href=\"/sci/diss/309059431\">Особенности правового регулирования труда лиц, работающих вне места нахождения работодателя</a>,\n",
       " <a class=\"link\" href=\"/org/persons/68971\" target=\"_blank\">Петров Алексей Яковлевич</a>,\n",
       " <a class=\"link\" href=\"/sci/diss/?keyword=%D0%B2%D0%B0%D1%85%D1%82%D0%BE%D0%B2%D1%8B%D0%B9%20%D0%BC%D0%B5%D1%82%D0%BE%D0%B4%20%D0%BE%D1%80%D0%B3%D0%B0%D0%BD%D0%B8%D0%B7%D0%B0%D1%86%D0%B8%D0%B8%20%D1%82%D1%80%D1%83%D0%B4%D0%B0\">вахтовый метод организации труда</a>,\n",
       " <a class=\"link\" href=\"/sci/diss/?keyword=%D0%B4%D0%B8%D1%81%D1%82%D0%B0%D0%BD%D1%86%D0%B8%D0%BE%D0%BD%D0%BD%D1%8B%D0%B9%20%D1%82%D1%80%D1%83%D0%B4\">дистанционный труд</a>,\n",
       " <a class=\"link\" href=\"/sci/diss/?keyword=%D0%BD%D0%B0%D0%B4%D0%BE%D0%BC%D0%BD%D1%8B%D0%B9%20%D1%82%D1%80%D1%83%D0%B4\">надомный труд</a>,\n",
       " <a class=\"link\" href=\"/sci/diss/?keyword=%D1%80%D0%B0%D0%B1%D0%BE%D1%82%D0%B0%20%D0%B2%20%D0%BF%D0%BE%D0%BB%D0%B5%D0%B2%D1%8B%D1%85%20%D1%83%D1%81%D0%BB%D0%BE%D0%B2%D0%B8%D1%8F%D1%85\">работа в полевых условиях</a>,\n",
       " <a class=\"link\" href=\"/sci/diss/?keyword=%D1%80%D0%B0%D0%B1%D0%BE%D1%82%D0%B0%20%D0%B2%20%D1%80%D0%B0%D0%B7%D1%8A%D0%B5%D0%B7%D0%B4%D0%B0%D1%85\">работа в разъездах</a>,\n",
       " <a class=\"link\" href=\"/sci/diss/?keyword=%D1%83%D0%B4%D0%B0%D0%BB%D0%B5%D0%BD%D0%BD%D0%B0%D1%8F%20%D1%80%D0%B0%D0%B1%D0%BE%D1%82%D0%B0\">удаленная работа</a>,\n",
       " <a class=\"link\" data-hse-file=\"PDF\" href=\"http://www.hse.ru/data/xf/021/364/1543/Бородина Е.Н._Диссертация_181019.pdf\">Диссертация</a>,\n",
       " <a class=\"link\" data-hse-file=\"PDF\" href=\"http://www.hse.ru/data/2019/10/18/1543364021/1Бородина Е.Н._Резюме_181019.pdf\">Резюме</a>,\n",
       " <a class=\"link\" data-hse-file=\"PDF\" href=\"http://www.hse.ru/data/2019/10/18/1543364021/Borodina E._Summary_181019.pdf\">Summary</a>,\n",
       " <a class=\"link\" href=\"/sci/diss/7528068\">Внутренние факторы экспортной деятельности российских вузов</a>,\n",
       " <a class=\"link\" href=\"/org/persons/205653\" target=\"_blank\">Меликян Алиса Валерьевна</a>,\n",
       " <a class=\"link\" href=\"/org/persons/25477\" target=\"_blank\">Абанкина Ирина Всеволодовна</a>,\n",
       " <a class=\"link\" href=\"/sci/diss/?keyword=%D0%B8%D0%BD%D0%BE%D1%81%D1%82%D1%80%D0%B0%D0%BD%D0%BD%D1%8B%D0%B5%20%D1%81%D1%82%D1%83%D0%B4%D0%B5%D0%BD%D1%82%D1%8B\">иностранные студенты</a>,\n",
       " <a class=\"link\" href=\"/sci/diss/?keyword=%D0%BA%D0%BB%D0%B0%D1%81%D1%82%D0%B5%D1%80%D0%BD%D1%8B%D0%B9%20%D0%B0%D0%BD%D0%B0%D0%BB%D0%B8%D0%B7\">кластерный анализ</a>,\n",
       " <a class=\"link\" href=\"/sci/diss/?keyword=%D0%BA%D0%BB%D0%B0%D1%81%D1%82%D0%B5%D1%80%D1%8B\">кластеры</a>,\n",
       " <a class=\"link\" href=\"/sci/diss/?keyword=%D1%80%D0%BE%D1%81%D1%81%D0%B8%D0%B9%D1%81%D0%BA%D0%B8%D0%B5%20%D0%B2%D1%83%D0%B7%D1%8B\">российские вузы</a>,\n",
       " <a class=\"link\" href=\"/sci/diss/?keyword=%D1%8D%D0%BA%D0%BE%D0%BD%D0%BE%D0%BC%D0%B5%D1%82%D1%80%D0%B8%D1%87%D0%B5%D1%81%D0%BA%D0%B8%D0%B9%20%D0%B0%D0%BD%D0%B0%D0%BB%D0%B8%D0%B7\">эконометрический анализ</a>,\n",
       " <a class=\"link\" href=\"/sci/diss/?keyword=%D1%8D%D0%BA%D1%81%D0%BF%D0%BE%D1%80%D1%82%D0%BD%D0%B0%D1%8F%20%D0%B4%D0%B5%D1%8F%D1%82%D0%B5%D0%BB%D1%8C%D0%BD%D0%BE%D1%81%D1%82%D1%8C%20%D0%B2%D1%83%D0%B7%D0%BE%D0%B2\">экспортная деятельность вузов</a>,\n",
       " <a class=\"link\" data-hse-file=\"PDF\" href=\"http://www.hse.ru/data/xf/382/735/1239/Меликян_Диссертация 16.10.pdf\">Диссертация</a>,\n",
       " <a class=\"link\" data-hse-file=\"PDF\" href=\"http://www.hse.ru/data/2019/10/16/1239735382/Меликян_Резюме 16.10.pdf\">Резюме</a>,\n",
       " <a class=\"link\" data-hse-file=\"PDF\" href=\"http://www.hse.ru/data/2019/10/16/1239735382/Меликян_Summary 16.10.pdf\">Summary</a>]"
      ]
     },
     "execution_count": 31,
     "metadata": {},
     "output_type": "execute_result"
    }
   ],
   "source": [
    "print(len(soup.find_all('a')))\n",
    "soup.find_all('a', {'class':'link'})[:50]"
   ]
  },
  {
   "cell_type": "markdown",
   "metadata": {},
   "source": [
    "Видим, что ссылок очень много, а нам нужны только те, которые ведут на summary. Можно поискать их по тексту ссылки."
   ]
  },
  {
   "cell_type": "code",
   "execution_count": 32,
   "metadata": {},
   "outputs": [
    {
     "name": "stdout",
     "output_type": "stream",
     "text": [
      "http://www.hse.ru/data/2019/10/29/1532361365/summary_EN_final (3).pdf\n",
      "http://www.hse.ru/data/2019/10/22/1528885739/Mitrofanova - summary.pdf\n",
      "http://www.hse.ru/data/2019/10/18/1543364021/Borodina E._Summary_181019.pdf\n",
      "http://www.hse.ru/data/2019/10/16/1239735382/Меликян_Summary 16.10.pdf\n",
      "http://www.hse.ru/data/2019/10/03/1182240389/Кучин_резюме_ENG.pdf\n",
      "http://www.hse.ru/data/2019/10/15/1539883570/summary.pdf\n",
      "http://www.hse.ru/data/2019/10/11/1541034023/Resume.pdf\n",
      "http://www.hse.ru/data/2019/10/11/1535827784/kulikova_thesis summary_final.pdf\n",
      "http://www.hse.ru/data/2019/08/26/1536057698/Сидорова_summary.pdf\n",
      "http://www.hse.ru/data/2019/10/04/1184372726/Резюме на английском_Захарова_04.10.2019_финал.pdf\n"
     ]
    }
   ],
   "source": [
    "for link in soup.find_all('a', text='Summary'):\n",
    "    print(link.get('href'))"
   ]
  },
  {
   "cell_type": "markdown",
   "metadata": {},
   "source": [
    "И соберем ссылки в список."
   ]
  },
  {
   "cell_type": "code",
   "execution_count": 33,
   "metadata": {},
   "outputs": [
    {
     "name": "stdout",
     "output_type": "stream",
     "text": [
      "<a class=\"link\" data-hse-file=\"PDF\" href=\"http://www.hse.ru/data/2019/10/29/1532361365/summary_EN_final (3).pdf\">Summary</a>\n",
      "<a class=\"link\" data-hse-file=\"PDF\" href=\"http://www.hse.ru/data/2019/10/22/1528885739/Mitrofanova - summary.pdf\">Summary</a>\n",
      "<a class=\"link\" data-hse-file=\"PDF\" href=\"http://www.hse.ru/data/2019/10/18/1543364021/Borodina E._Summary_181019.pdf\">Summary</a>\n",
      "<a class=\"link\" data-hse-file=\"PDF\" href=\"http://www.hse.ru/data/2019/10/16/1239735382/Меликян_Summary 16.10.pdf\">Summary</a>\n",
      "<a class=\"link\" data-hse-file=\"PDF\" href=\"http://www.hse.ru/data/2019/10/03/1182240389/Кучин_резюме_ENG.pdf\">Summary</a>\n",
      "<a class=\"link\" data-hse-file=\"PDF\" href=\"http://www.hse.ru/data/2019/10/15/1539883570/summary.pdf\">Summary</a>\n",
      "<a class=\"link\" data-hse-file=\"PDF\" href=\"http://www.hse.ru/data/2019/10/11/1541034023/Resume.pdf\">Summary</a>\n",
      "<a class=\"link\" data-hse-file=\"PDF\" href=\"http://www.hse.ru/data/2019/10/11/1535827784/kulikova_thesis summary_final.pdf\">Summary</a>\n",
      "<a class=\"link\" data-hse-file=\"PDF\" href=\"http://www.hse.ru/data/2019/08/26/1536057698/Сидорова_summary.pdf\">Summary</a>\n",
      "<a class=\"link\" data-hse-file=\"PDF\" href=\"http://www.hse.ru/data/2019/10/04/1184372726/Резюме на английском_Захарова_04.10.2019_финал.pdf\">Summary</a>\n",
      "['http://www.hse.ru/data/2019/10/29/1532361365/summary_EN_final (3).pdf', 'http://www.hse.ru/data/2019/10/22/1528885739/Mitrofanova - summary.pdf', 'http://www.hse.ru/data/2019/10/18/1543364021/Borodina E._Summary_181019.pdf', 'http://www.hse.ru/data/2019/10/16/1239735382/Меликян_Summary 16.10.pdf', 'http://www.hse.ru/data/2019/10/03/1182240389/Кучин_резюме_ENG.pdf', 'http://www.hse.ru/data/2019/10/15/1539883570/summary.pdf', 'http://www.hse.ru/data/2019/10/11/1541034023/Resume.pdf', 'http://www.hse.ru/data/2019/10/11/1535827784/kulikova_thesis summary_final.pdf', 'http://www.hse.ru/data/2019/08/26/1536057698/Сидорова_summary.pdf', 'http://www.hse.ru/data/2019/10/04/1184372726/Резюме на английском_Захарова_04.10.2019_финал.pdf']\n"
     ]
    }
   ],
   "source": [
    "links = []\n",
    "for link in soup.find_all('a', text='Summary'):\n",
    "    print(link)\n",
    "    links.append(link.get('href'))\n",
    "    \n",
    "print(links)"
   ]
  },
  {
   "cell_type": "markdown",
   "metadata": {},
   "source": [
    "Отлично. Теперь нужно придумать, откуда взять название для каждого файла. Пусть это будут фамилии авторов, давайте доберемся до них. Такую задачу мы пока не решали: будем искать тэг по тексту, а потом искать его родителя (потому что ни ячейку таблицы с именем автора, ни саму таблицу не получится уникально отсечь)."
   ]
  },
  {
   "cell_type": "code",
   "execution_count": 34,
   "metadata": {},
   "outputs": [
    {
     "name": "stdout",
     "output_type": "stream",
     "text": [
      "Белобородова Полина Михайловна\n",
      "calling, \n",
      "анализ наступления событий, \n",
      "Бородина Елена Николаевна\n",
      "вахтовый метод организации труда, \n",
      "иностранные студенты, \n",
      "модели ценообразования активов, \n",
      "магнетронное распыление, \n",
      "Годин Андрей Сергеевич\n",
      "Климов Константин Николаевич\n",
      "измерения диаграмм направленностей электрически малых антенн, \n",
      "NorBA, \n",
      "Сидорова Мария Алексеевна\n",
      "Арендт, \n",
      "Захарова Олеся Викторовна\n",
      "аргументационные схемы (топосы), \n"
     ]
    }
   ],
   "source": [
    "for author in soup.find_all('div', {'class':'p1 v'}):\n",
    "    try:\n",
    "        print(author.span.text)\n",
    "    except:\n",
    "        pass\n"
   ]
  },
  {
   "cell_type": "code",
   "execution_count": 35,
   "metadata": {},
   "outputs": [
    {
     "data": {
      "text/plain": [
       "'Белобородова Полина Михайловна'"
      ]
     },
     "execution_count": 35,
     "metadata": {},
     "output_type": "execute_result"
    }
   ],
   "source": [
    "soup.find_all('div', text='Соискатель:')[0].parent()[1].get_text()"
   ]
  },
  {
   "cell_type": "markdown",
   "metadata": {},
   "source": [
    "Достанем фамилии."
   ]
  },
  {
   "cell_type": "code",
   "execution_count": 36,
   "metadata": {},
   "outputs": [
    {
     "name": "stdout",
     "output_type": "stream",
     "text": [
      "Белобородова\n",
      "Митрофанова\n",
      "Бородина\n",
      "Меликян\n",
      "Кучин\n",
      "Монахов\n",
      "Годин\n",
      "Куликова\n",
      "Сидорова\n",
      "Захарова\n",
      "['Белобородова', 'Митрофанова', 'Бородина', 'Меликян', 'Кучин', 'Монахов', 'Годин', 'Куликова', 'Сидорова', 'Захарова']\n"
     ]
    }
   ],
   "source": [
    "authors = []\n",
    "for author in soup.find_all('div', text='Соискатель:'):\n",
    "    print(author.parent()[1].get_text().split()[0])\n",
    "    authors.append(author.parent()[1].get_text().split()[0])\n",
    "    \n",
    "print(authors)"
   ]
  },
  {
   "cell_type": "markdown",
   "metadata": {},
   "source": [
    "Проверим, что списки действительно одинаковой длины."
   ]
  },
  {
   "cell_type": "code",
   "execution_count": 47,
   "metadata": {},
   "outputs": [
    {
     "data": {
      "text/plain": [
       "False"
      ]
     },
     "execution_count": 47,
     "metadata": {},
     "output_type": "execute_result"
    }
   ],
   "source": [
    "len(links) == len(authors)"
   ]
  },
  {
   "cell_type": "code",
   "execution_count": 38,
   "metadata": {},
   "outputs": [
    {
     "name": "stdout",
     "output_type": "stream",
     "text": [
      "['http://www.hse.ru/data/2019/10/29/1532361365/summary_EN_final (3).pdf', 'http://www.hse.ru/data/2019/10/22/1528885739/Mitrofanova - summary.pdf', 'http://www.hse.ru/data/2019/10/18/1543364021/Borodina E._Summary_181019.pdf', 'http://www.hse.ru/data/2019/10/16/1239735382/Меликян_Summary 16.10.pdf', 'http://www.hse.ru/data/2019/10/03/1182240389/Кучин_резюме_ENG.pdf', 'http://www.hse.ru/data/2019/10/15/1539883570/summary.pdf', 'http://www.hse.ru/data/2019/10/11/1541034023/Resume.pdf', 'http://www.hse.ru/data/2019/10/11/1535827784/kulikova_thesis summary_final.pdf', 'http://www.hse.ru/data/2019/08/26/1536057698/Сидорова_summary.pdf', 'http://www.hse.ru/data/2019/10/04/1184372726/Резюме на английском_Захарова_04.10.2019_финал.pdf']\n"
     ]
    }
   ],
   "source": [
    "print(links)"
   ]
  },
  {
   "cell_type": "markdown",
   "metadata": {},
   "source": [
    "Теперь попробуем сохранить файл. У нас все файлы pdf, будем переименовывать их фамилиями автора. Кстати, если файлы разного формата, то расширение можно узнать через атрибут headers"
   ]
  },
  {
   "cell_type": "code",
   "execution_count": 39,
   "metadata": {},
   "outputs": [
    {
     "data": {
      "text/plain": [
       "'application/pdf'"
      ]
     },
     "execution_count": 39,
     "metadata": {},
     "output_type": "execute_result"
    }
   ],
   "source": [
    "requests.get(links[0]).headers['content-type']"
   ]
  },
  {
   "cell_type": "code",
   "execution_count": 40,
   "metadata": {},
   "outputs": [],
   "source": [
    "# потоковое чтение файла, потому pdf может быть большим и не уместиться в памяти\n",
    "summary = requests.get(links[0], stream=True) \n",
    "\n",
    "# на всякий случай делаем проверку, иначе получим битый файл\n",
    "if summary.headers['content-type'] == 'application/pdf': \n",
    "\n",
    "    # wb - запись байтовой информации\n",
    "    fh = open('test.pdf', 'wb') \n",
    "    \n",
    "    # считываем туда \"содержание\" файла по ссылке\n",
    "    fh.write(summary.content) \n",
    "    fh.close()"
   ]
  },
  {
   "cell_type": "code",
   "execution_count": 41,
   "metadata": {},
   "outputs": [
    {
     "data": {
      "text/plain": [
       "'C:\\\\Users\\\\mbbur\\\\HSE\\\\DPO2023\\\\Lect8'"
      ]
     },
     "execution_count": 41,
     "metadata": {},
     "output_type": "execute_result"
    }
   ],
   "source": [
    "import os\n",
    "os.getcwd()"
   ]
  },
  {
   "cell_type": "markdown",
   "metadata": {},
   "source": [
    "Давайте теперь еще добавим имя файла по фамилии."
   ]
  },
  {
   "cell_type": "code",
   "execution_count": 42,
   "metadata": {},
   "outputs": [],
   "source": [
    "# потоковое чтение файла, потому pdf может быть большим и не уместиться в памяти\n",
    "summary = requests.get(links[0], stream=True) \n",
    "\n",
    "# на всякий случай делаем проверку, иначе получим битый файл\n",
    "if summary.headers['content-type'] == 'application/pdf': \n",
    "\n",
    "    # wb - запись байтовой информации\n",
    "    fh = open(f'{authors[0]}.pdf', 'wb') \n",
    "    \n",
    "    # считываем туда \"содержание\" файла по ссылке\n",
    "    fh.write(summary.content) \n",
    "    fh.close()"
   ]
  },
  {
   "cell_type": "markdown",
   "metadata": {},
   "source": [
    "Давайте сохраним обработку файла в функцию и соберем уже все в цикл."
   ]
  },
  {
   "cell_type": "code",
   "execution_count": 43,
   "metadata": {},
   "outputs": [
    {
     "data": {
      "text/plain": [
       "['Белобородова',\n",
       " 'Митрофанова',\n",
       " 'Бородина',\n",
       " 'Меликян',\n",
       " 'Кучин',\n",
       " 'Монахов',\n",
       " 'Годин',\n",
       " 'Куликова',\n",
       " 'Сидорова',\n",
       " 'Захарова']"
      ]
     },
     "execution_count": 43,
     "metadata": {},
     "output_type": "execute_result"
    }
   ],
   "source": [
    "authors"
   ]
  },
  {
   "cell_type": "code",
   "execution_count": 24,
   "metadata": {},
   "outputs": [],
   "source": [
    "import re\n",
    "def get_pdf(idx):\n",
    "    summary = requests.get(links[idx], stream=True) # потоковое чтение файла, потому pdf может быть большим и не уместиться в памяти\n",
    "    if summary.headers['content-type'] == 'application/pdf': # на всякий случай делаем проверку, иначе получим битый файл\n",
    "        s = re.findall(r'\\w+',links[idx].split('/')[-1])[0]\n",
    "        fh = open(f'{authors[idx]}.pdf', 'wb') # wb - запись байтовой информации\n",
    "        fh.write(summary.content) # считываем туда \"содержание\" файла по ссылке\n",
    "        fh.close()"
   ]
  },
  {
   "cell_type": "code",
   "execution_count": 52,
   "metadata": {},
   "outputs": [],
   "source": [
    "link = 'https://www.hse.ru/sci/diss/?author=&chief=&year=2019&type=1&degree_type=&council=&spec=&fulltext=yes'\n",
    "driver.get(link)\n",
    "\n",
    "soup = BeautifulSoup(driver.page_source)\n",
    "\n",
    "links = []\n",
    "for link in soup.find_all('a', text='Summary'):\n",
    "    links.append(link.get('href'))\n",
    "\n",
    "authors = []\n",
    "for author in soup.find_all('div', text='Соискатель:'):\n",
    "    authors.append(author.parent()[1].get_text().split()[0])"
   ]
  },
  {
   "cell_type": "code",
   "execution_count": 53,
   "metadata": {},
   "outputs": [
    {
     "data": {
      "text/plain": [
       "10"
      ]
     },
     "execution_count": 53,
     "metadata": {},
     "output_type": "execute_result"
    }
   ],
   "source": [
    "len(links)"
   ]
  },
  {
   "cell_type": "code",
   "execution_count": 54,
   "metadata": {},
   "outputs": [
    {
     "data": {
      "text/plain": [
       "10"
      ]
     },
     "execution_count": 54,
     "metadata": {},
     "output_type": "execute_result"
    }
   ],
   "source": [
    "len(authors)"
   ]
  },
  {
   "cell_type": "code",
   "execution_count": 55,
   "metadata": {},
   "outputs": [],
   "source": [
    "for idx in range(len(links)):\n",
    "    get_pdf(idx)"
   ]
  },
  {
   "cell_type": "markdown",
   "metadata": {},
   "source": [
    "Готово!"
   ]
  },
  {
   "cell_type": "code",
   "execution_count": null,
   "metadata": {},
   "outputs": [],
   "source": []
  },
  {
   "cell_type": "code",
   "execution_count": null,
   "metadata": {},
   "outputs": [],
   "source": []
  }
 ],
 "metadata": {
  "kernelspec": {
   "display_name": "Python 3 (ipykernel)",
   "language": "python",
   "name": "python3"
  },
  "language_info": {
   "codemirror_mode": {
    "name": "ipython",
    "version": 3
   },
   "file_extension": ".py",
   "mimetype": "text/x-python",
   "name": "python",
   "nbconvert_exporter": "python",
   "pygments_lexer": "ipython3",
   "version": "3.9.13"
  }
 },
 "nbformat": 4,
 "nbformat_minor": 4
}
