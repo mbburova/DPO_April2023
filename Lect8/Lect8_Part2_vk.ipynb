{
 "cells": [
  {
   "cell_type": "markdown",
   "metadata": {},
   "source": [
    "# API VK\n",
    "\n",
    "__API (Application Programming Interface__ — это уже готовый код, который можно всунуть в свой код! Многие сервисы, в том числе Google и Вконтакте, предоставляют свои уже готовые решения для вашей разработки.\n",
    "\n",
    "Примеры: \n",
    "\n",
    "* [Контактовский API](https://vk.com/dev/methods)\n",
    "* [API twitter](https://developer.twitter.com/en/docs.html) - nope\n",
    "* [API youtube](https://developers.google.com/youtube/v3/) \n",
    "* [API google maps](https://developers.google.com/maps/documentation/) \n",
    "* [Aviasales](https://www.aviasales.ru/API)\n",
    "* [Yandex Translate](https://yandex.ru/dev/translate/)\n",
    "\n",
    "Оно есть почти везде! На этом семинаре мы посмотрим на два примера: на API контакта и google maps."
   ]
  },
  {
   "cell_type": "markdown",
   "metadata": {},
   "source": [
    "## 3.1 API vk\n",
    "\n",
    "Зачем может понадобиться доступ к API контакта, думаю, объяснять не надо. Социальная сетка — это тонны различной полезной информации, которую можно заиспользовать для своих целей. [В документации](https://vk.com/dev/manuals) очень подробно описано как можно работать с API контакта и к чему это приводит. \n",
    "\n",
    "Но для начала к API нужно получить доступ. Для этого придётся пройти пару бюрократических процедур (о, боже, эти два предложения были так бюрократически сформулированы, что мне захотелось отстоять в очереди).\n",
    "\n",
    "Первая такая процедура заключается в создании своего приложения. Для этого переходим по [ссылке](http://vk.com/editapp?act=create) и проходимся по необходимым шагам:\n",
    "\n",
    "<img align=\"center\" src=\"https://raw.githubusercontent.com/hse-econ-data-science/eds_spring_2020/master/sem05_parsing/image/app_creation_1.png\" width=\"500\">\n",
    "\n",
    "После подтверждения своей личности по номеру телефона, попадаем на страницу свежесозданного приложения\n",
    "\n",
    "<img align=\"center\" src=\"https://raw.githubusercontent.com/hse-econ-data-science/eds_spring_2020/master/sem05_parsing/image/app_creation_2.png\" width=\"500\">\n",
    "\n",
    "Слева нам будем доступна вкладка с настройками, перейдя в неё мы увидим все необходимые нам для работы с приложением параметры:\n",
    "<img align=\"center\" src=\"https://raw.githubusercontent.com/hse-econ-data-science/eds_spring_2020/master/sem05_parsing/image/app_creation_3.png\" width=\"500\">\n",
    "\n",
    "Отсюда в качестве токена можно забрать сервисный ключ доступа. Для работы с частью методов API этого вполне достаточно (обычно в заголовке такого метода стоит соответствующая пометка). Иногда нужны дополнительные доступы. Для того, чтобы получить их, необходимо сделать ещё пару странных манипуляций:\n",
    "\n",
    "Переходим по ссылке вида (на месте звездочек должен стоять ID созданного вами приложения):\n",
    "\n",
    "> https://oauth.vk.com/authorize?client_id=**********&scope=8198&redirect_uri=https://oauth.vk.com/blank.html&display=page&v=5.16&response_type=token\n",
    "\n",
    "В итоге по этому запросу будет сформирована ссылка следующего вида:\n",
    "> https://oauth.vk.com/blank.html#access_token=25b636116ef40e0718fe4d9f382544fc28&expires_in=86400&user_id=*******\n",
    "\n",
    "Первый набор знаков — `access token`, т.е. маркер доступа. Вторая цифра (`expires_in=`) время работы маркера доступа в секундах (одни сутки). По истечению суток нужно будет получить новый маркер доступа. Последняя цифра (`user_id=`) ваш ID Вконтакте. Нам в дальнейшем понадобится маркер доступа. Для удобства сохраним его в отдельном файле или экспортируем в глобальную область видимости. В целях безопасности ваших данных не стоит нигде светить токенами и тем более выкладывать их в открытый доступ. __Так можно и аккаунта случайно лишиться.__ Берегите токен смолоду. \n",
    "\n",
    "Обратите внимание на ссылку, по которой мы делали запрос на предоставление токена. Внутри неё находится странный параметр `scope=8198.` Это мы просим доступ к конкретным разделам. Подробнее познакомиться с взаимно-однозначным соответствием между числами и правами можно [в документации.](https://vk.com/dev/permissions) Например, если мы хотим получить доступ к друзьям, фото и стенам, мы подставим в scope цифру 2+4++8192=8198."
   ]
  },
  {
   "cell_type": "code",
   "execution_count": 1,
   "metadata": {},
   "outputs": [],
   "source": [
    "import requests"
   ]
  },
  {
   "cell_type": "code",
   "execution_count": 2,
   "metadata": {},
   "outputs": [],
   "source": [
    "# мой номер странички\n",
    "myid = '153433657'  # вставить номер странички\n",
    "\n",
    "# версия используемого API\n",
    "version = '5.103' \n",
    "token = '9c1bcfcb9c1bcfcb9c1bcfcbfb9c673f4d99c1b9c1bcfcbfe846612e51341b8587ce44a'\n"
   ]
  },
  {
   "cell_type": "code",
   "execution_count": 3,
   "metadata": {},
   "outputs": [
    {
     "data": {
      "text/plain": [
       "{'response': [{'id': 153433657,\n",
       "   'first_name': 'Yan',\n",
       "   'last_name': 'Pile',\n",
       "   'can_access_closed': True,\n",
       "   'is_closed': False}]}"
      ]
     },
     "execution_count": 3,
     "metadata": {},
     "output_type": "execute_result"
    }
   ],
   "source": [
    "requests.get(f'https://api.vk.com/method/users.get?user_id=153433657&v={version}&access_token={token}').json()"
   ]
  },
  {
   "cell_type": "markdown",
   "metadata": {},
   "source": [
    "Чтобы скачать что-то из контакта, надо сделать ссылку и сходить по ней пакетом `requests`. Ссылка должна будет включать в себя метод (что мы просим у вк) и параметры (насколько много и как именно). Мы будем просто заменять эти две штуки и выкачивать разные вещи. "
   ]
  },
  {
   "cell_type": "code",
   "execution_count": 4,
   "metadata": {},
   "outputs": [
    {
     "data": {
      "text/plain": [
       "{'response': [{'id': 80406183,\n",
       "   'first_name': 'Margarita',\n",
       "   'last_name': 'Burova',\n",
       "   'can_access_closed': True,\n",
       "   'is_closed': False}]}"
      ]
     },
     "execution_count": 4,
     "metadata": {},
     "output_type": "execute_result"
    }
   ],
   "source": [
    "method = 'users.get'\n",
    "parameters = 'user_ids=80406183'\n",
    "\n",
    "url = 'https://api.vk.com/method/' + method + '?' + parameters + '&v=' + version + '&access_token=' + token\n",
    "\n",
    "response = requests.get(url) \n",
    "response.json()"
   ]
  },
  {
   "cell_type": "markdown",
   "metadata": {},
   "source": [
    "В ответ на наш запрос vk выкидывает JSON с информацией. JSON очень похож на питонячие словарики. Смысл квадратных и фигурных скобок такой же. Правда, есть и отличия: например, в Python одинарные и двойные кавычки ничем не отличаются, а в JSON можно использовать только двойные. \n",
    "\n",
    "Мы видим, что полученный нами JSON представляет собой словарь, значения которого — строки или числа, а также списки или словари, значения которых в свою очередь также могут быть строками, числами, списками, словарями и т.д. То есть получается такая довольно сложная структура данных, из которой можно вытащить всё то, что нас интересует. "
   ]
  },
  {
   "cell_type": "code",
   "execution_count": 5,
   "metadata": {},
   "outputs": [
    {
     "data": {
      "text/plain": [
       "'Margarita'"
      ]
     },
     "execution_count": 5,
     "metadata": {},
     "output_type": "execute_result"
    }
   ],
   "source": [
    "response.json()['response'][0]['first_name']"
   ]
  },
  {
   "cell_type": "markdown",
   "metadata": {},
   "source": [
    "[В документации](https://vk.com/dev/manuals) очень подробно описано какие есть методы и какие у них бывают параметры.  Давайте завернём код выше в функцию и попробуем что-нибудь скачать."
   ]
  },
  {
   "cell_type": "code",
   "execution_count": 6,
   "metadata": {},
   "outputs": [],
   "source": [
    "def vk_download(method, parameters):\n",
    "    \n",
    "    url = 'https://api.vk.com/method/' + method + '?' + parameters + '&access_token=' + token + '&v=' + version\n",
    "    response = requests.get(url) \n",
    "    infa = response.json()\n",
    "    return infa"
   ]
  },
  {
   "cell_type": "markdown",
   "metadata": {},
   "source": [
    "Например, все лайки с [хайер скул оф мемс.](https://vk.com/hsemem)\n",
    "Как найти адрес страницы [тут](https://vk.com/faq18062)"
   ]
  },
  {
   "cell_type": "code",
   "execution_count": 7,
   "metadata": {},
   "outputs": [],
   "source": [
    "group_id = '-139105204'  # взяли из ссылки на группу"
   ]
  },
  {
   "cell_type": "code",
   "execution_count": 8,
   "metadata": {},
   "outputs": [],
   "source": [
    "wall = vk_download('wall.get', 'owner_id={}&count=100'.format(group_id))\n",
    "wall = wall['response']"
   ]
  },
  {
   "cell_type": "code",
   "execution_count": 9,
   "metadata": {},
   "outputs": [
    {
     "data": {
      "text/plain": [
       "{'comments': {'count': 1},\n",
       " 'marked_as_ads': 0,\n",
       " 'hash': '4DWUF6T-nOcAInhqmw',\n",
       " 'type': 'post',\n",
       " 'attachments': [{'type': 'photo',\n",
       "   'photo': {'album_id': -7,\n",
       "    'date': 1678138555,\n",
       "    'id': 457267551,\n",
       "    'owner_id': -139105204,\n",
       "    'access_key': '5b8d28b040436f2048',\n",
       "    'post_id': 96085,\n",
       "    'sizes': [{'height': 69,\n",
       "      'type': 's',\n",
       "      'width': 75,\n",
       "      'url': 'https://sun1-87.userapi.com/impg/XvTcXfoRCWDJx-l8Pt-p9zvncWNdtZUX5_EJJw/8qaqHINW5IQ.jpg?size=75x69&quality=96&sign=64a37ae14de87e77ee0c776a2c226a55&c_uniq_tag=OrtT7fjNedfNbE7hCGb3ysFwqKmSUTuKuBv8FxUAVF4&type=album'},\n",
       "     {'height': 119,\n",
       "      'type': 'm',\n",
       "      'width': 130,\n",
       "      'url': 'https://sun1-87.userapi.com/impg/XvTcXfoRCWDJx-l8Pt-p9zvncWNdtZUX5_EJJw/8qaqHINW5IQ.jpg?size=130x119&quality=96&sign=e78b2e82364d70ab1e2523ca7b90478b&c_uniq_tag=UghAzZG7ZmoJEMjGdGPRWO_bjdQyDYFt6ZYunaoUtnI&type=album'},\n",
       "     {'height': 554,\n",
       "      'type': 'x',\n",
       "      'width': 604,\n",
       "      'url': 'https://sun1-87.userapi.com/impg/XvTcXfoRCWDJx-l8Pt-p9zvncWNdtZUX5_EJJw/8qaqHINW5IQ.jpg?size=604x554&quality=96&sign=45ba1900bcef051f2012e81c63945feb&c_uniq_tag=5j3uXjYZytWF_yULvzdfyd4jQoS6xBneMX5dgKn_Zvk&type=album'},\n",
       "     {'height': 741,\n",
       "      'type': 'y',\n",
       "      'width': 807,\n",
       "      'url': 'https://sun1-87.userapi.com/impg/XvTcXfoRCWDJx-l8Pt-p9zvncWNdtZUX5_EJJw/8qaqHINW5IQ.jpg?size=807x741&quality=96&sign=f8b536e4ae4c43c5368a186b6c45cc2e&c_uniq_tag=puJts_yGG0Kc2IxQmiBI2cEQWnWH6-VhqTYwRaS2Qik&type=album'},\n",
       "     {'height': 850,\n",
       "      'type': 'z',\n",
       "      'width': 926,\n",
       "      'url': 'https://sun1-87.userapi.com/impg/XvTcXfoRCWDJx-l8Pt-p9zvncWNdtZUX5_EJJw/8qaqHINW5IQ.jpg?size=926x850&quality=96&sign=7d2d87c9acd71311551e0f13989b7fa9&c_uniq_tag=pxxJoVKTlV91R-XJWoESEbGjPOJpqV2tCE5YTIVkq0M&type=album'},\n",
       "     {'height': 119,\n",
       "      'type': 'o',\n",
       "      'width': 130,\n",
       "      'url': 'https://sun1-87.userapi.com/impg/XvTcXfoRCWDJx-l8Pt-p9zvncWNdtZUX5_EJJw/8qaqHINW5IQ.jpg?size=130x119&quality=96&sign=e78b2e82364d70ab1e2523ca7b90478b&c_uniq_tag=UghAzZG7ZmoJEMjGdGPRWO_bjdQyDYFt6ZYunaoUtnI&type=album'},\n",
       "     {'height': 184,\n",
       "      'type': 'p',\n",
       "      'width': 200,\n",
       "      'url': 'https://sun1-87.userapi.com/impg/XvTcXfoRCWDJx-l8Pt-p9zvncWNdtZUX5_EJJw/8qaqHINW5IQ.jpg?size=200x184&quality=96&sign=534b5518dcb9df14e73c299ec276f7c6&c_uniq_tag=RPAIEnGpM0mHwPFfChr2fDQGJhJ3lIehFH4smBMm_0Q&type=album'},\n",
       "     {'height': 294,\n",
       "      'type': 'q',\n",
       "      'width': 320,\n",
       "      'url': 'https://sun1-87.userapi.com/impg/XvTcXfoRCWDJx-l8Pt-p9zvncWNdtZUX5_EJJw/8qaqHINW5IQ.jpg?size=320x294&quality=96&sign=433c25d39a8756e1952baa9061fcae66&c_uniq_tag=rGzdYTZA8uraVBp6Hj7N7b0HpYV05cHtJDVajIe4jRo&type=album'},\n",
       "     {'height': 468,\n",
       "      'type': 'r',\n",
       "      'width': 510,\n",
       "      'url': 'https://sun1-87.userapi.com/impg/XvTcXfoRCWDJx-l8Pt-p9zvncWNdtZUX5_EJJw/8qaqHINW5IQ.jpg?size=510x468&quality=96&sign=1bdc372b32cc991f89c412e45462da36&c_uniq_tag=bixlF2jfliwIiuiB5bDrjB1t_ocKIVWU_-bPkinFMII&type=album'}],\n",
       "    'text': '',\n",
       "    'user_id': 100}}],\n",
       " 'date': 1678138555,\n",
       " 'from_id': -139105204,\n",
       " 'id': 96085,\n",
       " 'likes': {'can_like': 0, 'count': 695, 'user_likes': 0},\n",
       " 'owner_id': -139105204,\n",
       " 'post_type': 'post',\n",
       " 'reposts': {'count': 103},\n",
       " 'text': 'Когда упал в рейтинге',\n",
       " 'views': {'count': 16996}}"
      ]
     },
     "execution_count": 9,
     "metadata": {},
     "output_type": "execute_result"
    }
   ],
   "source": [
    "wall['items'][5]"
   ]
  },
  {
   "cell_type": "code",
   "execution_count": 10,
   "metadata": {},
   "outputs": [],
   "source": [
    "post = vk_download('wall.getComments', 'owner_id={}&post_id=87730'.format(group_id))"
   ]
  },
  {
   "cell_type": "code",
   "execution_count": 11,
   "metadata": {},
   "outputs": [
    {
     "data": {
      "text/plain": [
       "{'response': {'count': 7,\n",
       "  'items': [{'id': 87731,\n",
       "    'from_id': 385920930,\n",
       "    'date': 1647792075,\n",
       "    'text': 'Дед: поступил в МГУ',\n",
       "    'post_id': 87730,\n",
       "    'owner_id': -139105204,\n",
       "    'parents_stack': [],\n",
       "    'thread': {'count': 0,\n",
       "     'items': [],\n",
       "     'can_post': True,\n",
       "     'show_reply_button': True,\n",
       "     'groups_can_post': True}},\n",
       "   {'id': 87732,\n",
       "    'from_id': 157683966,\n",
       "    'date': 1647792568,\n",
       "    'text': '*а делать это с вечера',\n",
       "    'post_id': 87730,\n",
       "    'owner_id': -139105204,\n",
       "    'parents_stack': [],\n",
       "    'thread': {'count': 0,\n",
       "     'items': [],\n",
       "     'can_post': True,\n",
       "     'show_reply_button': True,\n",
       "     'groups_can_post': True}},\n",
       "   {'id': 87733,\n",
       "    'from_id': 550443032,\n",
       "    'date': 1647792695,\n",
       "    'text': 'Одно другому не мешает',\n",
       "    'post_id': 87730,\n",
       "    'owner_id': -139105204,\n",
       "    'parents_stack': [],\n",
       "    'thread': {'count': 0,\n",
       "     'items': [],\n",
       "     'can_post': True,\n",
       "     'show_reply_button': True,\n",
       "     'groups_can_post': True}},\n",
       "   {'id': 87734,\n",
       "    'from_id': 104955490,\n",
       "    'date': 1647795576,\n",
       "    'text': 'Наоборот хороший повод…',\n",
       "    'post_id': 87730,\n",
       "    'owner_id': -139105204,\n",
       "    'parents_stack': [],\n",
       "    'thread': {'count': 0,\n",
       "     'items': [],\n",
       "     'can_post': True,\n",
       "     'show_reply_button': True,\n",
       "     'groups_can_post': True}},\n",
       "   {'id': 87735,\n",
       "    'from_id': 562569819,\n",
       "    'date': 1647797297,\n",
       "    'text': 'Иностранцы: поступают в ВШЭ,  потому что там самые красивые девушки🌚',\n",
       "    'post_id': 87730,\n",
       "    'owner_id': -139105204,\n",
       "    'parents_stack': [],\n",
       "    'thread': {'count': 1,\n",
       "     'items': [],\n",
       "     'can_post': True,\n",
       "     'show_reply_button': True,\n",
       "     'groups_can_post': True}},\n",
       "   {'id': 87748,\n",
       "    'from_id': 71575857,\n",
       "    'date': 1647846066,\n",
       "    'text': 'Мальчик: поступил в ВШЭ, чтобы найти парня \\nМужчина: поступил в Вышку, чтобы найти мужа',\n",
       "    'post_id': 87730,\n",
       "    'owner_id': -139105204,\n",
       "    'parents_stack': [],\n",
       "    'thread': {'count': 0,\n",
       "     'items': [],\n",
       "     'can_post': True,\n",
       "     'show_reply_button': True,\n",
       "     'groups_can_post': True}}],\n",
       "  'current_level_count': 6,\n",
       "  'can_post': True,\n",
       "  'show_reply_button': True,\n",
       "  'groups_can_post': True}}"
      ]
     },
     "execution_count": 11,
     "metadata": {},
     "output_type": "execute_result"
    }
   ],
   "source": [
    "post"
   ]
  },
  {
   "cell_type": "code",
   "execution_count": 12,
   "metadata": {},
   "outputs": [
    {
     "data": {
      "text/plain": [
       "[{'id': 87731,\n",
       "  'from_id': 385920930,\n",
       "  'date': 1647792075,\n",
       "  'text': 'Дед: поступил в МГУ',\n",
       "  'post_id': 87730,\n",
       "  'owner_id': -139105204,\n",
       "  'parents_stack': [],\n",
       "  'thread': {'count': 0,\n",
       "   'items': [],\n",
       "   'can_post': True,\n",
       "   'show_reply_button': True,\n",
       "   'groups_can_post': True}},\n",
       " {'id': 87732,\n",
       "  'from_id': 157683966,\n",
       "  'date': 1647792568,\n",
       "  'text': '*а делать это с вечера',\n",
       "  'post_id': 87730,\n",
       "  'owner_id': -139105204,\n",
       "  'parents_stack': [],\n",
       "  'thread': {'count': 0,\n",
       "   'items': [],\n",
       "   'can_post': True,\n",
       "   'show_reply_button': True,\n",
       "   'groups_can_post': True}},\n",
       " {'id': 87733,\n",
       "  'from_id': 550443032,\n",
       "  'date': 1647792695,\n",
       "  'text': 'Одно другому не мешает',\n",
       "  'post_id': 87730,\n",
       "  'owner_id': -139105204,\n",
       "  'parents_stack': [],\n",
       "  'thread': {'count': 0,\n",
       "   'items': [],\n",
       "   'can_post': True,\n",
       "   'show_reply_button': True,\n",
       "   'groups_can_post': True}},\n",
       " {'id': 87734,\n",
       "  'from_id': 104955490,\n",
       "  'date': 1647795576,\n",
       "  'text': 'Наоборот хороший повод…',\n",
       "  'post_id': 87730,\n",
       "  'owner_id': -139105204,\n",
       "  'parents_stack': [],\n",
       "  'thread': {'count': 0,\n",
       "   'items': [],\n",
       "   'can_post': True,\n",
       "   'show_reply_button': True,\n",
       "   'groups_can_post': True}},\n",
       " {'id': 87735,\n",
       "  'from_id': 562569819,\n",
       "  'date': 1647797297,\n",
       "  'text': 'Иностранцы: поступают в ВШЭ,  потому что там самые красивые девушки🌚',\n",
       "  'post_id': 87730,\n",
       "  'owner_id': -139105204,\n",
       "  'parents_stack': [],\n",
       "  'thread': {'count': 1,\n",
       "   'items': [],\n",
       "   'can_post': True,\n",
       "   'show_reply_button': True,\n",
       "   'groups_can_post': True}},\n",
       " {'id': 87748,\n",
       "  'from_id': 71575857,\n",
       "  'date': 1647846066,\n",
       "  'text': 'Мальчик: поступил в ВШЭ, чтобы найти парня \\nМужчина: поступил в Вышку, чтобы найти мужа',\n",
       "  'post_id': 87730,\n",
       "  'owner_id': -139105204,\n",
       "  'parents_stack': [],\n",
       "  'thread': {'count': 0,\n",
       "   'items': [],\n",
       "   'can_post': True,\n",
       "   'show_reply_button': True,\n",
       "   'groups_can_post': True}}]"
      ]
     },
     "execution_count": 12,
     "metadata": {},
     "output_type": "execute_result"
    }
   ],
   "source": [
    "post['response']['items']"
   ]
  },
  {
   "cell_type": "code",
   "execution_count": 13,
   "metadata": {
    "scrolled": true
   },
   "outputs": [
    {
     "data": {
      "text/plain": [
       "dict_keys(['is_pinned', 'comments', 'marked_as_ads', 'hash', 'type', 'attachments', 'date', 'edited', 'from_id', 'id', 'likes', 'owner_id', 'post_type', 'reposts', 'text', 'views'])"
      ]
     },
     "execution_count": 13,
     "metadata": {},
     "output_type": "execute_result"
    }
   ],
   "source": [
    "wall['items'][0].keys()"
   ]
  },
  {
   "cell_type": "code",
   "execution_count": 14,
   "metadata": {},
   "outputs": [
    {
     "data": {
      "text/plain": [
       "1631891776"
      ]
     },
     "execution_count": 14,
     "metadata": {},
     "output_type": "execute_result"
    }
   ],
   "source": [
    "wall['items'][0]['edited']"
   ]
  },
  {
   "cell_type": "code",
   "execution_count": 15,
   "metadata": {},
   "outputs": [
    {
     "data": {
      "text/plain": [
       "1477"
      ]
     },
     "execution_count": 15,
     "metadata": {},
     "output_type": "execute_result"
    }
   ],
   "source": [
    "wall['items'][0]['likes']['count']"
   ]
  },
  {
   "cell_type": "code",
   "execution_count": 16,
   "metadata": {},
   "outputs": [
    {
     "data": {
      "text/plain": [
       "[1477, 9, 329, 195, 568, 695, 737, 565, 637, 110]"
      ]
     },
     "execution_count": 16,
     "metadata": {},
     "output_type": "execute_result"
    }
   ],
   "source": [
    "likes = [item['likes']['count'] for item in wall['items']]\n",
    "likes[:10]"
   ]
  },
  {
   "cell_type": "markdown",
   "metadata": {},
   "source": [
    "За один запрос скачалось всего-лишь $100$ постов с лайками. В паблике их целых"
   ]
  },
  {
   "cell_type": "code",
   "execution_count": 17,
   "metadata": {},
   "outputs": [
    {
     "data": {
      "text/plain": [
       "9094"
      ]
     },
     "execution_count": 17,
     "metadata": {},
     "output_type": "execute_result"
    }
   ],
   "source": [
    "wall['count']"
   ]
  },
  {
   "cell_type": "markdown",
   "metadata": {},
   "source": [
    "[Документация](https://vk.com/dev/manuals) говорит, что есть параметр `offset`, с помощью которого можно указать какие именно посты из группы нужно скачать. Например, если мы укажем `offset = 100`, скачается вторая сотня. Наше дело за малым: написать цикл. "
   ]
  },
  {
   "cell_type": "code",
   "execution_count": 18,
   "metadata": {},
   "outputs": [],
   "source": [
    "likes = []\n",
    "\n",
    "from tqdm import tqdm"
   ]
  },
  {
   "cell_type": "code",
   "execution_count": 19,
   "metadata": {},
   "outputs": [
    {
     "name": "stderr",
     "output_type": "stream",
     "text": [
      "100%|██████████████████████████████████████████████████████████████████████████████████| 48/48 [01:29<00:00,  1.86s/it]\n"
     ]
    }
   ],
   "source": [
    "import time\n",
    "\n",
    "likes = [ ] # сюда буду сохранять лайки\n",
    "\n",
    "for offset in tqdm(range(0, 4800, 100)):\n",
    "    \n",
    "    time.sleep(0.4) # вк согласен работать 3 раза в секунду, \n",
    "                    # между запросами python спит 0.4 секунды\n",
    "    \n",
    "    wall = vk_download('wall.get', 'owner_id={}&count=100&offset={}'.format(group_id, offset))\n",
    "    \n",
    "    likes.extend([item['likes']['count'] for item in wall['response']['items']])"
   ]
  },
  {
   "cell_type": "markdown",
   "metadata": {},
   "source": [
    "Лайки в наших руках. Можем даже посмотреть на их распределение и попробовать что-то с ними сделать. "
   ]
  },
  {
   "cell_type": "code",
   "execution_count": 20,
   "metadata": {},
   "outputs": [
    {
     "data": {
      "text/plain": [
       "4800"
      ]
     },
     "execution_count": 20,
     "metadata": {},
     "output_type": "execute_result"
    }
   ],
   "source": [
    "len(likes)"
   ]
  },
  {
   "cell_type": "code",
   "execution_count": null,
   "metadata": {},
   "outputs": [],
   "source": []
  },
  {
   "cell_type": "code",
   "execution_count": 21,
   "metadata": {},
   "outputs": [
    {
     "data": {
      "image/png": "[encoded data removed]",
      "text/plain": [
       "<Figure size 640x480 with 1 Axes>"
      ]
     },
     "metadata": {},
     "output_type": "display_data"
    }
   ],
   "source": [
    "import matplotlib.pyplot as plt \n",
    "\n",
    "plt.hist(likes);"
   ]
  },
  {
   "cell_type": "markdown",
   "metadata": {},
   "source": [
    "В принципе похожим образом можно скачать что угодно."
   ]
  },
  {
   "cell_type": "markdown",
   "metadata": {},
   "source": [
    "### Хитрость:  pd.read_html\n",
    "\n",
    "Если на странице, которую вы спарсили, среди тэгов `<tr>` и `<td>` прячется таблица, чаще всего можно забрать её себе без написания цикла, который будет перебирать все стобцы и строки. Поможет в этом `pd.read_html`. Например, вот так можно забрать себе [табличку с сайта ЦБ](https://cbr.ru/currency_base/daily/) "
   ]
  },
  {
   "cell_type": "code",
   "execution_count": 22,
   "metadata": {},
   "outputs": [
    {
     "data": {
      "text/html": [
       "<div>\n",
       "<style scoped>\n",
       "    .dataframe tbody tr th:only-of-type {\n",
       "        vertical-align: middle;\n",
       "    }\n",
       "\n",
       "    .dataframe tbody tr th {\n",
       "        vertical-align: top;\n",
       "    }\n",
       "\n",
       "    .dataframe thead th {\n",
       "        text-align: right;\n",
       "    }\n",
       "</style>\n",
       "<table border=\"1\" class=\"dataframe\">\n",
       "  <thead>\n",
       "    <tr style=\"text-align: right;\">\n",
       "      <th></th>\n",
       "      <th>Цифр. код</th>\n",
       "      <th>Букв. код</th>\n",
       "      <th>Единиц</th>\n",
       "      <th>Валюта</th>\n",
       "      <th>Курс</th>\n",
       "    </tr>\n",
       "  </thead>\n",
       "  <tbody>\n",
       "    <tr>\n",
       "      <th>0</th>\n",
       "      <td>36</td>\n",
       "      <td>AUD</td>\n",
       "      <td>1</td>\n",
       "      <td>Австралийский доллар</td>\n",
       "      <td>506548</td>\n",
       "    </tr>\n",
       "    <tr>\n",
       "      <th>1</th>\n",
       "      <td>944</td>\n",
       "      <td>AZN</td>\n",
       "      <td>1</td>\n",
       "      <td>Азербайджанский манат</td>\n",
       "      <td>443869</td>\n",
       "    </tr>\n",
       "    <tr>\n",
       "      <th>2</th>\n",
       "      <td>51</td>\n",
       "      <td>AMD</td>\n",
       "      <td>100</td>\n",
       "      <td>Армянских драмов</td>\n",
       "      <td>194178</td>\n",
       "    </tr>\n",
       "    <tr>\n",
       "      <th>3</th>\n",
       "      <td>933</td>\n",
       "      <td>BYN</td>\n",
       "      <td>1</td>\n",
       "      <td>Белорусский рубль</td>\n",
       "      <td>266212</td>\n",
       "    </tr>\n",
       "    <tr>\n",
       "      <th>4</th>\n",
       "      <td>975</td>\n",
       "      <td>BGN</td>\n",
       "      <td>1</td>\n",
       "      <td>Болгарский лев</td>\n",
       "      <td>410721</td>\n",
       "    </tr>\n",
       "  </tbody>\n",
       "</table>\n",
       "</div>"
      ],
      "text/plain": [
       "   Цифр. код Букв. код  Единиц                 Валюта    Курс\n",
       "0         36       AUD       1   Австралийский доллар  506548\n",
       "1        944       AZN       1  Азербайджанский манат  443869\n",
       "2         51       AMD     100       Армянских драмов  194178\n",
       "3        933       BYN       1      Белорусский рубль  266212\n",
       "4        975       BGN       1         Болгарский лев  410721"
      ]
     },
     "execution_count": 22,
     "metadata": {},
     "output_type": "execute_result"
    }
   ],
   "source": [
    "import pandas as pd\n",
    "from bs4 import BeautifulSoup\n",
    "\n",
    "df = pd.read_html('https://cbr.ru/currency_base/daily/')[0]\n",
    "df.head()"
   ]
  },
  {
   "cell_type": "markdown",
   "metadata": {},
   "source": [
    "Команда пытается собрать в массив все таблички c веб-страницы. Если хочется, можно сначала через bs4 найти нужную таблицу, а потом уже распарсить её: "
   ]
  },
  {
   "cell_type": "code",
   "execution_count": 23,
   "metadata": {},
   "outputs": [
    {
     "data": {
      "text/html": [
       "<div>\n",
       "<style scoped>\n",
       "    .dataframe tbody tr th:only-of-type {\n",
       "        vertical-align: middle;\n",
       "    }\n",
       "\n",
       "    .dataframe tbody tr th {\n",
       "        vertical-align: top;\n",
       "    }\n",
       "\n",
       "    .dataframe thead th {\n",
       "        text-align: right;\n",
       "    }\n",
       "</style>\n",
       "<table border=\"1\" class=\"dataframe\">\n",
       "  <thead>\n",
       "    <tr style=\"text-align: right;\">\n",
       "      <th></th>\n",
       "      <th>Цифр. код</th>\n",
       "      <th>Букв. код</th>\n",
       "      <th>Единиц</th>\n",
       "      <th>Валюта</th>\n",
       "      <th>Курс</th>\n",
       "    </tr>\n",
       "  </thead>\n",
       "  <tbody>\n",
       "    <tr>\n",
       "      <th>0</th>\n",
       "      <td>36</td>\n",
       "      <td>AUD</td>\n",
       "      <td>1</td>\n",
       "      <td>Австралийский доллар</td>\n",
       "      <td>506548</td>\n",
       "    </tr>\n",
       "    <tr>\n",
       "      <th>1</th>\n",
       "      <td>944</td>\n",
       "      <td>AZN</td>\n",
       "      <td>1</td>\n",
       "      <td>Азербайджанский манат</td>\n",
       "      <td>443869</td>\n",
       "    </tr>\n",
       "    <tr>\n",
       "      <th>2</th>\n",
       "      <td>51</td>\n",
       "      <td>AMD</td>\n",
       "      <td>100</td>\n",
       "      <td>Армянских драмов</td>\n",
       "      <td>194178</td>\n",
       "    </tr>\n",
       "    <tr>\n",
       "      <th>3</th>\n",
       "      <td>933</td>\n",
       "      <td>BYN</td>\n",
       "      <td>1</td>\n",
       "      <td>Белорусский рубль</td>\n",
       "      <td>266212</td>\n",
       "    </tr>\n",
       "    <tr>\n",
       "      <th>4</th>\n",
       "      <td>975</td>\n",
       "      <td>BGN</td>\n",
       "      <td>1</td>\n",
       "      <td>Болгарский лев</td>\n",
       "      <td>410721</td>\n",
       "    </tr>\n",
       "  </tbody>\n",
       "</table>\n",
       "</div>"
      ],
      "text/plain": [
       "   Цифр. код Букв. код  Единиц                 Валюта    Курс\n",
       "0         36       AUD       1   Австралийский доллар  506548\n",
       "1        944       AZN       1  Азербайджанский манат  443869\n",
       "2         51       AMD     100       Армянских драмов  194178\n",
       "3        933       BYN       1      Белорусский рубль  266212\n",
       "4        975       BGN       1         Болгарский лев  410721"
      ]
     },
     "execution_count": 23,
     "metadata": {},
     "output_type": "execute_result"
    }
   ],
   "source": [
    "resp = requests.get('https://cbr.ru/currency_base/daily/')\n",
    "tree = BeautifulSoup(resp.content, 'html.parser')\n",
    "\n",
    "# нашли табличку\n",
    "table = tree.find_all('table', {'class' : 'data'})[0]\n",
    "\n",
    "# распарсили её\n",
    "df = pd.read_html(str(table))[0]\n",
    "df.head()"
   ]
  }
 ],
 "metadata": {
  "kernelspec": {
   "display_name": "Python 3 (ipykernel)",
   "language": "python",
   "name": "python3"
  },
  "language_info": {
   "codemirror_mode": {
    "name": "ipython",
    "version": 3
   },
   "file_extension": ".py",
   "mimetype": "text/x-python",
   "name": "python",
   "nbconvert_exporter": "python",
   "pygments_lexer": "ipython3",
   "version": "3.9.13"
  }
 },
 "nbformat": 4,
 "nbformat_minor": 2
}
