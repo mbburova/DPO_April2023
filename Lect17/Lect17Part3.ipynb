{
 "cells": [
  {
   "cell_type": "code",
   "execution_count": 1,
   "id": "39db8423",
   "metadata": {},
   "outputs": [],
   "source": [
    "from tkinter import *\n",
    "from tkinter import ttk\n",
    "from googletrans import Translator\n",
    "\n",
    "\n",
    "def translate():\n",
    "    for language, suffix in languages.items():\n",
    "        if comboTwo.get() == language:\n",
    "            text = t_input.get('1.0', END)\n",
    "            translation = translator.translate(text, dest=suffix)\n",
    "            t_output.delete('1.0', END)\n",
    "            t_output.insert('1.0', translation.text)\n",
    "\n",
    "\n",
    "root = Tk()\n",
    "root.geometry('500x350')\n",
    "root.title('Переводчик')\n",
    "root.resizable(width=False, height=False)\n",
    "root['bg'] = 'black'\n",
    "translator = Translator()\n",
    "\n",
    "languages = {'Русский': 'ru', 'Английский': 'en', 'Французский': 'fr'}\n",
    "\n",
    "header_frame = Frame(root, bg='black')\n",
    "header_frame.pack(fill=X)\n",
    "\n",
    "header_frame.grid_columnconfigure(0, weight=1)\n",
    "header_frame.grid_columnconfigure(1, weight=1)\n",
    "header_frame.grid_columnconfigure(2, weight=1)\n",
    "\n",
    "comboOne = ttk.Combobox(header_frame,\n",
    "                        values=[lang for lang in languages], state='readonly')\n",
    "comboOne.current(0)\n",
    "comboOne.grid(row=0, column=0)\n",
    "\n",
    "label = Label(header_frame, fg='white', bg='black', font='Arial 17 bold', text='->')\n",
    "label.grid(row=0, column=1)\n",
    "\n",
    "comboTwo = ttk.Combobox(header_frame,\n",
    "                        values=[lang for lang in languages], state='readonly')\n",
    "comboTwo.current(1)\n",
    "comboTwo.grid(row=0, column=2)\n",
    "\n",
    "t_input = Text(root, width=35, height=5, font='Arial 12 bold')\n",
    "t_input.pack(pady=20)\n",
    "\n",
    "btn = Button(root, width=45, text='Перевести', command=translate)\n",
    "btn.pack()\n",
    "\n",
    "t_output = Text(root, width=35, height=5, font='Arial 12 bold')\n",
    "t_output.pack(pady=20)\n",
    "\n",
    "root.mainloop()"
   ]
  }
 ],
 "metadata": {
  "kernelspec": {
   "display_name": "Python 3 (ipykernel)",
   "language": "python",
   "name": "python3"
  },
  "language_info": {
   "codemirror_mode": {
    "name": "ipython",
    "version": 3
   },
   "file_extension": ".py",
   "mimetype": "text/x-python",
   "name": "python",
   "nbconvert_exporter": "python",
   "pygments_lexer": "ipython3",
   "version": "3.9.13"
  }
 },
 "nbformat": 4,
 "nbformat_minor": 5
}
