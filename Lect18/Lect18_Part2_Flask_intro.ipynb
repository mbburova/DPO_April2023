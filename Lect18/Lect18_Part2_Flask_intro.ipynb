{
 "cells": [
  {
   "cell_type": "code",
   "execution_count": 5,
   "id": "65fd1344",
   "metadata": {},
   "outputs": [],
   "source": [
    "from flask import Flask\n",
    "\n",
    "app = Flask(__name__)\n",
    "\n",
    "@app.route('/')\n",
    "def index() -> str:\n",
    "    return '<p>Hello Flask!</p>'\n",
    "\n",
    "if __name__ == '__main__':\n",
    "    app.run(debug=True)"
   ]
  },
  {
   "cell_type": "code",
   "execution_count": null,
   "id": "1a72da09",
   "metadata": {},
   "outputs": [],
   "source": [
    "from flask import Flask\n",
    "app = Flask(__name__)\n",
    "\n",
    "@app.route('/')\n",
    "def index():\n",
    "    greet_with_link = \"\"\"<h1>Привет, Мир!</h1>\n",
    "    <p><a href=\"user/Бурова/Маргарита\">Нажми на меня</a></p>\"\"\"\n",
    "    return greet_with_link\n",
    "\n",
    "@app.route('/user/<surname>/<name>')\n",
    "def get_user(name, surname):\n",
    "    personal_instruc = f\"\"\"<h1>Привет, {surname} {name}!</h1>\n",
    "    <p>Измени имя пользователя в адресной строке и перезагрузи страницу</p>\"\"\"\n",
    "    return personal_instruc\n",
    "\n",
    "if __name__ == '__main__':\n",
    "    app.run(debug=True)"
   ]
  }
 ],
 "metadata": {
  "kernelspec": {
   "display_name": "Python 3 (ipykernel)",
   "language": "python",
   "name": "python3"
  },
  "language_info": {
   "codemirror_mode": {
    "name": "ipython",
    "version": 3
   },
   "file_extension": ".py",
   "mimetype": "text/x-python",
   "name": "python",
   "nbconvert_exporter": "python",
   "pygments_lexer": "ipython3",
   "version": "3.9.13"
  }
 },
 "nbformat": 4,
 "nbformat_minor": 5
}
