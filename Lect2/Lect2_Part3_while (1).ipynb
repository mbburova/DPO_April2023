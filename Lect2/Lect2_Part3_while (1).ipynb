{
 "cells": [
  {
   "cell_type": "markdown",
   "metadata": {},
   "source": [
    "Центр непрерывного образования\n",
    "\n",
    "# Программа «Python для автоматизации и анализа данных»"
   ]
  },
  {
   "cell_type": "markdown",
   "metadata": {},
   "source": [
    "## Как использовать условия с максимальной эффективностью?"
   ]
  },
  {
   "cell_type": "markdown",
   "metadata": {},
   "source": [
    "### Оптимизируйте код"
   ]
  },
  {
   "cell_type": "code",
   "execution_count": null,
   "metadata": {},
   "outputs": [],
   "source": [
    "ccn = 13\n",
    "fd = 4\n",
    "if ccn == 16 and (fd == 51 or fd == 52 or fd == 53 or fd == 54 or fd == 55):\n",
    "    print(\"Maybe MASTERCARD\")\n",
    "elif (ccn == 13 or ccn == 16 or ccn == 15) and fd == 4:\n",
    "    print(\"Maybe VISA\")\n",
    "else:\n",
    "    print(\"INVALID\")"
   ]
  },
  {
   "cell_type": "code",
   "execution_count": null,
   "metadata": {},
   "outputs": [],
   "source": [
    "ccn = 13\n",
    "fd = 54\n",
    "if ccn == 16 and 51 <= fd <= 55:\n",
    "    print(\"Maybe MASTERCARD\")\n",
    "elif ccn in [13, 15, 16] and fd == 4:\n",
    "    print(\"Maybe VISA\")\n",
    "else:\n",
    "    print(\"INVALID\")"
   ]
  },
  {
   "cell_type": "code",
   "execution_count": 49,
   "metadata": {},
   "outputs": [
    {
     "data": {
      "text/plain": [
       "False"
      ]
     },
     "execution_count": 49,
     "metadata": {},
     "output_type": "execute_result"
    }
   ],
   "source": [
    "5 in [1,6,7]"
   ]
  },
  {
   "cell_type": "markdown",
   "metadata": {},
   "source": [
    "### Используйте тернарный оператор"
   ]
  },
  {
   "cell_type": "code",
   "execution_count": 50,
   "metadata": {},
   "outputs": [],
   "source": [
    "a, b, c = 1, 2, 3"
   ]
  },
  {
   "cell_type": "code",
   "execution_count": 53,
   "metadata": {},
   "outputs": [
    {
     "data": {
      "text/plain": [
       "3"
      ]
     },
     "execution_count": 53,
     "metadata": {},
     "output_type": "execute_result"
    }
   ],
   "source": [
    "c"
   ]
  },
  {
   "cell_type": "code",
   "execution_count": 1,
   "metadata": {},
   "outputs": [],
   "source": [
    "x, y = 50, 75\n",
    "big = x if x > y else y"
   ]
  },
  {
   "cell_type": "code",
   "execution_count": 2,
   "metadata": {},
   "outputs": [
    {
     "data": {
      "text/plain": [
       "75"
      ]
     },
     "execution_count": 2,
     "metadata": {},
     "output_type": "execute_result"
    }
   ],
   "source": [
    "big"
   ]
  },
  {
   "cell_type": "code",
   "execution_count": 56,
   "metadata": {},
   "outputs": [],
   "source": [
    "if x < y:\n",
    "    big = y\n",
    "else:\n",
    "    big = x"
   ]
  },
  {
   "cell_type": "code",
   "execution_count": 30,
   "metadata": {},
   "outputs": [
    {
     "name": "stdout",
     "output_type": "stream",
     "text": [
      "67\n",
      "Customer's Age:  67\n",
      "Discount provided: 10\n"
     ]
    }
   ],
   "source": [
    "cust_age = int(input()) \n",
    "\n",
    "cust_discount = 20 if cust_age > 60 else 10 \n",
    "\n",
    "print( \"Customer's Age: \", cust_age ) \n",
    "print( \"Discount provided:\", cust_discount ) "
   ]
  },
  {
   "cell_type": "markdown",
   "metadata": {},
   "source": [
    "### Избегайте повторения if внутри проверки условия"
   ]
  },
  {
   "cell_type": "markdown",
   "metadata": {},
   "source": [
    "```\n",
    "if <expression1>:\n",
    "   statement1\n",
    "if <expression2>:\n",
    "   statement2\n",
    "       .\n",
    "       .\n",
    "       .\n",
    "if <expressionN>:\n",
    "    statementN\n",
    "    ```"
   ]
  },
  {
   "cell_type": "markdown",
   "metadata": {},
   "source": [
    "# Цикл While\n"
   ]
  },
  {
   "cell_type": "markdown",
   "metadata": {},
   "source": [
    "### Цикл `while`"
   ]
  },
  {
   "cell_type": "markdown",
   "metadata": {},
   "source": [
    "**While** - один из самых универсальных циклов в Python, поэтому достаточно медленный.\n",
    "\n",
    "Цикл **while** (в переводе - **пока**) позволяет выполнить одну и ту же последовательность действий, **пока** проверяемое условие истинно"
   ]
  },
  {
   "cell_type": "markdown",
   "metadata": {},
   "source": [
    "**Зачем**:\n",
    "\n",
    "Как правило, цикл while используется, когда невозможно определить точное значение количества проходов исполнения цикла."
   ]
  },
  {
   "cell_type": "markdown",
   "metadata": {},
   "source": [
    "**Условие**:\n",
    "\n",
    "Условие записывается до тела цикла и проверяется до выполнения тела цикла."
   ]
  },
  {
   "cell_type": "markdown",
   "metadata": {},
   "source": [
    "**Еще раз подробно**:\n",
    "\n",
    "При выполнении цикла **while** сначала проверяется условие. Если оно ложно, то выполнение цикла прекращается и управление передается на следующую инструкцию после тела цикла **while**. Если условие истинно, то выполняется инструкция, после чего условие проверяется снова и снова выполняется инструкция. Так продолжается до тех пор, пока условие будет истинно. Как только условие станет ложно, работа цикла завершится и управление передастся следующей инструкции после цикла."
   ]
  },
  {
   "cell_type": "markdown",
   "metadata": {},
   "source": [
    "Синтаксис цикла **while** в простейшем случае выглядит так:"
   ]
  },
  {
   "cell_type": "code",
   "execution_count": null,
   "metadata": {},
   "outputs": [],
   "source": [
    "while <<условие>> :\n",
    "    <<блок инструкций>>"
   ]
  },
  {
   "cell_type": "markdown",
   "metadata": {},
   "source": [
    "### Задача № 1\n",
    "\n",
    "Попробуем вывести все числа от 1 до заданного пользователем целого числа N с помощью цикла while"
   ]
  },
  {
   "cell_type": "code",
   "execution_count": 64,
   "metadata": {},
   "outputs": [
    {
     "name": "stdout",
     "output_type": "stream",
     "text": [
      "4\n",
      "1\n",
      "2\n",
      "3\n",
      "4\n",
      "следующий код\n"
     ]
    }
   ],
   "source": [
    "N = int(input()) # пользователь вводит число\n",
    "\n",
    "i = 1            # вводим вспомогательный счетчик\n",
    "\n",
    "while i <= N:    # проверяемое условие\n",
    "    print(i)     # вывод числа на экран в теле цикла\n",
    "    i = i + 1 \n",
    "print('следующий код')# переходим к следующему числу, увеличиваем счетчик на 1 (Вариант 2: i+=1)"
   ]
  },
  {
   "cell_type": "markdown",
   "metadata": {},
   "source": [
    "В этом примере переменная i внутри цикла изменяется от 1 до N. Такая переменная, значение которой меняется с каждым новым проходом цикла, называется счетчиком"
   ]
  },
  {
   "cell_type": "markdown",
   "metadata": {},
   "source": [
    "### Задача № 2\n",
    "Теперь попробуем посчитать из скольки цифр состоит натуральное число, введенное пользователем с клавиатуры с помощью цикла while"
   ]
  },
  {
   "cell_type": "code",
   "execution_count": 76,
   "metadata": {},
   "outputs": [
    {
     "name": "stdout",
     "output_type": "stream",
     "text": [
      "7483\n",
      "4\n"
     ]
    }
   ],
   "source": [
    "N = int(input())    # пользователь вводит число\n",
    "\n",
    "length = 0          # вводим вспомогательный счетчик\n",
    "\n",
    "while N > 0:        # проверяемое условие\n",
    "    N //= 10 # целочисленное деление на 10\n",
    "    length += 1\n",
    "# переходим к следующему числу, увеличиваем счетчик на 1 \n",
    "    \n",
    "print(length)       # выводим результат"
   ]
  },
  {
   "cell_type": "markdown",
   "metadata": {},
   "source": [
    "### Задача № 3\n",
    "Используя цикл while, выведите на экран для числа 2 его степени от 0 до 10."
   ]
  },
  {
   "cell_type": "code",
   "execution_count": 3,
   "metadata": {},
   "outputs": [
    {
     "name": "stdout",
     "output_type": "stream",
     "text": [
      "1\n",
      "2\n",
      "4\n",
      "8\n",
      "16\n",
      "32\n",
      "64\n",
      "128\n",
      "256\n",
      "512\n",
      "1024\n"
     ]
    }
   ],
   "source": [
    "n = 0\n",
    "while n <= 10:\n",
    "    print(2**n)\n",
    "    n+=1"
   ]
  },
  {
   "cell_type": "markdown",
   "metadata": {},
   "source": [
    "### Задача № 4\n",
    "Программа по вычислению факториала числа, заданного пользователем"
   ]
  },
  {
   "cell_type": "code",
   "execution_count": 4,
   "metadata": {},
   "outputs": [
    {
     "name": "stdout",
     "output_type": "stream",
     "text": [
      "5\n",
      "120\n"
     ]
    }
   ],
   "source": [
    "chislo = int(input())\n",
    "\n",
    "i = 1\n",
    "f = 1\n",
    "\n",
    "while i <= chislo:\n",
    "    f *= i\n",
    "    i += 1\n",
    "    \n",
    "print(f)"
   ]
  },
  {
   "cell_type": "markdown",
   "metadata": {},
   "source": [
    "### Задача № 5\n",
    "Дано целое число, не меньшее 2. Выведите его наименьший натуральный делитель, отличный от 1."
   ]
  },
  {
   "cell_type": "code",
   "execution_count": 5,
   "metadata": {},
   "outputs": [
    {
     "name": "stdout",
     "output_type": "stream",
     "text": [
      "6\n",
      "2\n"
     ]
    }
   ],
   "source": [
    "n = int(input())\n",
    "\n",
    "i = 2\n",
    "\n",
    "while n%i != 0:\n",
    "    i+=1\n",
    "print(i)"
   ]
  },
  {
   "cell_type": "markdown",
   "metadata": {},
   "source": [
    "А теперь напишем маленькую игру-угадайку. Программа будет загадывать целое число от 1 до 100, а пользователь его угадывать. Как программа будет загадывать число? Выбирать случайным образом из интервала [1, 100] (на самом деле псевдослучайным образом, так как абсолютной случайности не получится, генерирование чисел происходит по фиксированным алгоритмам)."
   ]
  },
  {
   "cell_type": "code",
   "execution_count": 7,
   "metadata": {},
   "outputs": [],
   "source": [
    "from random import randrange # импортируем функию randrange"
   ]
  },
  {
   "cell_type": "code",
   "execution_count": 8,
   "metadata": {},
   "outputs": [],
   "source": [
    "n = randrange(1, 101) # n и есть загаданное число"
   ]
  },
  {
   "cell_type": "markdown",
   "metadata": {},
   "source": [
    "Осталось написать цикл. До тех пор, пока пользователь не угадает число, программа не будет останавливаться, но зато она будет давать подсказки: если введенное пользователем число больше загаданного, то будет выводиться сообщение \"Вы ввели слишком большое число.\", если меньше – \"Вы ввели слишком маленькое число.\""
   ]
  },
  {
   "cell_type": "code",
   "execution_count": 9,
   "metadata": {},
   "outputs": [
    {
     "name": "stdout",
     "output_type": "stream",
     "text": [
      "Ваша попытка: 67\n",
      "Вы ввели слишком большое число.\n",
      "Ваша попытка: 43\n",
      "Вы ввели слишком маленькое число.\n",
      "Ваша попытка: 58\n",
      "Вы ввели слишком маленькое число.\n",
      "Ваша попытка: 60\n",
      "Вы ввели слишком маленькое число.\n",
      "Ваша попытка: 62\n",
      "Вы ввели слишком маленькое число.\n",
      "Ваша попытка: 64\n",
      "Вы выиграли!\n"
     ]
    }
   ],
   "source": [
    "while True:\n",
    "    guess = int(input(\"Ваша попытка: \"))\n",
    "    if guess == n:\n",
    "        print(\"Вы выиграли!\")\n",
    "        break\n",
    "    elif guess > n:\n",
    "        print(\"Вы ввели слишком большое число.\")\n",
    "    else: \n",
    "        print(\"Вы ввели слишком маленькое число.\")"
   ]
  },
  {
   "cell_type": "markdown",
   "metadata": {},
   "source": [
    "В коде выше в `while` мы не написали никакого условия явно, вместо этого мы написали `while True`. Это выражение означает «до тех пор, пока мы не вышли из цикла». В нашем случае это равносильно «до тех пор, пока не столкнулись с `break`», то есть пока наш ответ не совпал с загаданным числом."
   ]
  },
  {
   "cell_type": "code",
   "execution_count": 11,
   "metadata": {},
   "outputs": [
    {
     "name": "stdout",
     "output_type": "stream",
     "text": [
      "1\n",
      "2\n",
      "3\n",
      "4\n",
      "6\n",
      "7\n",
      "8\n",
      "9\n",
      "10\n"
     ]
    }
   ],
   "source": [
    "i = 0                   \n",
    "while(i < 10):              \n",
    "    i = i+1\n",
    "    if(i == 5):\n",
    "        continue\n",
    "    print(i)"
   ]
  },
  {
   "cell_type": "code",
   "execution_count": null,
   "metadata": {},
   "outputs": [],
   "source": []
  }
 ],
 "metadata": {
  "kernelspec": {
   "display_name": "Python 3 (ipykernel)",
   "language": "python",
   "name": "python3"
  },
  "language_info": {
   "codemirror_mode": {
    "name": "ipython",
    "version": 3
   },
   "file_extension": ".py",
   "mimetype": "text/x-python",
   "name": "python",
   "nbconvert_exporter": "python",
   "pygments_lexer": "ipython3",
   "version": "3.9.13"
  }
 },
 "nbformat": 4,
 "nbformat_minor": 2
}
