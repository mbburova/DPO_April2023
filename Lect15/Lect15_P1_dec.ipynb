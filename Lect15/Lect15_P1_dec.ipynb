{
 "cells": [
  {
   "cell_type": "markdown",
   "id": "ef61f540",
   "metadata": {},
   "source": [
    "## Декораторы"
   ]
  },
  {
   "cell_type": "code",
   "execution_count": 3,
   "id": "4ddb0b27",
   "metadata": {},
   "outputs": [],
   "source": [
    "def say_hello(name):\n",
    "    return f\"Привет, {name}!\"\n",
    "\n",
    "def howare(name):\n",
    "    return f\"Эй, {name}, как у тебя дела?\"\n",
    "\n",
    "def greet_margo(greeter_func):\n",
    "    return greeter_func(\"Маргарита\")"
   ]
  },
  {
   "cell_type": "code",
   "execution_count": 4,
   "id": "142cc53d",
   "metadata": {},
   "outputs": [
    {
     "data": {
      "text/plain": [
       "'Привет, Маргарита!'"
      ]
     },
     "execution_count": 4,
     "metadata": {},
     "output_type": "execute_result"
    }
   ],
   "source": [
    "greet_margo(say_hello)"
   ]
  },
  {
   "cell_type": "code",
   "execution_count": 5,
   "id": "ebb25c91",
   "metadata": {},
   "outputs": [
    {
     "data": {
      "text/plain": [
       "'Эй, Маргарита, как у тебя дела?'"
      ]
     },
     "execution_count": 5,
     "metadata": {},
     "output_type": "execute_result"
    }
   ],
   "source": [
    "greet_margo(howare)"
   ]
  },
  {
   "cell_type": "markdown",
   "id": "50d780b1",
   "metadata": {},
   "source": [
    "Функции, определенные внутри других функций, называются внутренними (inner functions). Пример функции с двумя внутренними функциями:"
   ]
  },
  {
   "cell_type": "code",
   "execution_count": 6,
   "id": "910130c8",
   "metadata": {},
   "outputs": [],
   "source": [
    "def parent():\n",
    "    print(\"Привет из функции parent().\")\n",
    "\n",
    "    def first_child():\n",
    "        print(\"Привет из функции first_child().\")\n",
    "\n",
    "    def second_child():\n",
    "        print(\"Привет из функции second_child().\")\n",
    "\n",
    "    second_child()\n",
    "    first_child()"
   ]
  },
  {
   "cell_type": "code",
   "execution_count": 7,
   "id": "997d700b",
   "metadata": {},
   "outputs": [
    {
     "name": "stdout",
     "output_type": "stream",
     "text": [
      "Привет из функции parent().\n",
      "Привет из функции second_child().\n",
      "Привет из функции first_child().\n"
     ]
    }
   ],
   "source": [
    "parent()"
   ]
  },
  {
   "cell_type": "markdown",
   "id": "ebc47972",
   "metadata": {},
   "source": [
    "Внутренние функции не определены, пока не вызвана родительская функция. То есть они локально ограничены parent() и существуют только внутри нее, как локальные переменные. При вызове функции first_child() за пределами parent() мы получим ошибку:"
   ]
  },
  {
   "cell_type": "code",
   "execution_count": 8,
   "id": "f18643c7",
   "metadata": {},
   "outputs": [
    {
     "ename": "NameError",
     "evalue": "name 'first_child' is not defined",
     "output_type": "error",
     "traceback": [
      "\u001b[1;31m---------------------------------------------------------------------------\u001b[0m",
      "\u001b[1;31mNameError\u001b[0m                                 Traceback (most recent call last)",
      "\u001b[1;32m~\\AppData\\Local\\Temp\\ipykernel_29988\\2276402280.py\u001b[0m in \u001b[0;36m<module>\u001b[1;34m\u001b[0m\n\u001b[1;32m----> 1\u001b[1;33m \u001b[0mfirst_child\u001b[0m\u001b[1;33m(\u001b[0m\u001b[1;33m)\u001b[0m\u001b[1;33m\u001b[0m\u001b[1;33m\u001b[0m\u001b[0m\n\u001b[0m",
      "\u001b[1;31mNameError\u001b[0m: name 'first_child' is not defined"
     ]
    }
   ],
   "source": [
    "first_child()"
   ]
  },
  {
   "cell_type": "markdown",
   "id": "c0e817b2",
   "metadata": {},
   "source": [
    "Python позволяет использовать функции в качестве возвращаемых значений. В следующем примере возвращается одна из внутренних функций внешней функции parent():"
   ]
  },
  {
   "cell_type": "code",
   "execution_count": 11,
   "id": "2403a9fd",
   "metadata": {},
   "outputs": [],
   "source": [
    "def parent(num):\n",
    "    def first_child():\n",
    "        return \"Привет, меня зовут Маргарита.\"\n",
    "\n",
    "    def second_child():\n",
    "        return \"Зови меня Мария.\"\n",
    "\n",
    "    if num == 1:\n",
    "        return first_child\n",
    "    else:\n",
    "        return second_child"
   ]
  },
  {
   "cell_type": "code",
   "execution_count": 13,
   "id": "20d59aa2",
   "metadata": {},
   "outputs": [
    {
     "data": {
      "text/plain": [
       "'Привет, меня зовут Маргарита.'"
      ]
     },
     "execution_count": 13,
     "metadata": {},
     "output_type": "execute_result"
    }
   ],
   "source": [
    "first = parent(1)\n",
    "first()"
   ]
  },
  {
   "cell_type": "markdown",
   "id": "a60ac6ed",
   "metadata": {},
   "source": [
    "## Простые декораторы"
   ]
  },
  {
   "cell_type": "code",
   "execution_count": 14,
   "id": "abd52176",
   "metadata": {},
   "outputs": [],
   "source": [
    "def my_decorator(func):\n",
    "    def wrapper():\n",
    "        print(\"До вызова функции.\")\n",
    "        func()\n",
    "        print(\"После вызова функции.\")\n",
    "    return wrapper\n",
    "\n",
    "def say_whee():\n",
    "    print(\"Ура!\")\n",
    "\n",
    "say_whee = my_decorator(say_whee)"
   ]
  },
  {
   "cell_type": "code",
   "execution_count": 15,
   "id": "cae6226c",
   "metadata": {},
   "outputs": [
    {
     "name": "stdout",
     "output_type": "stream",
     "text": [
      "До вызова функции.\n",
      "Ура!\n",
      "После вызова функции.\n"
     ]
    }
   ],
   "source": [
    "say_whee()"
   ]
  },
  {
   "cell_type": "code",
   "execution_count": 16,
   "id": "f15dff7a",
   "metadata": {},
   "outputs": [],
   "source": [
    "def not_during_the_night(func):\n",
    "    def wrapper():\n",
    "        if 8 <= datetime.now().hour < 22:\n",
    "            func()\n",
    "        else:\n",
    "            pass  # Тише, соседи спят!\n",
    "    return wrapper\n",
    "\n",
    "def say_whee():\n",
    "    print(\"Ура!\")\n",
    "\n",
    "say_whee = not_during_the_night(say_whee)"
   ]
  },
  {
   "cell_type": "code",
   "execution_count": 17,
   "id": "4ef4ba65",
   "metadata": {},
   "outputs": [],
   "source": [
    "def my_decorator(func):\n",
    "    def wrapper():\n",
    "        print(\"До вызова функции.\")\n",
    "        func()\n",
    "        print(\"После вызова функции.\")\n",
    "    return wrapper\n",
    "\n",
    "@my_decorator\n",
    "def say_whee():\n",
    "    print(\"Ура!\")"
   ]
  },
  {
   "cell_type": "code",
   "execution_count": 18,
   "id": "7776b933",
   "metadata": {},
   "outputs": [
    {
     "name": "stdout",
     "output_type": "stream",
     "text": [
      "До вызова функции.\n",
      "Ура!\n",
      "После вызова функции.\n"
     ]
    }
   ],
   "source": [
    "say_whee()"
   ]
  },
  {
   "cell_type": "markdown",
   "id": "8916afe7",
   "metadata": {},
   "source": [
    "### Примеры"
   ]
  },
  {
   "cell_type": "code",
   "execution_count": 28,
   "id": "9f704426",
   "metadata": {},
   "outputs": [],
   "source": [
    "import functools\n",
    "import time\n",
    "\n",
    "def timer(func):\n",
    "    \"\"\"Выводит время выполнения декорируемой функции\"\"\"\n",
    "    @functools.wraps(func)\n",
    "    def wrapper_timer(*args, **kwargs):\n",
    "        start_time = time.perf_counter() \n",
    "        value = func(*args, **kwargs)\n",
    "        end_time = time.perf_counter()\n",
    "        run_time = end_time - start_time\n",
    "        print(f\"Функция {func.__name__!r} выполнена за {run_time:.4f} с\")\n",
    "        return value\n",
    "    return wrapper_timer\n",
    "\n",
    "@timer\n",
    "def waste_some_time(num_times):\n",
    "    for _ in range(num_times):\n",
    "        sum([i**2 for i in range(10000)])"
   ]
  },
  {
   "cell_type": "code",
   "execution_count": 29,
   "id": "87da4a66",
   "metadata": {},
   "outputs": [
    {
     "name": "stdout",
     "output_type": "stream",
     "text": [
      "Функция 'waste_some_time' выполнена за 3.2160 с\n"
     ]
    }
   ],
   "source": [
    "waste_some_time(999)"
   ]
  },
  {
   "cell_type": "code",
   "execution_count": 30,
   "id": "433e5f51",
   "metadata": {},
   "outputs": [],
   "source": [
    "import functools\n",
    "\n",
    "def debug(func):\n",
    "    @functools.wraps(func)\n",
    "    def wrapper_debug(*args, **kwargs):\n",
    "        args_repr = [repr(a) for a in args]                      # 1\n",
    "        kwargs_repr = [f\"{k}={v!r}\" for k, v in kwargs.items()]  # 2\n",
    "        signature = \", \".join(args_repr + kwargs_repr)           # 3\n",
    "        print(f\"Вызываем {func.__name__}({signature})\")\n",
    "        value = func(*args, **kwargs)\n",
    "        print(f\"{func.__name__!r} возвращает {value!r}\")         # 4\n",
    "        return value\n",
    "    return wrapper_debug"
   ]
  },
  {
   "cell_type": "code",
   "execution_count": 32,
   "id": "c46b788c",
   "metadata": {},
   "outputs": [],
   "source": [
    "@debug\n",
    "def make_greeting(name, age=None):\n",
    "    if age is None:\n",
    "        return f\"Привет, {name}!\"\n",
    "    else:\n",
    "        return f\"Ого, {name}! Тебе уже {age}, как ты быстро растёшь!\""
   ]
  },
  {
   "cell_type": "code",
   "execution_count": 33,
   "id": "631e0be8",
   "metadata": {},
   "outputs": [
    {
     "name": "stdout",
     "output_type": "stream",
     "text": [
      "Вызываем make_greeting('Маргарита')\n",
      "'make_greeting' возвращает 'Привет, Маргарита!'\n"
     ]
    },
    {
     "data": {
      "text/plain": [
       "'Привет, Маргарита!'"
      ]
     },
     "execution_count": 33,
     "metadata": {},
     "output_type": "execute_result"
    }
   ],
   "source": [
    "make_greeting(\"Маргарита\")"
   ]
  },
  {
   "cell_type": "code",
   "execution_count": 35,
   "id": "454c5b77",
   "metadata": {},
   "outputs": [],
   "source": [
    "import math\n",
    "math.factorial = debug(math.factorial)\n",
    "\n",
    "def approximate_e(terms=18):\n",
    "    return sum(1 / math.factorial(n) for n in range(terms))"
   ]
  },
  {
   "cell_type": "code",
   "execution_count": 36,
   "id": "251dfa56",
   "metadata": {},
   "outputs": [
    {
     "name": "stdout",
     "output_type": "stream",
     "text": [
      "Вызываем factorial(0)\n",
      "'factorial' возвращает 1\n",
      "Вызываем factorial(1)\n",
      "'factorial' возвращает 1\n",
      "Вызываем factorial(2)\n",
      "'factorial' возвращает 2\n",
      "Вызываем factorial(3)\n",
      "'factorial' возвращает 6\n",
      "Вызываем factorial(4)\n",
      "'factorial' возвращает 24\n"
     ]
    },
    {
     "data": {
      "text/plain": [
       "2.708333333333333"
      ]
     },
     "execution_count": 36,
     "metadata": {},
     "output_type": "execute_result"
    }
   ],
   "source": [
    "approximate_e(5)"
   ]
  },
  {
   "cell_type": "code",
   "execution_count": 37,
   "id": "9eb5addc",
   "metadata": {},
   "outputs": [],
   "source": [
    "import time\n",
    "\n",
    "def slow_down(func):\n",
    "    \"\"\"Ждёт 1 секунду, прежде чем вызвать переданную функцию\"\"\"\n",
    "    @functools.wraps(func)\n",
    "    def wrapper_slow_down(*args, **kwargs):\n",
    "        time.sleep(1)\n",
    "        return func(*args, **kwargs)\n",
    "    return wrapper_slow_down\n",
    "\n",
    "@slow_down\n",
    "def countdown(from_number):\n",
    "    if from_number < 1:\n",
    "        print(\"Поехали!\")\n",
    "    else:\n",
    "        print(from_number)\n",
    "        countdown(from_number - 1)"
   ]
  },
  {
   "cell_type": "code",
   "execution_count": 38,
   "id": "f7e2d4e1",
   "metadata": {},
   "outputs": [
    {
     "name": "stdout",
     "output_type": "stream",
     "text": [
      "3\n",
      "2\n",
      "1\n",
      "Поехали!\n"
     ]
    }
   ],
   "source": [
    "countdown(3)"
   ]
  },
  {
   "cell_type": "code",
   "execution_count": null,
   "id": "ceee1a6e",
   "metadata": {},
   "outputs": [],
   "source": []
  }
 ],
 "metadata": {
  "kernelspec": {
   "display_name": "Python 3 (ipykernel)",
   "language": "python",
   "name": "python3"
  },
  "language_info": {
   "codemirror_mode": {
    "name": "ipython",
    "version": 3
   },
   "file_extension": ".py",
   "mimetype": "text/x-python",
   "name": "python",
   "nbconvert_exporter": "python",
   "pygments_lexer": "ipython3",
   "version": "3.9.13"
  }
 },
 "nbformat": 4,
 "nbformat_minor": 5
}
